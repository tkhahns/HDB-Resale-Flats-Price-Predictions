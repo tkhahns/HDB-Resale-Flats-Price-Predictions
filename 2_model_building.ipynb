{
  "cells": [
    {
      "cell_type": "markdown",
      "source": [
        "# Introduction of Second Notebook"
      ],
      "metadata": {
        "id": "xPVxVkKyF4hs"
      }
    },
    {
      "cell_type": "markdown",
      "source": [
        "This notebook is the Second Notebook of the 2 part series of our CS3244 Project. This notebook mainly covers the Data Preprocessing steps that was used to prepare the data for model fitting and the testing of multiple Machine Learning Models to do our Resale Flat Price Predictions."
      ],
      "metadata": {
        "id": "9ENA0Q2PF6ou"
      }
    },
    {
      "cell_type": "markdown",
      "source": [
        "# Data Preprocessing"
      ],
      "metadata": {
        "id": "D6QZsalpFyNK"
      }
    },
    {
      "cell_type": "code",
      "execution_count": null,
      "metadata": {
        "id": "bfmRPuaBPNVh"
      },
      "outputs": [],
      "source": [
        "import pandas as pd\n",
        "import numpy as np\n",
        "import matplotlib.pyplot as plt\n",
        "import seaborn as sns\n",
        "\n",
        "import datetime\n",
        "from scipy import stats\n",
        "\n",
        "# Preprocessing\n",
        "from sklearn.pipeline import Pipeline\n",
        "from sklearn.compose import ColumnTransformer\n",
        "from sklearn.preprocessing import OneHotEncoder, StandardScaler\n",
        "\n",
        "# Models\n",
        "from sklearn.linear_model import LinearRegression, LassoCV, RidgeCV, ElasticNet, ElasticNetCV\n",
        "from sklearn.impute import SimpleImputer\n",
        "from sklearn.metrics import mean_squared_error, mean_absolute_error, mean_absolute_percentage_error\n",
        "from sklearn.feature_selection import SelectKBest, f_regression, RFE\n",
        "from sklearn.preprocessing import StandardScaler, MinMaxScaler\n",
        "from sklearn.model_selection import ParameterGrid, train_test_split, cross_val_score, cross_val_predict\n",
        "from sklearn.linear_model import Ridge, Lasso\n",
        "from sklearn.metrics import r2_score\n",
        "from sklearn.tree import DecisionTreeRegressor\n",
        "from sklearn.ensemble import RandomForestRegressor\n",
        "from sklearn.model_selection import GridSearchCV\n",
        "from tensorflow.keras.models import Sequential\n",
        "from tensorflow.keras.layers import Dense, Dropout\n",
        "from lightgbm import LGBMRegressor"
      ]
    },
    {
      "cell_type": "code",
      "execution_count": null,
      "metadata": {
        "id": "FrSRtJ6HQ0x7",
        "colab": {
          "base_uri": "https://localhost:8080/"
        },
        "outputId": "1faa1b30-bf1e-438d-cb2c-c9b86b64d3e6"
      },
      "outputs": [
        {
          "output_type": "stream",
          "name": "stdout",
          "text": [
            "Drive already mounted at /content/drive; to attempt to forcibly remount, call drive.mount(\"/content/drive\", force_remount=True).\n"
          ]
        }
      ],
      "source": [
        "from google.colab import drive\n",
        "drive.mount('/content/drive')"
      ]
    },
    {
      "cell_type": "code",
      "execution_count": null,
      "metadata": {
        "id": "ZdQAPSB3RdN1"
      },
      "outputs": [],
      "source": [
        "df_train = pd.read_csv(\"df_train.csv\", index_col = 0)\n",
        "df_test = pd.read_csv(\"df_test.csv\", index_col = 0)"
      ]
    },
    {
      "cell_type": "code",
      "execution_count": null,
      "metadata": {
        "colab": {
          "base_uri": "https://localhost:8080/"
        },
        "id": "7KAKtjJsY9is",
        "outputId": "1ae820e0-daa0-40ca-bde1-8c97de8bc244"
      },
      "outputs": [
        {
          "output_type": "stream",
          "name": "stdout",
          "text": [
            "<class 'pandas.core.frame.DataFrame'>\n",
            "Index: 160858 entries, 0 to 160857\n",
            "Data columns (total 28 columns):\n",
            " #   Column                                 Non-Null Count   Dtype  \n",
            "---  ------                                 --------------   -----  \n",
            " 0   month                                  160858 non-null  object \n",
            " 1   town                                   160858 non-null  object \n",
            " 2   flat_type                              160858 non-null  object \n",
            " 3   block                                  160858 non-null  object \n",
            " 4   street_name                            160858 non-null  object \n",
            " 5   storey_range                           160858 non-null  object \n",
            " 6   floor_area_sqm                         160858 non-null  float64\n",
            " 7   flat_model                             160858 non-null  object \n",
            " 8   lease_commence_date                    160858 non-null  int64  \n",
            " 9   remaining_lease                        160858 non-null  object \n",
            " 10  resale_price                           160858 non-null  float64\n",
            " 11  latitude                               160858 non-null  float64\n",
            " 12  longitude                              160858 non-null  float64\n",
            " 13  shortest_distance_to_closest_mrt (km)  160858 non-null  float64\n",
            " 14  closest_mrt                            160858 non-null  object \n",
            " 15  max_floor_lvl                          160858 non-null  int64  \n",
            " 16  year_completed                         160858 non-null  int64  \n",
            " 17  residential                            160858 non-null  object \n",
            " 18  commercial                             160858 non-null  object \n",
            " 19  market_hawker                          160858 non-null  object \n",
            " 20  miscellaneous                          160858 non-null  object \n",
            " 21  multistorey_carpark                    160858 non-null  object \n",
            " 22  precinct_pavilion                      160858 non-null  object \n",
            " 23  bldg_contract_town                     160858 non-null  object \n",
            " 24  total_dwelling_units                   160858 non-null  int64  \n",
            " 25  is_elite_closest_pri_sch               160858 non-null  bool   \n",
            " 26  is_elite_closest_sec_sch               160858 non-null  bool   \n",
            " 27  is_elite_closest_mixed_sch             160858 non-null  bool   \n",
            "dtypes: bool(3), float64(5), int64(4), object(16)\n",
            "memory usage: 32.4+ MB\n"
          ]
        }
      ],
      "source": [
        "df_train.info()"
      ]
    },
    {
      "cell_type": "code",
      "execution_count": null,
      "metadata": {
        "id": "ZFLHSGMGQv8G"
      },
      "outputs": [],
      "source": [
        "def drop_cols(df):\n",
        "    # Drop unnecessary columns\n",
        "    df.drop(['bldg_contract_town', 'latitude', 'longitude', 'lease_commence_date'], axis=1, inplace=True)\n",
        "    return df"
      ]
    },
    {
      "cell_type": "code",
      "execution_count": null,
      "metadata": {
        "id": "4dfacWe9PNVl"
      },
      "outputs": [],
      "source": [
        "df_train_filtered = drop_cols(df_train)\n",
        "df_test_filtered = drop_cols(df_test)"
      ]
    },
    {
      "cell_type": "code",
      "source": [
        "df_train['flat_type'].unique()"
      ],
      "metadata": {
        "colab": {
          "base_uri": "https://localhost:8080/"
        },
        "id": "GSVwpFAEyoI5",
        "outputId": "f946719f-29fc-4fa5-c008-af1c0d8757c8"
      },
      "execution_count": null,
      "outputs": [
        {
          "output_type": "execute_result",
          "data": {
            "text/plain": [
              "array(['2 ROOM', '3 ROOM', '4 ROOM', '5 ROOM', 'EXECUTIVE', '1 ROOM',\n",
              "       'MULTI-GENERATION'], dtype=object)"
            ]
          },
          "metadata": {},
          "execution_count": 80
        }
      ]
    },
    {
      "cell_type": "markdown",
      "source": [
        "## Validating if Categorical Columns in Test Set are found in Train Set"
      ],
      "metadata": {
        "id": "HmQqnAt44aMx"
      }
    },
    {
      "cell_type": "code",
      "source": [
        "# Initialize a dictionary to store categories only in the test set along with their corresponding column names\n",
        "categories_only_in_test = {}\n",
        "\n",
        "# Loop through each categorical column\n",
        "for column_name in df_train_filtered.select_dtypes(include='object').columns:\n",
        "    # Get unique categories in the train set\n",
        "    train_categories = set(df_train_filtered[column_name])\n",
        "\n",
        "    # Get unique categories in the test set\n",
        "    test_categories = set(df_test_filtered[column_name])\n",
        "\n",
        "    # Find categories present in the test set but not in the train set\n",
        "    categories_only_in_test[column_name] = test_categories - train_categories\n",
        "\n",
        "# Print categories in the test set that do not belong to the train set along with their corresponding column names\n",
        "print(\"Categories in test set that do not belong to train set:\")\n",
        "for column_name, categories in categories_only_in_test.items():\n",
        "    print(\"Column:\", column_name)\n",
        "    print(\"Categories:\", categories)\n",
        "    print(\"\\n\")"
      ],
      "metadata": {
        "colab": {
          "base_uri": "https://localhost:8080/"
        },
        "id": "6bbnW4wM4gFl",
        "outputId": "1cec5120-4763-41fe-fd31-fac668e4eaf4"
      },
      "execution_count": null,
      "outputs": [
        {
          "output_type": "stream",
          "name": "stdout",
          "text": [
            "Categories in test set that do not belong to train set:\n",
            "Column: month\n",
            "Categories: {'2024-02-01', '2023-10-01', '2023-11-01', '2024-03-01', '2024-01-01', '2023-12-01', '2023-09-01'}\n",
            "\n",
            "\n",
            "Column: town\n",
            "Categories: set()\n",
            "\n",
            "\n",
            "Column: flat_type\n",
            "Categories: set()\n",
            "\n",
            "\n",
            "Column: block\n",
            "Categories: {'182A', '996C', '606A', '462A', '182B', '460A', '438C', '606D', '605D', '461C', '996B', '605A', '462C', '605B', '323D', '605C', '995A', '461B', '991B', '860B', '999B', '437A', '995C', '462B', '995B', '606C', '462D', '998A', '606B', '996A'}\n",
            "\n",
            "\n",
            "Column: street_name\n",
            "Categories: {'YISHUN ST 43', 'TAMPINES ST 61'}\n",
            "\n",
            "\n",
            "Column: storey_range\n",
            "Categories: set()\n",
            "\n",
            "\n",
            "Column: flat_model\n",
            "Categories: set()\n",
            "\n",
            "\n",
            "Column: remaining_lease\n",
            "Categories: {'41 years 09 months', '42 years 02 months', '42 years 04 months', '41 years 11 months', '42 years 03 months', '42 years 01 month', '42 years'}\n",
            "\n",
            "\n",
            "Column: closest_mrt\n",
            "Categories: set()\n",
            "\n",
            "\n",
            "Column: residential\n",
            "Categories: set()\n",
            "\n",
            "\n",
            "Column: commercial\n",
            "Categories: set()\n",
            "\n",
            "\n",
            "Column: market_hawker\n",
            "Categories: set()\n",
            "\n",
            "\n",
            "Column: miscellaneous\n",
            "Categories: set()\n",
            "\n",
            "\n",
            "Column: multistorey_carpark\n",
            "Categories: set()\n",
            "\n",
            "\n",
            "Column: precinct_pavilion\n",
            "Categories: set()\n",
            "\n",
            "\n"
          ]
        }
      ]
    },
    {
      "cell_type": "markdown",
      "metadata": {
        "id": "gcJ7O79RUP-y"
      },
      "source": [
        "## Storey Range"
      ]
    },
    {
      "cell_type": "markdown",
      "metadata": {
        "id": "32qXbhZDUTez"
      },
      "source": [
        "We observe that the storey range values are categorical data. Converting them into numerical data by assigning the median value of each range can provide a more meaningful representation. For instance, for the range '10 TO 12', the median value would be 11. Similarly, '01 TO 03' would be represented as 2, '04 TO 06' as 5, and so forth. This transformation enables us to utilize the ordinal nature of the storey ranges in our analysis effectively"
      ]
    },
    {
      "cell_type": "code",
      "execution_count": null,
      "metadata": {
        "colab": {
          "base_uri": "https://localhost:8080/"
        },
        "id": "Qvckjn4xUMmo",
        "outputId": "905b8102-946d-4df9-f636-12cadfc0f30c"
      },
      "outputs": [
        {
          "output_type": "execute_result",
          "data": {
            "text/plain": [
              "array(['10 TO 12', '01 TO 03', '04 TO 06', '07 TO 09', '13 TO 15',\n",
              "       '19 TO 21', '22 TO 24', '16 TO 18', '34 TO 36', '28 TO 30',\n",
              "       '37 TO 39', '49 TO 51', '25 TO 27', '40 TO 42', '31 TO 33',\n",
              "       '46 TO 48', '43 TO 45'], dtype=object)"
            ]
          },
          "metadata": {},
          "execution_count": 82
        }
      ],
      "source": [
        "df_train_filtered['storey_range'].unique()"
      ]
    },
    {
      "cell_type": "code",
      "execution_count": null,
      "metadata": {
        "id": "IgOJfG62PNVl"
      },
      "outputs": [],
      "source": [
        "def get_median_storey_range(df):\n",
        "    df['storey_range'] = df['storey_range'].str.split(' TO ').apply(lambda x: (int(x[1]) + int(x[0])) / 2)\n",
        "    return df"
      ]
    },
    {
      "cell_type": "code",
      "execution_count": null,
      "metadata": {
        "id": "9FBY61OFaJHL"
      },
      "outputs": [],
      "source": [
        "df_train_preprocessed = get_median_storey_range(df_train_filtered)\n",
        "df_test_preprocessed = get_median_storey_range(df_test_filtered)"
      ]
    },
    {
      "cell_type": "markdown",
      "metadata": {
        "id": "thCfB0kmUwkh"
      },
      "source": [
        "## Mapping Y/N columns to Boolean"
      ]
    },
    {
      "cell_type": "code",
      "execution_count": null,
      "metadata": {
        "id": "GMfuevD5S3Yo"
      },
      "outputs": [],
      "source": [
        "# Encode columns with 'Y'/'N' values\n",
        "def map_yn_to_bool(df):\n",
        "    yn_cols = ['residential', 'commercial', 'market_hawker', 'miscellaneous', 'multistorey_carpark', 'precinct_pavilion']\n",
        "\n",
        "    # Map to True / False\n",
        "    for col in yn_cols:\n",
        "        df[col] = df[col].replace({'Y': True, 'N': False})\n",
        "\n",
        "    return df"
      ]
    },
    {
      "cell_type": "code",
      "execution_count": null,
      "metadata": {
        "id": "BQYrbN2gaUuL"
      },
      "outputs": [],
      "source": [
        "df_train_preprocessed = map_yn_to_bool(df_train_preprocessed)\n",
        "df_test_preprocessed = map_yn_to_bool(df_test_preprocessed)"
      ]
    },
    {
      "cell_type": "markdown",
      "metadata": {
        "id": "8Mg-3blLVMtO"
      },
      "source": [
        "## Converting the least commencement date to remaining lifespan of house"
      ]
    },
    {
      "cell_type": "markdown",
      "metadata": {
        "id": "XStp7d41Xliw"
      },
      "source": [
        "As the current remaining_lease column format is in categorical form, we will be converting it into a the remaining lifespan of the flat in months so that we can fit it as a numerical column."
      ]
    },
    {
      "cell_type": "code",
      "execution_count": null,
      "metadata": {
        "colab": {
          "base_uri": "https://localhost:8080/"
        },
        "id": "F3KjH2OfXeN9",
        "outputId": "0d536b06-b3e8-4160-f1e9-5d57f0646811"
      },
      "outputs": [
        {
          "output_type": "execute_result",
          "data": {
            "text/plain": [
              "'61 years 04 months'"
            ],
            "application/vnd.google.colaboratory.intrinsic+json": {
              "type": "string"
            }
          },
          "metadata": {},
          "execution_count": 87
        }
      ],
      "source": [
        "df_train_filtered['remaining_lease'].unique()[0]"
      ]
    },
    {
      "cell_type": "code",
      "execution_count": null,
      "metadata": {
        "id": "eLLJgtoEVG8m"
      },
      "outputs": [],
      "source": [
        "def convert_remaining_lease(df):\n",
        "    def convert(x):\n",
        "        parts = x.split()\n",
        "        years = int(parts[0])\n",
        "        months = int(parts[2]) if 'months' in x else 0\n",
        "        total_months = years * 12 + months\n",
        "        return total_months\n",
        "\n",
        "    df['remaining_lease'] = df['remaining_lease'].apply(convert)\n",
        "\n",
        "    return df"
      ]
    },
    {
      "cell_type": "code",
      "execution_count": null,
      "metadata": {
        "id": "gbiKgmMuaVvF"
      },
      "outputs": [],
      "source": [
        "df_train_preprocessed = convert_remaining_lease(df_train_preprocessed)\n",
        "df_test_preprocessed = convert_remaining_lease(df_test_preprocessed)"
      ]
    },
    {
      "cell_type": "markdown",
      "metadata": {
        "id": "vCVpVMibW71o"
      },
      "source": [
        "## Converting transaction date into Year and Month Column"
      ]
    },
    {
      "cell_type": "markdown",
      "metadata": {
        "id": "Wp8Dit8lYUD9"
      },
      "source": [
        "The current format of the date of transactions makes it difficult for us to process it in our model. Hence we will be splitting the transaction date into a Year column and Month column."
      ]
    },
    {
      "cell_type": "code",
      "execution_count": null,
      "metadata": {
        "colab": {
          "base_uri": "https://localhost:8080/"
        },
        "id": "oAqUJvoKYPxX",
        "outputId": "78b70b25-1032-4138-f703-6ecbd31bc3f1"
      },
      "outputs": [
        {
          "output_type": "execute_result",
          "data": {
            "text/plain": [
              "array(['2017-01-01', '2017-02-01', '2017-03-01', '2017-04-01',\n",
              "       '2017-05-01', '2017-06-01', '2017-07-01', '2017-08-01',\n",
              "       '2017-09-01', '2017-10-01', '2017-11-01', '2017-12-01',\n",
              "       '2018-01-01', '2018-02-01', '2018-03-01', '2018-04-01',\n",
              "       '2018-05-01', '2018-06-01', '2018-07-01', '2018-08-01',\n",
              "       '2018-09-01', '2018-10-01', '2018-11-01', '2018-12-01',\n",
              "       '2019-01-01', '2019-02-01', '2019-03-01', '2019-04-01',\n",
              "       '2019-05-01', '2019-06-01', '2019-07-01', '2019-08-01',\n",
              "       '2019-09-01', '2019-10-01', '2019-11-01', '2019-12-01',\n",
              "       '2020-01-01', '2020-02-01', '2020-03-01', '2020-04-01',\n",
              "       '2020-05-01', '2020-06-01', '2020-07-01', '2020-08-01',\n",
              "       '2020-09-01', '2020-10-01', '2020-11-01', '2020-12-01',\n",
              "       '2021-01-01', '2021-02-01', '2021-03-01', '2021-04-01',\n",
              "       '2021-05-01', '2021-06-01', '2021-11-01', '2021-07-01',\n",
              "       '2021-08-01', '2021-09-01', '2021-10-01', '2021-12-01',\n",
              "       '2022-01-01', '2022-02-01', '2022-03-01', '2022-04-01',\n",
              "       '2022-05-01', '2022-06-01', '2022-07-01', '2022-08-01',\n",
              "       '2022-09-01', '2022-10-01', '2022-11-01', '2022-12-01',\n",
              "       '2023-01-01', '2023-02-01', '2023-03-01', '2023-04-01',\n",
              "       '2023-05-01', '2023-06-01', '2023-07-01', '2023-08-01'],\n",
              "      dtype=object)"
            ]
          },
          "metadata": {},
          "execution_count": 90
        }
      ],
      "source": [
        "df_train_filtered['month'].unique()"
      ]
    },
    {
      "cell_type": "code",
      "execution_count": null,
      "metadata": {
        "id": "taApInnPXD-v"
      },
      "outputs": [],
      "source": [
        "def convert_transaction_date(df):\n",
        "    date_of_transaction = pd.to_datetime(df['month'])\n",
        "\n",
        "    # Create Year and Month Columns\n",
        "    df['year'] = date_of_transaction.dt.year\n",
        "    df['month_numeric'] = date_of_transaction.dt.month\n",
        "\n",
        "    # Drop original transaction date column\n",
        "    df.drop('month', axis = 1, inplace = True)\n",
        "    return df"
      ]
    },
    {
      "cell_type": "code",
      "execution_count": null,
      "metadata": {
        "id": "v4IG-AH5aW5w"
      },
      "outputs": [],
      "source": [
        "df_train_preprocessed = convert_transaction_date(df_train_preprocessed)\n",
        "df_test_preprocessed = convert_transaction_date(df_test_preprocessed)"
      ]
    },
    {
      "cell_type": "code",
      "execution_count": null,
      "metadata": {
        "colab": {
          "base_uri": "https://localhost:8080/"
        },
        "id": "KipBaB56a1C4",
        "outputId": "20fac529-6bde-4caf-9136-af2bc86d704e"
      },
      "outputs": [
        {
          "output_type": "execute_result",
          "data": {
            "text/plain": [
              "         town flat_type block        street_name  storey_range  \\\n",
              "0  ANG MO KIO    2 ROOM   406  ANG MO KIO AVE 10          11.0   \n",
              "1  ANG MO KIO    3 ROOM   108   ANG MO KIO AVE 4           2.0   \n",
              "2  ANG MO KIO    3 ROOM   602   ANG MO KIO AVE 5           2.0   \n",
              "3  ANG MO KIO    3 ROOM   465  ANG MO KIO AVE 10           5.0   \n",
              "4  ANG MO KIO    3 ROOM   601   ANG MO KIO AVE 5           2.0   \n",
              "\n",
              "   floor_area_sqm      flat_model  remaining_lease  resale_price  \\\n",
              "0            44.0        Improved              736      232000.0   \n",
              "1            67.0  New Generation              727      250000.0   \n",
              "2            67.0  New Generation              749      262000.0   \n",
              "3            68.0  New Generation              744      265000.0   \n",
              "4            67.0  New Generation              749      265000.0   \n",
              "\n",
              "   shortest_distance_to_closest_mrt (km)  ... market_hawker  miscellaneous  \\\n",
              "0                               1.007304  ...         False          False   \n",
              "1                               1.271398  ...         False          False   \n",
              "2                               1.069720  ...         False          False   \n",
              "3                               0.946884  ...         False          False   \n",
              "4                               1.092577  ...         False           True   \n",
              "\n",
              "   multistorey_carpark  precinct_pavilion  total_dwelling_units  \\\n",
              "0                False              False                   220   \n",
              "1                False              False                   122   \n",
              "2                False              False                   150   \n",
              "3                False              False                   206   \n",
              "4                False              False                   152   \n",
              "\n",
              "   is_elite_closest_pri_sch  is_elite_closest_sec_sch  \\\n",
              "0                     False                     False   \n",
              "1                     False                     False   \n",
              "2                     False                     False   \n",
              "3                     False                     False   \n",
              "4                     False                     False   \n",
              "\n",
              "   is_elite_closest_mixed_sch  year  month_numeric  \n",
              "0                        True  2017              1  \n",
              "1                        True  2017              1  \n",
              "2                        True  2017              1  \n",
              "3                        True  2017              1  \n",
              "4                        True  2017              1  \n",
              "\n",
              "[5 rows x 25 columns]"
            ],
            "text/html": [
              "\n",
              "  <div id=\"df-a085cff9-a355-488b-a440-40dc9d2eae02\" class=\"colab-df-container\">\n",
              "    <div>\n",
              "<style scoped>\n",
              "    .dataframe tbody tr th:only-of-type {\n",
              "        vertical-align: middle;\n",
              "    }\n",
              "\n",
              "    .dataframe tbody tr th {\n",
              "        vertical-align: top;\n",
              "    }\n",
              "\n",
              "    .dataframe thead th {\n",
              "        text-align: right;\n",
              "    }\n",
              "</style>\n",
              "<table border=\"1\" class=\"dataframe\">\n",
              "  <thead>\n",
              "    <tr style=\"text-align: right;\">\n",
              "      <th></th>\n",
              "      <th>town</th>\n",
              "      <th>flat_type</th>\n",
              "      <th>block</th>\n",
              "      <th>street_name</th>\n",
              "      <th>storey_range</th>\n",
              "      <th>floor_area_sqm</th>\n",
              "      <th>flat_model</th>\n",
              "      <th>remaining_lease</th>\n",
              "      <th>resale_price</th>\n",
              "      <th>shortest_distance_to_closest_mrt (km)</th>\n",
              "      <th>...</th>\n",
              "      <th>market_hawker</th>\n",
              "      <th>miscellaneous</th>\n",
              "      <th>multistorey_carpark</th>\n",
              "      <th>precinct_pavilion</th>\n",
              "      <th>total_dwelling_units</th>\n",
              "      <th>is_elite_closest_pri_sch</th>\n",
              "      <th>is_elite_closest_sec_sch</th>\n",
              "      <th>is_elite_closest_mixed_sch</th>\n",
              "      <th>year</th>\n",
              "      <th>month_numeric</th>\n",
              "    </tr>\n",
              "  </thead>\n",
              "  <tbody>\n",
              "    <tr>\n",
              "      <th>0</th>\n",
              "      <td>ANG MO KIO</td>\n",
              "      <td>2 ROOM</td>\n",
              "      <td>406</td>\n",
              "      <td>ANG MO KIO AVE 10</td>\n",
              "      <td>11.0</td>\n",
              "      <td>44.0</td>\n",
              "      <td>Improved</td>\n",
              "      <td>736</td>\n",
              "      <td>232000.0</td>\n",
              "      <td>1.007304</td>\n",
              "      <td>...</td>\n",
              "      <td>False</td>\n",
              "      <td>False</td>\n",
              "      <td>False</td>\n",
              "      <td>False</td>\n",
              "      <td>220</td>\n",
              "      <td>False</td>\n",
              "      <td>False</td>\n",
              "      <td>True</td>\n",
              "      <td>2017</td>\n",
              "      <td>1</td>\n",
              "    </tr>\n",
              "    <tr>\n",
              "      <th>1</th>\n",
              "      <td>ANG MO KIO</td>\n",
              "      <td>3 ROOM</td>\n",
              "      <td>108</td>\n",
              "      <td>ANG MO KIO AVE 4</td>\n",
              "      <td>2.0</td>\n",
              "      <td>67.0</td>\n",
              "      <td>New Generation</td>\n",
              "      <td>727</td>\n",
              "      <td>250000.0</td>\n",
              "      <td>1.271398</td>\n",
              "      <td>...</td>\n",
              "      <td>False</td>\n",
              "      <td>False</td>\n",
              "      <td>False</td>\n",
              "      <td>False</td>\n",
              "      <td>122</td>\n",
              "      <td>False</td>\n",
              "      <td>False</td>\n",
              "      <td>True</td>\n",
              "      <td>2017</td>\n",
              "      <td>1</td>\n",
              "    </tr>\n",
              "    <tr>\n",
              "      <th>2</th>\n",
              "      <td>ANG MO KIO</td>\n",
              "      <td>3 ROOM</td>\n",
              "      <td>602</td>\n",
              "      <td>ANG MO KIO AVE 5</td>\n",
              "      <td>2.0</td>\n",
              "      <td>67.0</td>\n",
              "      <td>New Generation</td>\n",
              "      <td>749</td>\n",
              "      <td>262000.0</td>\n",
              "      <td>1.069720</td>\n",
              "      <td>...</td>\n",
              "      <td>False</td>\n",
              "      <td>False</td>\n",
              "      <td>False</td>\n",
              "      <td>False</td>\n",
              "      <td>150</td>\n",
              "      <td>False</td>\n",
              "      <td>False</td>\n",
              "      <td>True</td>\n",
              "      <td>2017</td>\n",
              "      <td>1</td>\n",
              "    </tr>\n",
              "    <tr>\n",
              "      <th>3</th>\n",
              "      <td>ANG MO KIO</td>\n",
              "      <td>3 ROOM</td>\n",
              "      <td>465</td>\n",
              "      <td>ANG MO KIO AVE 10</td>\n",
              "      <td>5.0</td>\n",
              "      <td>68.0</td>\n",
              "      <td>New Generation</td>\n",
              "      <td>744</td>\n",
              "      <td>265000.0</td>\n",
              "      <td>0.946884</td>\n",
              "      <td>...</td>\n",
              "      <td>False</td>\n",
              "      <td>False</td>\n",
              "      <td>False</td>\n",
              "      <td>False</td>\n",
              "      <td>206</td>\n",
              "      <td>False</td>\n",
              "      <td>False</td>\n",
              "      <td>True</td>\n",
              "      <td>2017</td>\n",
              "      <td>1</td>\n",
              "    </tr>\n",
              "    <tr>\n",
              "      <th>4</th>\n",
              "      <td>ANG MO KIO</td>\n",
              "      <td>3 ROOM</td>\n",
              "      <td>601</td>\n",
              "      <td>ANG MO KIO AVE 5</td>\n",
              "      <td>2.0</td>\n",
              "      <td>67.0</td>\n",
              "      <td>New Generation</td>\n",
              "      <td>749</td>\n",
              "      <td>265000.0</td>\n",
              "      <td>1.092577</td>\n",
              "      <td>...</td>\n",
              "      <td>False</td>\n",
              "      <td>True</td>\n",
              "      <td>False</td>\n",
              "      <td>False</td>\n",
              "      <td>152</td>\n",
              "      <td>False</td>\n",
              "      <td>False</td>\n",
              "      <td>True</td>\n",
              "      <td>2017</td>\n",
              "      <td>1</td>\n",
              "    </tr>\n",
              "  </tbody>\n",
              "</table>\n",
              "<p>5 rows × 25 columns</p>\n",
              "</div>\n",
              "    <div class=\"colab-df-buttons\">\n",
              "\n",
              "  <div class=\"colab-df-container\">\n",
              "    <button class=\"colab-df-convert\" onclick=\"convertToInteractive('df-a085cff9-a355-488b-a440-40dc9d2eae02')\"\n",
              "            title=\"Convert this dataframe to an interactive table.\"\n",
              "            style=\"display:none;\">\n",
              "\n",
              "  <svg xmlns=\"http://www.w3.org/2000/svg\" height=\"24px\" viewBox=\"0 -960 960 960\">\n",
              "    <path d=\"M120-120v-720h720v720H120Zm60-500h600v-160H180v160Zm220 220h160v-160H400v160Zm0 220h160v-160H400v160ZM180-400h160v-160H180v160Zm440 0h160v-160H620v160ZM180-180h160v-160H180v160Zm440 0h160v-160H620v160Z\"/>\n",
              "  </svg>\n",
              "    </button>\n",
              "\n",
              "  <style>\n",
              "    .colab-df-container {\n",
              "      display:flex;\n",
              "      gap: 12px;\n",
              "    }\n",
              "\n",
              "    .colab-df-convert {\n",
              "      background-color: #E8F0FE;\n",
              "      border: none;\n",
              "      border-radius: 50%;\n",
              "      cursor: pointer;\n",
              "      display: none;\n",
              "      fill: #1967D2;\n",
              "      height: 32px;\n",
              "      padding: 0 0 0 0;\n",
              "      width: 32px;\n",
              "    }\n",
              "\n",
              "    .colab-df-convert:hover {\n",
              "      background-color: #E2EBFA;\n",
              "      box-shadow: 0px 1px 2px rgba(60, 64, 67, 0.3), 0px 1px 3px 1px rgba(60, 64, 67, 0.15);\n",
              "      fill: #174EA6;\n",
              "    }\n",
              "\n",
              "    .colab-df-buttons div {\n",
              "      margin-bottom: 4px;\n",
              "    }\n",
              "\n",
              "    [theme=dark] .colab-df-convert {\n",
              "      background-color: #3B4455;\n",
              "      fill: #D2E3FC;\n",
              "    }\n",
              "\n",
              "    [theme=dark] .colab-df-convert:hover {\n",
              "      background-color: #434B5C;\n",
              "      box-shadow: 0px 1px 3px 1px rgba(0, 0, 0, 0.15);\n",
              "      filter: drop-shadow(0px 1px 2px rgba(0, 0, 0, 0.3));\n",
              "      fill: #FFFFFF;\n",
              "    }\n",
              "  </style>\n",
              "\n",
              "    <script>\n",
              "      const buttonEl =\n",
              "        document.querySelector('#df-a085cff9-a355-488b-a440-40dc9d2eae02 button.colab-df-convert');\n",
              "      buttonEl.style.display =\n",
              "        google.colab.kernel.accessAllowed ? 'block' : 'none';\n",
              "\n",
              "      async function convertToInteractive(key) {\n",
              "        const element = document.querySelector('#df-a085cff9-a355-488b-a440-40dc9d2eae02');\n",
              "        const dataTable =\n",
              "          await google.colab.kernel.invokeFunction('convertToInteractive',\n",
              "                                                    [key], {});\n",
              "        if (!dataTable) return;\n",
              "\n",
              "        const docLinkHtml = 'Like what you see? Visit the ' +\n",
              "          '<a target=\"_blank\" href=https://colab.research.google.com/notebooks/data_table.ipynb>data table notebook</a>'\n",
              "          + ' to learn more about interactive tables.';\n",
              "        element.innerHTML = '';\n",
              "        dataTable['output_type'] = 'display_data';\n",
              "        await google.colab.output.renderOutput(dataTable, element);\n",
              "        const docLink = document.createElement('div');\n",
              "        docLink.innerHTML = docLinkHtml;\n",
              "        element.appendChild(docLink);\n",
              "      }\n",
              "    </script>\n",
              "  </div>\n",
              "\n",
              "\n",
              "<div id=\"df-fcf79fcd-5099-4173-9dc5-603dcc9fddb6\">\n",
              "  <button class=\"colab-df-quickchart\" onclick=\"quickchart('df-fcf79fcd-5099-4173-9dc5-603dcc9fddb6')\"\n",
              "            title=\"Suggest charts\"\n",
              "            style=\"display:none;\">\n",
              "\n",
              "<svg xmlns=\"http://www.w3.org/2000/svg\" height=\"24px\"viewBox=\"0 0 24 24\"\n",
              "     width=\"24px\">\n",
              "    <g>\n",
              "        <path d=\"M19 3H5c-1.1 0-2 .9-2 2v14c0 1.1.9 2 2 2h14c1.1 0 2-.9 2-2V5c0-1.1-.9-2-2-2zM9 17H7v-7h2v7zm4 0h-2V7h2v10zm4 0h-2v-4h2v4z\"/>\n",
              "    </g>\n",
              "</svg>\n",
              "  </button>\n",
              "\n",
              "<style>\n",
              "  .colab-df-quickchart {\n",
              "      --bg-color: #E8F0FE;\n",
              "      --fill-color: #1967D2;\n",
              "      --hover-bg-color: #E2EBFA;\n",
              "      --hover-fill-color: #174EA6;\n",
              "      --disabled-fill-color: #AAA;\n",
              "      --disabled-bg-color: #DDD;\n",
              "  }\n",
              "\n",
              "  [theme=dark] .colab-df-quickchart {\n",
              "      --bg-color: #3B4455;\n",
              "      --fill-color: #D2E3FC;\n",
              "      --hover-bg-color: #434B5C;\n",
              "      --hover-fill-color: #FFFFFF;\n",
              "      --disabled-bg-color: #3B4455;\n",
              "      --disabled-fill-color: #666;\n",
              "  }\n",
              "\n",
              "  .colab-df-quickchart {\n",
              "    background-color: var(--bg-color);\n",
              "    border: none;\n",
              "    border-radius: 50%;\n",
              "    cursor: pointer;\n",
              "    display: none;\n",
              "    fill: var(--fill-color);\n",
              "    height: 32px;\n",
              "    padding: 0;\n",
              "    width: 32px;\n",
              "  }\n",
              "\n",
              "  .colab-df-quickchart:hover {\n",
              "    background-color: var(--hover-bg-color);\n",
              "    box-shadow: 0 1px 2px rgba(60, 64, 67, 0.3), 0 1px 3px 1px rgba(60, 64, 67, 0.15);\n",
              "    fill: var(--button-hover-fill-color);\n",
              "  }\n",
              "\n",
              "  .colab-df-quickchart-complete:disabled,\n",
              "  .colab-df-quickchart-complete:disabled:hover {\n",
              "    background-color: var(--disabled-bg-color);\n",
              "    fill: var(--disabled-fill-color);\n",
              "    box-shadow: none;\n",
              "  }\n",
              "\n",
              "  .colab-df-spinner {\n",
              "    border: 2px solid var(--fill-color);\n",
              "    border-color: transparent;\n",
              "    border-bottom-color: var(--fill-color);\n",
              "    animation:\n",
              "      spin 1s steps(1) infinite;\n",
              "  }\n",
              "\n",
              "  @keyframes spin {\n",
              "    0% {\n",
              "      border-color: transparent;\n",
              "      border-bottom-color: var(--fill-color);\n",
              "      border-left-color: var(--fill-color);\n",
              "    }\n",
              "    20% {\n",
              "      border-color: transparent;\n",
              "      border-left-color: var(--fill-color);\n",
              "      border-top-color: var(--fill-color);\n",
              "    }\n",
              "    30% {\n",
              "      border-color: transparent;\n",
              "      border-left-color: var(--fill-color);\n",
              "      border-top-color: var(--fill-color);\n",
              "      border-right-color: var(--fill-color);\n",
              "    }\n",
              "    40% {\n",
              "      border-color: transparent;\n",
              "      border-right-color: var(--fill-color);\n",
              "      border-top-color: var(--fill-color);\n",
              "    }\n",
              "    60% {\n",
              "      border-color: transparent;\n",
              "      border-right-color: var(--fill-color);\n",
              "    }\n",
              "    80% {\n",
              "      border-color: transparent;\n",
              "      border-right-color: var(--fill-color);\n",
              "      border-bottom-color: var(--fill-color);\n",
              "    }\n",
              "    90% {\n",
              "      border-color: transparent;\n",
              "      border-bottom-color: var(--fill-color);\n",
              "    }\n",
              "  }\n",
              "</style>\n",
              "\n",
              "  <script>\n",
              "    async function quickchart(key) {\n",
              "      const quickchartButtonEl =\n",
              "        document.querySelector('#' + key + ' button');\n",
              "      quickchartButtonEl.disabled = true;  // To prevent multiple clicks.\n",
              "      quickchartButtonEl.classList.add('colab-df-spinner');\n",
              "      try {\n",
              "        const charts = await google.colab.kernel.invokeFunction(\n",
              "            'suggestCharts', [key], {});\n",
              "      } catch (error) {\n",
              "        console.error('Error during call to suggestCharts:', error);\n",
              "      }\n",
              "      quickchartButtonEl.classList.remove('colab-df-spinner');\n",
              "      quickchartButtonEl.classList.add('colab-df-quickchart-complete');\n",
              "    }\n",
              "    (() => {\n",
              "      let quickchartButtonEl =\n",
              "        document.querySelector('#df-fcf79fcd-5099-4173-9dc5-603dcc9fddb6 button');\n",
              "      quickchartButtonEl.style.display =\n",
              "        google.colab.kernel.accessAllowed ? 'block' : 'none';\n",
              "    })();\n",
              "  </script>\n",
              "</div>\n",
              "\n",
              "    </div>\n",
              "  </div>\n"
            ],
            "application/vnd.google.colaboratory.intrinsic+json": {
              "type": "dataframe",
              "variable_name": "df_train_preprocessed"
            }
          },
          "metadata": {},
          "execution_count": 93
        }
      ],
      "source": [
        "df_train_preprocessed.head()"
      ]
    },
    {
      "cell_type": "markdown",
      "metadata": {
        "id": "6iE6L0cYbjle"
      },
      "source": [
        "## Dropping street and block columns"
      ]
    },
    {
      "cell_type": "markdown",
      "metadata": {
        "id": "8sVcTZL7bv5B"
      },
      "source": [
        "After applying the nunique() function, it is evident that both the 'block' and 'street_name' columns contain a large number of distinct values, indicating significant sparsity. Considering that the building information is already well-represented by other features in the dataset, maintaining these columns would likely introduce unnecessary complexity. Therefore, to streamline the dataset and reduce dimensionality, we have decided to drop the 'block' and 'street_name' columns."
      ]
    },
    {
      "cell_type": "code",
      "execution_count": null,
      "metadata": {
        "colab": {
          "base_uri": "https://localhost:8080/"
        },
        "id": "OXuOtLBcbqF9",
        "outputId": "4051399f-bcbc-4cc8-c3a6-cf6850c3fa46"
      },
      "outputs": [
        {
          "output_type": "execute_result",
          "data": {
            "text/plain": [
              "town                                       26\n",
              "flat_type                                   7\n",
              "block                                    2673\n",
              "street_name                               565\n",
              "storey_range                               17\n",
              "floor_area_sqm                            170\n",
              "flat_model                                 21\n",
              "remaining_lease                           608\n",
              "resale_price                             3574\n",
              "shortest_distance_to_closest_mrt (km)    9475\n",
              "closest_mrt                               125\n",
              "max_floor_lvl                              42\n",
              "year_completed                             60\n",
              "residential                                 1\n",
              "commercial                                  2\n",
              "market_hawker                               2\n",
              "miscellaneous                               2\n",
              "multistorey_carpark                         2\n",
              "precinct_pavilion                           2\n",
              "total_dwelling_units                      327\n",
              "is_elite_closest_pri_sch                    2\n",
              "is_elite_closest_sec_sch                    2\n",
              "is_elite_closest_mixed_sch                  2\n",
              "year                                        7\n",
              "month_numeric                              12\n",
              "dtype: int64"
            ]
          },
          "metadata": {},
          "execution_count": 94
        }
      ],
      "source": [
        "df_train_preprocessed.nunique()"
      ]
    },
    {
      "cell_type": "code",
      "execution_count": null,
      "metadata": {
        "id": "PKGylQcfcIx-"
      },
      "outputs": [],
      "source": [
        "df_train_preprocessed = df_train_preprocessed.drop(['street_name', 'block'], axis = 1)\n",
        "df_test_preprocessed = df_test_preprocessed.drop(['street_name', 'block'], axis = 1)"
      ]
    },
    {
      "cell_type": "markdown",
      "source": [
        "## Flat Model"
      ],
      "metadata": {
        "id": "-lsP6PVu1Fgh"
      }
    },
    {
      "cell_type": "markdown",
      "source": [
        "During our categorical data encoding, we actually found some categories '2-room' and '3Gen' that were not originally in the train set. For these data points, we will be imputing their values with the most common flat model - Model A."
      ],
      "metadata": {
        "id": "TggtYbDz17nk"
      }
    },
    {
      "cell_type": "code",
      "source": [
        "train_categories = set(df_train_preprocessed['flat_model'])\n",
        "\n",
        "test_categories = set(df_test_preprocessed['flat_model'])\n",
        "\n",
        "categories_only_in_test = test_categories - train_categories\n",
        "\n",
        "print(df_train_preprocessed['flat_model'].value_counts())\n",
        "print(\"Categories in test set that do not belong to train set:\", categories_only_in_test)"
      ],
      "metadata": {
        "colab": {
          "base_uri": "https://localhost:8080/"
        },
        "id": "nojcrz0Z1Hxl",
        "outputId": "bc9ab2cb-9c96-4791-d17c-74a54b908c79"
      },
      "execution_count": null,
      "outputs": [
        {
          "output_type": "stream",
          "name": "stdout",
          "text": [
            "flat_model\n",
            "Model A                   54895\n",
            "Improved                  39878\n",
            "New Generation            20134\n",
            "Premium Apartment         18392\n",
            "Simplified                 6255\n",
            "Apartment                  6125\n",
            "Maisonette                 4645\n",
            "Standard                   4491\n",
            "DBSS                       2813\n",
            "Model A2                   1846\n",
            "Model A-Maisonette          293\n",
            "Adjoined flat               286\n",
            "Type S1                     285\n",
            "Type S2                     153\n",
            "Premium Apartment Loft       96\n",
            "Terrace                      90\n",
            "Multi Generation             73\n",
            "2-room                       55\n",
            "Improved-Maisonette          24\n",
            "3Gen                         15\n",
            "Premium Maisonette           14\n",
            "Name: count, dtype: int64\n",
            "Categories in test set that do not belong to train set: set()\n"
          ]
        }
      ]
    },
    {
      "cell_type": "code",
      "source": [
        "# Filter to '2-room' and '3Gen'\n",
        "filtered_rows = df_test_preprocessed[df_test_preprocessed['flat_model'].isin(['2-room', '3Gen'])]\n",
        "\n",
        "# Impute 'flat_model' of the filtered rows to be 'Model A'\n",
        "df_test_preprocessed.loc[filtered_rows.index, 'flat_model'] = 'Model A'"
      ],
      "metadata": {
        "id": "qQTj25Qy2kYn"
      },
      "execution_count": null,
      "outputs": []
    },
    {
      "cell_type": "markdown",
      "source": [
        "## closest_mrt"
      ],
      "metadata": {
        "id": "4QkxM2QX5YSu"
      }
    },
    {
      "cell_type": "markdown",
      "source": [
        "Earlier, we found that some of the closest mrt stations in the test were not actually found in the train set. For these stations, a quick google search shows that they are LRT stations that are found around the Punggol estate. For ease of ensuring that our encoding process runs smoothly, we will be imputing their values as \"Punggol\" MRT Station."
      ],
      "metadata": {
        "id": "ZI5Q9fCf5cOS"
      }
    },
    {
      "cell_type": "code",
      "source": [
        "df_train_preprocessed['closest_mrt'].unique()"
      ],
      "metadata": {
        "colab": {
          "base_uri": "https://localhost:8080/"
        },
        "id": "viLyMT3E5bdN",
        "outputId": "6ea4c32d-d19a-47a3-e122-54923bc78e43"
      },
      "execution_count": null,
      "outputs": [
        {
          "output_type": "execute_result",
          "data": {
            "text/plain": [
              "array(['Ang Mo Kio', 'Yio Chu Kang', 'Bedok Reservoir', 'Bedok',\n",
              "       'Tanah Merah', 'Kaki Bukit', 'Bedok North', 'Kembangan',\n",
              "       'Marymount', 'Bishan', 'Bukit Gombak', 'Bukit Batok',\n",
              "       'Tiong Bahru', 'Telok Blangah', 'HarbourFront', 'Queenstown',\n",
              "       'Redhill', 'Labrador Park', 'Pending', 'Bangkit', 'Segar',\n",
              "       'Jelapang', 'Petir', 'Fajar', 'Senja', 'Beauty World',\n",
              "       'Farrer Road', 'Chinatown', 'Jalan Besar', 'Bencoolen',\n",
              "       'Tanjong Pagar', 'Bugis', 'Bras Basah', 'Outram Park', 'Teck Whye',\n",
              "       'Keat Hong', 'South View', 'Yew Tee', 'Choa Chu Kang', 'Phoenix',\n",
              "       'Clementi', 'Mattar', 'MacPherson', 'Tai Seng', 'Eunos', 'Ubi',\n",
              "       'Paya Lebar', 'Dakota', 'Aljunied', 'Geylang Bahru', 'Mountbatten',\n",
              "       'Tongkang', 'Kovan', 'Hougang', 'Serangoon', 'Bartley', 'Buangkok',\n",
              "       'Jurong East', 'Chinese Garden', 'Pioneer', 'Boon Lay', 'Lakeside',\n",
              "       'King Albert Park', 'Boon Keng', 'Farrer Park', 'Hillview',\n",
              "       'Kallang', 'Lavender', 'Bendemeer', 'Toa Payoh', 'Changi Airport',\n",
              "       'Pasir Ris', 'Tampines East', 'Cove', 'Coral Edge', 'Meridian',\n",
              "       'Damai', 'Soo Teck', 'Punggol', 'Oasis', 'Kadaloor', 'Riviera',\n",
              "       'Commonwealth', 'Buona Vista', 'one-north', 'Dover',\n",
              "       'Holland Village', 'Sembawang', 'Fernvale', 'Kangkar', 'Ranggung',\n",
              "       'Bakau', 'Rumbia', 'Cheng Lim', 'Renjong', 'Sengkang',\n",
              "       'Compassvale', 'Lorong Chuan', 'Tampines', 'Tampines West',\n",
              "       'Simei', 'Braddell', 'Potong Pasir', 'Caldecott', 'Marsiling',\n",
              "       'Woodlands', 'Yishun', 'Khatib', 'Little India', 'Esplanade',\n",
              "       'Layar', 'Farmway', 'Upper Changi', 'Woodleigh', 'Bukit Panjang',\n",
              "       'Nicoll Highway', 'Newton', 'Novena', 'Pasir Panjang', 'Rochor',\n",
              "       'Botanic Gardens', 'Thanggam', 'Nibong', 'Kupang', 'Sumang'],\n",
              "      dtype=object)"
            ]
          },
          "metadata": {},
          "execution_count": 98
        }
      ]
    },
    {
      "cell_type": "code",
      "source": [
        "# Filter to '2-room' and '3Gen'\n",
        "filtered_rows = df_test_preprocessed[df_test_preprocessed['closest_mrt'].isin(['Kupang', 'Nibong', 'Thanggam', 'Sumang'])]\n",
        "\n",
        "# Impute 'flat_model' of the filtered rows to be 'Model A'\n",
        "df_test_preprocessed.loc[filtered_rows.index, 'closest_mrt'] = 'Punggol'"
      ],
      "metadata": {
        "id": "Kz1lxOj3531y"
      },
      "execution_count": null,
      "outputs": []
    },
    {
      "cell_type": "markdown",
      "metadata": {
        "id": "9sTwm2hKbn8S"
      },
      "source": [
        "## Viewing the final preprocessed dataset"
      ]
    },
    {
      "cell_type": "code",
      "execution_count": null,
      "metadata": {
        "colab": {
          "base_uri": "https://localhost:8080/"
        },
        "id": "jMSMgeCEbPa2",
        "outputId": "3e66e4cd-3fb8-4f9f-d554-72f70bb7f95e"
      },
      "outputs": [
        {
          "output_type": "stream",
          "name": "stdout",
          "text": [
            "<class 'pandas.core.frame.DataFrame'>\n",
            "Index: 160858 entries, 0 to 160857\n",
            "Data columns (total 23 columns):\n",
            " #   Column                                 Non-Null Count   Dtype  \n",
            "---  ------                                 --------------   -----  \n",
            " 0   town                                   160858 non-null  object \n",
            " 1   flat_type                              160858 non-null  object \n",
            " 2   storey_range                           160858 non-null  float64\n",
            " 3   floor_area_sqm                         160858 non-null  float64\n",
            " 4   flat_model                             160858 non-null  object \n",
            " 5   remaining_lease                        160858 non-null  int64  \n",
            " 6   resale_price                           160858 non-null  float64\n",
            " 7   shortest_distance_to_closest_mrt (km)  160858 non-null  float64\n",
            " 8   closest_mrt                            160858 non-null  object \n",
            " 9   max_floor_lvl                          160858 non-null  int64  \n",
            " 10  year_completed                         160858 non-null  int64  \n",
            " 11  residential                            160858 non-null  bool   \n",
            " 12  commercial                             160858 non-null  bool   \n",
            " 13  market_hawker                          160858 non-null  bool   \n",
            " 14  miscellaneous                          160858 non-null  bool   \n",
            " 15  multistorey_carpark                    160858 non-null  bool   \n",
            " 16  precinct_pavilion                      160858 non-null  bool   \n",
            " 17  total_dwelling_units                   160858 non-null  int64  \n",
            " 18  is_elite_closest_pri_sch               160858 non-null  bool   \n",
            " 19  is_elite_closest_sec_sch               160858 non-null  bool   \n",
            " 20  is_elite_closest_mixed_sch             160858 non-null  bool   \n",
            " 21  year                                   160858 non-null  int32  \n",
            " 22  month_numeric                          160858 non-null  int32  \n",
            "dtypes: bool(9), float64(4), int32(2), int64(4), object(4)\n",
            "memory usage: 18.6+ MB\n"
          ]
        }
      ],
      "source": [
        "df_train_preprocessed.info()"
      ]
    },
    {
      "cell_type": "code",
      "execution_count": null,
      "metadata": {
        "colab": {
          "base_uri": "https://localhost:8080/",
          "height": 446
        },
        "id": "h0iMwF_RbL4_",
        "outputId": "c9c516ad-10af-437b-acbf-6fa624b751bd"
      },
      "outputs": [
        {
          "output_type": "execute_result",
          "data": {
            "text/plain": [
              "              town flat_type  storey_range  floor_area_sqm      flat_model  \\\n",
              "160858  ANG MO KIO    2 ROOM           2.0            44.0        Improved   \n",
              "160859  ANG MO KIO    2 ROOM           5.0            45.0        Improved   \n",
              "160860  ANG MO KIO    3 ROOM           5.0            73.0  New Generation   \n",
              "160861  ANG MO KIO    3 ROOM           2.0            68.0  New Generation   \n",
              "160862  ANG MO KIO    3 ROOM           8.0            70.0         Model A   \n",
              "\n",
              "        remaining_lease  resale_price  shortest_distance_to_closest_mrt (km)  \\\n",
              "160858              640      282000.0                               0.423595   \n",
              "160859              737      300000.0                               1.223815   \n",
              "160860              620      370888.0                               0.994162   \n",
              "160861              679      360000.0                               0.854823   \n",
              "160862             1056      570000.0                               0.696736   \n",
              "\n",
              "         closest_mrt  max_floor_lvl  ...  market_hawker  miscellaneous  \\\n",
              "160858    Ang Mo Kio             12  ...          False           True   \n",
              "160859  Yio Chu Kang             10  ...          False           True   \n",
              "160860    Ang Mo Kio             10  ...          False          False   \n",
              "160861    Ang Mo Kio             12  ...          False          False   \n",
              "160862    Ang Mo Kio             21  ...          False          False   \n",
              "\n",
              "        multistorey_carpark  precinct_pavilion  total_dwelling_units  \\\n",
              "160858                False              False                   242   \n",
              "160859                False              False                   178   \n",
              "160860                False              False                   144   \n",
              "160861                False              False                   195   \n",
              "160862                False              False                   230   \n",
              "\n",
              "        is_elite_closest_pri_sch  is_elite_closest_sec_sch  \\\n",
              "160858                     False                     False   \n",
              "160859                     False                     False   \n",
              "160860                     False                     False   \n",
              "160861                     False                     False   \n",
              "160862                     False                     False   \n",
              "\n",
              "        is_elite_closest_mixed_sch  year  month_numeric  \n",
              "160858                        True  2023              9  \n",
              "160859                        True  2023              9  \n",
              "160860                        True  2023              9  \n",
              "160861                        True  2023              9  \n",
              "160862                        True  2023              9  \n",
              "\n",
              "[5 rows x 23 columns]"
            ],
            "text/html": [
              "\n",
              "  <div id=\"df-692f3e4c-7ce6-46db-bf9b-1af34b5b2aa2\" class=\"colab-df-container\">\n",
              "    <div>\n",
              "<style scoped>\n",
              "    .dataframe tbody tr th:only-of-type {\n",
              "        vertical-align: middle;\n",
              "    }\n",
              "\n",
              "    .dataframe tbody tr th {\n",
              "        vertical-align: top;\n",
              "    }\n",
              "\n",
              "    .dataframe thead th {\n",
              "        text-align: right;\n",
              "    }\n",
              "</style>\n",
              "<table border=\"1\" class=\"dataframe\">\n",
              "  <thead>\n",
              "    <tr style=\"text-align: right;\">\n",
              "      <th></th>\n",
              "      <th>town</th>\n",
              "      <th>flat_type</th>\n",
              "      <th>storey_range</th>\n",
              "      <th>floor_area_sqm</th>\n",
              "      <th>flat_model</th>\n",
              "      <th>remaining_lease</th>\n",
              "      <th>resale_price</th>\n",
              "      <th>shortest_distance_to_closest_mrt (km)</th>\n",
              "      <th>closest_mrt</th>\n",
              "      <th>max_floor_lvl</th>\n",
              "      <th>...</th>\n",
              "      <th>market_hawker</th>\n",
              "      <th>miscellaneous</th>\n",
              "      <th>multistorey_carpark</th>\n",
              "      <th>precinct_pavilion</th>\n",
              "      <th>total_dwelling_units</th>\n",
              "      <th>is_elite_closest_pri_sch</th>\n",
              "      <th>is_elite_closest_sec_sch</th>\n",
              "      <th>is_elite_closest_mixed_sch</th>\n",
              "      <th>year</th>\n",
              "      <th>month_numeric</th>\n",
              "    </tr>\n",
              "  </thead>\n",
              "  <tbody>\n",
              "    <tr>\n",
              "      <th>160858</th>\n",
              "      <td>ANG MO KIO</td>\n",
              "      <td>2 ROOM</td>\n",
              "      <td>2.0</td>\n",
              "      <td>44.0</td>\n",
              "      <td>Improved</td>\n",
              "      <td>640</td>\n",
              "      <td>282000.0</td>\n",
              "      <td>0.423595</td>\n",
              "      <td>Ang Mo Kio</td>\n",
              "      <td>12</td>\n",
              "      <td>...</td>\n",
              "      <td>False</td>\n",
              "      <td>True</td>\n",
              "      <td>False</td>\n",
              "      <td>False</td>\n",
              "      <td>242</td>\n",
              "      <td>False</td>\n",
              "      <td>False</td>\n",
              "      <td>True</td>\n",
              "      <td>2023</td>\n",
              "      <td>9</td>\n",
              "    </tr>\n",
              "    <tr>\n",
              "      <th>160859</th>\n",
              "      <td>ANG MO KIO</td>\n",
              "      <td>2 ROOM</td>\n",
              "      <td>5.0</td>\n",
              "      <td>45.0</td>\n",
              "      <td>Improved</td>\n",
              "      <td>737</td>\n",
              "      <td>300000.0</td>\n",
              "      <td>1.223815</td>\n",
              "      <td>Yio Chu Kang</td>\n",
              "      <td>10</td>\n",
              "      <td>...</td>\n",
              "      <td>False</td>\n",
              "      <td>True</td>\n",
              "      <td>False</td>\n",
              "      <td>False</td>\n",
              "      <td>178</td>\n",
              "      <td>False</td>\n",
              "      <td>False</td>\n",
              "      <td>True</td>\n",
              "      <td>2023</td>\n",
              "      <td>9</td>\n",
              "    </tr>\n",
              "    <tr>\n",
              "      <th>160860</th>\n",
              "      <td>ANG MO KIO</td>\n",
              "      <td>3 ROOM</td>\n",
              "      <td>5.0</td>\n",
              "      <td>73.0</td>\n",
              "      <td>New Generation</td>\n",
              "      <td>620</td>\n",
              "      <td>370888.0</td>\n",
              "      <td>0.994162</td>\n",
              "      <td>Ang Mo Kio</td>\n",
              "      <td>10</td>\n",
              "      <td>...</td>\n",
              "      <td>False</td>\n",
              "      <td>False</td>\n",
              "      <td>False</td>\n",
              "      <td>False</td>\n",
              "      <td>144</td>\n",
              "      <td>False</td>\n",
              "      <td>False</td>\n",
              "      <td>True</td>\n",
              "      <td>2023</td>\n",
              "      <td>9</td>\n",
              "    </tr>\n",
              "    <tr>\n",
              "      <th>160861</th>\n",
              "      <td>ANG MO KIO</td>\n",
              "      <td>3 ROOM</td>\n",
              "      <td>2.0</td>\n",
              "      <td>68.0</td>\n",
              "      <td>New Generation</td>\n",
              "      <td>679</td>\n",
              "      <td>360000.0</td>\n",
              "      <td>0.854823</td>\n",
              "      <td>Ang Mo Kio</td>\n",
              "      <td>12</td>\n",
              "      <td>...</td>\n",
              "      <td>False</td>\n",
              "      <td>False</td>\n",
              "      <td>False</td>\n",
              "      <td>False</td>\n",
              "      <td>195</td>\n",
              "      <td>False</td>\n",
              "      <td>False</td>\n",
              "      <td>True</td>\n",
              "      <td>2023</td>\n",
              "      <td>9</td>\n",
              "    </tr>\n",
              "    <tr>\n",
              "      <th>160862</th>\n",
              "      <td>ANG MO KIO</td>\n",
              "      <td>3 ROOM</td>\n",
              "      <td>8.0</td>\n",
              "      <td>70.0</td>\n",
              "      <td>Model A</td>\n",
              "      <td>1056</td>\n",
              "      <td>570000.0</td>\n",
              "      <td>0.696736</td>\n",
              "      <td>Ang Mo Kio</td>\n",
              "      <td>21</td>\n",
              "      <td>...</td>\n",
              "      <td>False</td>\n",
              "      <td>False</td>\n",
              "      <td>False</td>\n",
              "      <td>False</td>\n",
              "      <td>230</td>\n",
              "      <td>False</td>\n",
              "      <td>False</td>\n",
              "      <td>True</td>\n",
              "      <td>2023</td>\n",
              "      <td>9</td>\n",
              "    </tr>\n",
              "  </tbody>\n",
              "</table>\n",
              "<p>5 rows × 23 columns</p>\n",
              "</div>\n",
              "    <div class=\"colab-df-buttons\">\n",
              "\n",
              "  <div class=\"colab-df-container\">\n",
              "    <button class=\"colab-df-convert\" onclick=\"convertToInteractive('df-692f3e4c-7ce6-46db-bf9b-1af34b5b2aa2')\"\n",
              "            title=\"Convert this dataframe to an interactive table.\"\n",
              "            style=\"display:none;\">\n",
              "\n",
              "  <svg xmlns=\"http://www.w3.org/2000/svg\" height=\"24px\" viewBox=\"0 -960 960 960\">\n",
              "    <path d=\"M120-120v-720h720v720H120Zm60-500h600v-160H180v160Zm220 220h160v-160H400v160Zm0 220h160v-160H400v160ZM180-400h160v-160H180v160Zm440 0h160v-160H620v160ZM180-180h160v-160H180v160Zm440 0h160v-160H620v160Z\"/>\n",
              "  </svg>\n",
              "    </button>\n",
              "\n",
              "  <style>\n",
              "    .colab-df-container {\n",
              "      display:flex;\n",
              "      gap: 12px;\n",
              "    }\n",
              "\n",
              "    .colab-df-convert {\n",
              "      background-color: #E8F0FE;\n",
              "      border: none;\n",
              "      border-radius: 50%;\n",
              "      cursor: pointer;\n",
              "      display: none;\n",
              "      fill: #1967D2;\n",
              "      height: 32px;\n",
              "      padding: 0 0 0 0;\n",
              "      width: 32px;\n",
              "    }\n",
              "\n",
              "    .colab-df-convert:hover {\n",
              "      background-color: #E2EBFA;\n",
              "      box-shadow: 0px 1px 2px rgba(60, 64, 67, 0.3), 0px 1px 3px 1px rgba(60, 64, 67, 0.15);\n",
              "      fill: #174EA6;\n",
              "    }\n",
              "\n",
              "    .colab-df-buttons div {\n",
              "      margin-bottom: 4px;\n",
              "    }\n",
              "\n",
              "    [theme=dark] .colab-df-convert {\n",
              "      background-color: #3B4455;\n",
              "      fill: #D2E3FC;\n",
              "    }\n",
              "\n",
              "    [theme=dark] .colab-df-convert:hover {\n",
              "      background-color: #434B5C;\n",
              "      box-shadow: 0px 1px 3px 1px rgba(0, 0, 0, 0.15);\n",
              "      filter: drop-shadow(0px 1px 2px rgba(0, 0, 0, 0.3));\n",
              "      fill: #FFFFFF;\n",
              "    }\n",
              "  </style>\n",
              "\n",
              "    <script>\n",
              "      const buttonEl =\n",
              "        document.querySelector('#df-692f3e4c-7ce6-46db-bf9b-1af34b5b2aa2 button.colab-df-convert');\n",
              "      buttonEl.style.display =\n",
              "        google.colab.kernel.accessAllowed ? 'block' : 'none';\n",
              "\n",
              "      async function convertToInteractive(key) {\n",
              "        const element = document.querySelector('#df-692f3e4c-7ce6-46db-bf9b-1af34b5b2aa2');\n",
              "        const dataTable =\n",
              "          await google.colab.kernel.invokeFunction('convertToInteractive',\n",
              "                                                    [key], {});\n",
              "        if (!dataTable) return;\n",
              "\n",
              "        const docLinkHtml = 'Like what you see? Visit the ' +\n",
              "          '<a target=\"_blank\" href=https://colab.research.google.com/notebooks/data_table.ipynb>data table notebook</a>'\n",
              "          + ' to learn more about interactive tables.';\n",
              "        element.innerHTML = '';\n",
              "        dataTable['output_type'] = 'display_data';\n",
              "        await google.colab.output.renderOutput(dataTable, element);\n",
              "        const docLink = document.createElement('div');\n",
              "        docLink.innerHTML = docLinkHtml;\n",
              "        element.appendChild(docLink);\n",
              "      }\n",
              "    </script>\n",
              "  </div>\n",
              "\n",
              "\n",
              "<div id=\"df-fd7aab11-b9e2-44b2-a66b-5ab1c59f887c\">\n",
              "  <button class=\"colab-df-quickchart\" onclick=\"quickchart('df-fd7aab11-b9e2-44b2-a66b-5ab1c59f887c')\"\n",
              "            title=\"Suggest charts\"\n",
              "            style=\"display:none;\">\n",
              "\n",
              "<svg xmlns=\"http://www.w3.org/2000/svg\" height=\"24px\"viewBox=\"0 0 24 24\"\n",
              "     width=\"24px\">\n",
              "    <g>\n",
              "        <path d=\"M19 3H5c-1.1 0-2 .9-2 2v14c0 1.1.9 2 2 2h14c1.1 0 2-.9 2-2V5c0-1.1-.9-2-2-2zM9 17H7v-7h2v7zm4 0h-2V7h2v10zm4 0h-2v-4h2v4z\"/>\n",
              "    </g>\n",
              "</svg>\n",
              "  </button>\n",
              "\n",
              "<style>\n",
              "  .colab-df-quickchart {\n",
              "      --bg-color: #E8F0FE;\n",
              "      --fill-color: #1967D2;\n",
              "      --hover-bg-color: #E2EBFA;\n",
              "      --hover-fill-color: #174EA6;\n",
              "      --disabled-fill-color: #AAA;\n",
              "      --disabled-bg-color: #DDD;\n",
              "  }\n",
              "\n",
              "  [theme=dark] .colab-df-quickchart {\n",
              "      --bg-color: #3B4455;\n",
              "      --fill-color: #D2E3FC;\n",
              "      --hover-bg-color: #434B5C;\n",
              "      --hover-fill-color: #FFFFFF;\n",
              "      --disabled-bg-color: #3B4455;\n",
              "      --disabled-fill-color: #666;\n",
              "  }\n",
              "\n",
              "  .colab-df-quickchart {\n",
              "    background-color: var(--bg-color);\n",
              "    border: none;\n",
              "    border-radius: 50%;\n",
              "    cursor: pointer;\n",
              "    display: none;\n",
              "    fill: var(--fill-color);\n",
              "    height: 32px;\n",
              "    padding: 0;\n",
              "    width: 32px;\n",
              "  }\n",
              "\n",
              "  .colab-df-quickchart:hover {\n",
              "    background-color: var(--hover-bg-color);\n",
              "    box-shadow: 0 1px 2px rgba(60, 64, 67, 0.3), 0 1px 3px 1px rgba(60, 64, 67, 0.15);\n",
              "    fill: var(--button-hover-fill-color);\n",
              "  }\n",
              "\n",
              "  .colab-df-quickchart-complete:disabled,\n",
              "  .colab-df-quickchart-complete:disabled:hover {\n",
              "    background-color: var(--disabled-bg-color);\n",
              "    fill: var(--disabled-fill-color);\n",
              "    box-shadow: none;\n",
              "  }\n",
              "\n",
              "  .colab-df-spinner {\n",
              "    border: 2px solid var(--fill-color);\n",
              "    border-color: transparent;\n",
              "    border-bottom-color: var(--fill-color);\n",
              "    animation:\n",
              "      spin 1s steps(1) infinite;\n",
              "  }\n",
              "\n",
              "  @keyframes spin {\n",
              "    0% {\n",
              "      border-color: transparent;\n",
              "      border-bottom-color: var(--fill-color);\n",
              "      border-left-color: var(--fill-color);\n",
              "    }\n",
              "    20% {\n",
              "      border-color: transparent;\n",
              "      border-left-color: var(--fill-color);\n",
              "      border-top-color: var(--fill-color);\n",
              "    }\n",
              "    30% {\n",
              "      border-color: transparent;\n",
              "      border-left-color: var(--fill-color);\n",
              "      border-top-color: var(--fill-color);\n",
              "      border-right-color: var(--fill-color);\n",
              "    }\n",
              "    40% {\n",
              "      border-color: transparent;\n",
              "      border-right-color: var(--fill-color);\n",
              "      border-top-color: var(--fill-color);\n",
              "    }\n",
              "    60% {\n",
              "      border-color: transparent;\n",
              "      border-right-color: var(--fill-color);\n",
              "    }\n",
              "    80% {\n",
              "      border-color: transparent;\n",
              "      border-right-color: var(--fill-color);\n",
              "      border-bottom-color: var(--fill-color);\n",
              "    }\n",
              "    90% {\n",
              "      border-color: transparent;\n",
              "      border-bottom-color: var(--fill-color);\n",
              "    }\n",
              "  }\n",
              "</style>\n",
              "\n",
              "  <script>\n",
              "    async function quickchart(key) {\n",
              "      const quickchartButtonEl =\n",
              "        document.querySelector('#' + key + ' button');\n",
              "      quickchartButtonEl.disabled = true;  // To prevent multiple clicks.\n",
              "      quickchartButtonEl.classList.add('colab-df-spinner');\n",
              "      try {\n",
              "        const charts = await google.colab.kernel.invokeFunction(\n",
              "            'suggestCharts', [key], {});\n",
              "      } catch (error) {\n",
              "        console.error('Error during call to suggestCharts:', error);\n",
              "      }\n",
              "      quickchartButtonEl.classList.remove('colab-df-spinner');\n",
              "      quickchartButtonEl.classList.add('colab-df-quickchart-complete');\n",
              "    }\n",
              "    (() => {\n",
              "      let quickchartButtonEl =\n",
              "        document.querySelector('#df-fd7aab11-b9e2-44b2-a66b-5ab1c59f887c button');\n",
              "      quickchartButtonEl.style.display =\n",
              "        google.colab.kernel.accessAllowed ? 'block' : 'none';\n",
              "    })();\n",
              "  </script>\n",
              "</div>\n",
              "\n",
              "    </div>\n",
              "  </div>\n"
            ],
            "application/vnd.google.colaboratory.intrinsic+json": {
              "type": "dataframe",
              "variable_name": "df_test_preprocessed"
            }
          },
          "metadata": {},
          "execution_count": 101
        }
      ],
      "source": [
        "df_test_preprocessed.head()"
      ]
    },
    {
      "cell_type": "code",
      "execution_count": null,
      "metadata": {
        "colab": {
          "base_uri": "https://localhost:8080/"
        },
        "id": "Rppb3kXObVzz",
        "outputId": "78bea6f1-6ff4-42fb-93ff-6a65cb445bd6"
      },
      "outputs": [
        {
          "output_type": "stream",
          "name": "stdout",
          "text": [
            "<class 'pandas.core.frame.DataFrame'>\n",
            "Index: 14035 entries, 160858 to 174892\n",
            "Data columns (total 23 columns):\n",
            " #   Column                                 Non-Null Count  Dtype  \n",
            "---  ------                                 --------------  -----  \n",
            " 0   town                                   14035 non-null  object \n",
            " 1   flat_type                              14035 non-null  object \n",
            " 2   storey_range                           14035 non-null  float64\n",
            " 3   floor_area_sqm                         14035 non-null  float64\n",
            " 4   flat_model                             14035 non-null  object \n",
            " 5   remaining_lease                        14035 non-null  int64  \n",
            " 6   resale_price                           14035 non-null  float64\n",
            " 7   shortest_distance_to_closest_mrt (km)  14035 non-null  float64\n",
            " 8   closest_mrt                            14035 non-null  object \n",
            " 9   max_floor_lvl                          14035 non-null  int64  \n",
            " 10  year_completed                         14035 non-null  int64  \n",
            " 11  residential                            14035 non-null  bool   \n",
            " 12  commercial                             14035 non-null  bool   \n",
            " 13  market_hawker                          14035 non-null  bool   \n",
            " 14  miscellaneous                          14035 non-null  bool   \n",
            " 15  multistorey_carpark                    14035 non-null  bool   \n",
            " 16  precinct_pavilion                      14035 non-null  bool   \n",
            " 17  total_dwelling_units                   14035 non-null  int64  \n",
            " 18  is_elite_closest_pri_sch               14035 non-null  bool   \n",
            " 19  is_elite_closest_sec_sch               14035 non-null  bool   \n",
            " 20  is_elite_closest_mixed_sch             14035 non-null  bool   \n",
            " 21  year                                   14035 non-null  int32  \n",
            " 22  month_numeric                          14035 non-null  int32  \n",
            "dtypes: bool(9), float64(4), int32(2), int64(4), object(4)\n",
            "memory usage: 2.1+ MB\n"
          ]
        }
      ],
      "source": [
        "df_test_preprocessed.info()"
      ]
    },
    {
      "cell_type": "markdown",
      "metadata": {
        "id": "GRinIG_hWjaJ"
      },
      "source": [
        "# Model Fitting"
      ]
    },
    {
      "cell_type": "markdown",
      "source": [
        "In this section, we will be attempting to fit our data into several models, ranging from basic models like Linear Regression to Gradient Boosting Models like Light GBM. We will be evaluating the results across all models and find out which is the best performing model."
      ],
      "metadata": {
        "id": "tIiPgowPqKI4"
      }
    },
    {
      "cell_type": "markdown",
      "metadata": {
        "id": "Fq1alGFbcfv0"
      },
      "source": [
        "## Train Test Split"
      ]
    },
    {
      "cell_type": "code",
      "execution_count": null,
      "metadata": {
        "id": "7Gg8xlMRnYEZ"
      },
      "outputs": [],
      "source": [
        "# Train Test Split\n",
        "X_train = df_train_preprocessed.drop(['resale_price'], axis=1)\n",
        "y_train = df_train_preprocessed['resale_price']\n",
        "\n",
        "X_test = df_test_preprocessed.drop(['resale_price'], axis=1)\n",
        "y_test = df_test_preprocessed['resale_price']"
      ]
    },
    {
      "cell_type": "markdown",
      "metadata": {
        "id": "Iod4GBvBnYEa"
      },
      "source": [
        "## Feature encoding"
      ]
    },
    {
      "cell_type": "code",
      "execution_count": null,
      "metadata": {
        "id": "Fm3WTjZwnYEa"
      },
      "outputs": [],
      "source": [
        "# Define function to split column types\n",
        "def splitColumnTypes(df):\n",
        "    cate_cols = []\n",
        "    num_cols = []\n",
        "    dtypes = df.dtypes\n",
        "    for col, dtype in dtypes.items():\n",
        "        if dtype == 'object':\n",
        "            cate_cols.append(col)\n",
        "        else:\n",
        "            num_cols.append(col)\n",
        "    return cate_cols, num_cols\n",
        "\n",
        "# Split column types\n",
        "cate_cols, num_cols = splitColumnTypes(X_train)\n",
        "\n",
        "# Define transformer\n",
        "transformer = ColumnTransformer(transformers=[('num', StandardScaler(), num_cols),\\\n",
        "                                              ('cat', OneHotEncoder(), cate_cols)])\n",
        "\n",
        "pipeline = Pipeline(steps=[('preprocessor', transformer)])\n",
        "\n",
        "# Use the fitted Pipeline to transform Test Data - Prevent Data Leakage\n",
        "X_train_encoded = pipeline.fit_transform(X_train)\n",
        "X_test_encoded = pipeline.transform(X_test)"
      ]
    },
    {
      "cell_type": "code",
      "execution_count": null,
      "metadata": {
        "colab": {
          "base_uri": "https://localhost:8080/"
        },
        "id": "S2ZVxbU6nYEa",
        "outputId": "a6d11504-7405-430c-cb5d-ebfaffb908b2"
      },
      "outputs": [
        {
          "output_type": "stream",
          "name": "stdout",
          "text": [
            "Shape of X_train_encoded: (160858, 197)\n",
            "Shape of X_test_encoded: (14035, 197)\n",
            "Shape of y_train: (160858,)\n",
            "Shape of y_test: (14035,)\n"
          ]
        }
      ],
      "source": [
        "print(\"Shape of X_train_encoded:\", X_train_encoded.shape)\n",
        "print(\"Shape of X_test_encoded:\", X_test_encoded.shape)\n",
        "print(\"Shape of y_train:\", y_train.shape)\n",
        "print(\"Shape of y_test:\", y_test.shape)"
      ]
    },
    {
      "cell_type": "markdown",
      "source": [
        "We retrieve the encoded column names."
      ],
      "metadata": {
        "id": "zSusxnQZ6em5"
      }
    },
    {
      "cell_type": "code",
      "execution_count": null,
      "metadata": {
        "id": "33turTQvFKzw"
      },
      "outputs": [],
      "source": [
        "encoded_column_names = transformer.transformers_[1][1].get_feature_names_out(input_features=cate_cols)\n",
        "\n",
        "all_column_names = list(num_cols) + list(encoded_column_names)"
      ]
    },
    {
      "cell_type": "markdown",
      "metadata": {
        "id": "qtqcM0E6XMaS"
      },
      "source": [
        "## Evaluation Metrics"
      ]
    },
    {
      "cell_type": "code",
      "source": [
        "collection_of_model_results = {}"
      ],
      "metadata": {
        "id": "nY9Tl_X7l4de"
      },
      "execution_count": null,
      "outputs": []
    },
    {
      "cell_type": "markdown",
      "metadata": {
        "id": "twTMdPGZXPgL"
      },
      "source": [
        "We define the following Evaluation Metrics for our Regression Task.\n",
        "\n",
        "Mean Absolute Error: Measures the average of the absolute differences between predicted and actual prices.\n",
        "\n",
        "R-Squared Score: Measures the proportion of the variance explained by the model.\n",
        "\n",
        "Root Mean Squared Error: Measures the average price distances (after punishing heavily mispredictions)\n",
        "\n",
        "Mean Absolute Percentage Error: Measures the average percentage difference between predicted and actual prices of flats"
      ]
    },
    {
      "cell_type": "code",
      "execution_count": null,
      "metadata": {
        "id": "THoU4qK3XNxn"
      },
      "outputs": [],
      "source": [
        "def evaluate_results(model_name, y_test, y_pred):\n",
        "    results = {}\n",
        "    results[model_name] = {\n",
        "        'Mean Absolute Error': mean_absolute_error(y_test, y_pred),\n",
        "        'R-squared score': r2_score(y_test, y_pred),\n",
        "        'Root Mean Squared Error': np.sqrt(mean_squared_error(y_test, y_pred)),\n",
        "        'Mean Absolute Percentage Error': mean_absolute_percentage_error(y_test, y_pred) * 100\n",
        "    }\n",
        "\n",
        "    print(f'{model_name}: Mean Absolute Error:', results[model_name]['Mean Absolute Error'])\n",
        "    print(f'{model_name}: R-squared score:', results[model_name]['R-squared score'])\n",
        "    print(f'{model_name}: Root Mean Squared Error:', results[model_name]['Root Mean Squared Error'])\n",
        "    print(f'{model_name}: Mean Absolute Percentage Error:', results[model_name]['Mean Absolute Percentage Error'], \"%\")\n",
        "\n",
        "    return results"
      ]
    },
    {
      "cell_type": "code",
      "source": [
        "def plot_prediction_results(y_test, y_pred):\n",
        "    plt.figure(figsize=(8, 6))\n",
        "    plt.scatter(y_test, y_pred, color='blue', alpha=0.5)\n",
        "    plt.title('Predicted Labels against Actual Labels')\n",
        "    plt.xlabel('True Labels')\n",
        "    plt.ylabel('Predicted Labels')"
      ],
      "metadata": {
        "id": "utbgCAxVA-Z7"
      },
      "execution_count": null,
      "outputs": []
    },
    {
      "cell_type": "markdown",
      "metadata": {
        "id": "4t3x74eRnYEc"
      },
      "source": [
        "## Linear Regression"
      ]
    },
    {
      "cell_type": "markdown",
      "source": [],
      "metadata": {
        "id": "qoOIGsbKZWLC"
      }
    },
    {
      "cell_type": "code",
      "execution_count": null,
      "metadata": {
        "id": "9NiHopFGnYEc"
      },
      "outputs": [],
      "source": [
        "lr = LinearRegression()\n",
        "lr.fit(X_train_encoded, y_train)\n",
        "y_pred_lr = lr.predict(X_test_encoded)"
      ]
    },
    {
      "cell_type": "code",
      "execution_count": null,
      "metadata": {
        "colab": {
          "base_uri": "https://localhost:8080/"
        },
        "id": "nyviexBjZ_y8",
        "outputId": "7e866524-6eab-4b23-f024-5a7bc0dd7f04"
      },
      "outputs": [
        {
          "output_type": "stream",
          "name": "stdout",
          "text": [
            "Linear Regression: Mean Absolute Error: 48455.090760864936\n",
            "Linear Regression: R-squared score: 0.8645750583529281\n",
            "Linear Regression: Root Mean Squared Error: 65433.19863576084\n",
            "Linear Regression: Mean Absolute Percentage Error: 8.253609793219747 %\n"
          ]
        }
      ],
      "source": [
        "lr_results = evaluate_results(\"Linear Regression\", y_test, y_pred_lr)\n",
        "collection_of_model_results['Linear Regression'] = lr_results"
      ]
    },
    {
      "cell_type": "code",
      "source": [
        "plot_prediction_results(y_test, y_pred_lr)"
      ],
      "metadata": {
        "colab": {
          "base_uri": "https://localhost:8080/",
          "height": 514
        },
        "id": "IoZLTtaPBhZe",
        "outputId": "8e8ebb43-af8e-4d19-88b3-49c5b8bff65a"
      },
      "execution_count": null,
      "outputs": [
        {
          "output_type": "display_data",
          "data": {
            "text/plain": [
              "<Figure size 800x600 with 1 Axes>"
            ],
            "image/png": "[encoded data removed]"
          },
          "metadata": {}
        }
      ]
    },
    {
      "cell_type": "markdown",
      "metadata": {
        "id": "3CWuXLvBnYEc"
      },
      "source": [
        "## Linear Regression with Regularisation"
      ]
    },
    {
      "cell_type": "markdown",
      "metadata": {
        "id": "cnzRd1VqP6ZI"
      },
      "source": [
        "In this section, we attempt to fit our encoded dataset into Linear Regression models with L2 and L1 Regression. Since our encoded dataset contains over 190 features, regularisation may have a big role in attaining higher test scores as compared to the baseline Regression Models."
      ]
    },
    {
      "cell_type": "markdown",
      "metadata": {
        "id": "RkgdKX7DP4hB"
      },
      "source": [
        "### L2 Regularisation (Ridge)"
      ]
    },
    {
      "cell_type": "code",
      "execution_count": null,
      "metadata": {
        "colab": {
          "base_uri": "https://localhost:8080/",
          "height": 75
        },
        "id": "35EA7N3unYEc",
        "outputId": "e46db2bd-37fa-442b-a17f-fef119a35790"
      },
      "outputs": [
        {
          "output_type": "execute_result",
          "data": {
            "text/plain": [
              "RidgeCV(cv=5)"
            ],
            "text/html": [
              "<style>#sk-container-id-2 {color: black;background-color: white;}#sk-container-id-2 pre{padding: 0;}#sk-container-id-2 div.sk-toggleable {background-color: white;}#sk-container-id-2 label.sk-toggleable__label {cursor: pointer;display: block;width: 100%;margin-bottom: 0;padding: 0.3em;box-sizing: border-box;text-align: center;}#sk-container-id-2 label.sk-toggleable__label-arrow:before {content: \"▸\";float: left;margin-right: 0.25em;color: #696969;}#sk-container-id-2 label.sk-toggleable__label-arrow:hover:before {color: black;}#sk-container-id-2 div.sk-estimator:hover label.sk-toggleable__label-arrow:before {color: black;}#sk-container-id-2 div.sk-toggleable__content {max-height: 0;max-width: 0;overflow: hidden;text-align: left;background-color: #f0f8ff;}#sk-container-id-2 div.sk-toggleable__content pre {margin: 0.2em;color: black;border-radius: 0.25em;background-color: #f0f8ff;}#sk-container-id-2 input.sk-toggleable__control:checked~div.sk-toggleable__content {max-height: 200px;max-width: 100%;overflow: auto;}#sk-container-id-2 input.sk-toggleable__control:checked~label.sk-toggleable__label-arrow:before {content: \"▾\";}#sk-container-id-2 div.sk-estimator input.sk-toggleable__control:checked~label.sk-toggleable__label {background-color: #d4ebff;}#sk-container-id-2 div.sk-label input.sk-toggleable__control:checked~label.sk-toggleable__label {background-color: #d4ebff;}#sk-container-id-2 input.sk-hidden--visually {border: 0;clip: rect(1px 1px 1px 1px);clip: rect(1px, 1px, 1px, 1px);height: 1px;margin: -1px;overflow: hidden;padding: 0;position: absolute;width: 1px;}#sk-container-id-2 div.sk-estimator {font-family: monospace;background-color: #f0f8ff;border: 1px dotted black;border-radius: 0.25em;box-sizing: border-box;margin-bottom: 0.5em;}#sk-container-id-2 div.sk-estimator:hover {background-color: #d4ebff;}#sk-container-id-2 div.sk-parallel-item::after {content: \"\";width: 100%;border-bottom: 1px solid gray;flex-grow: 1;}#sk-container-id-2 div.sk-label:hover label.sk-toggleable__label {background-color: #d4ebff;}#sk-container-id-2 div.sk-serial::before {content: \"\";position: absolute;border-left: 1px solid gray;box-sizing: border-box;top: 0;bottom: 0;left: 50%;z-index: 0;}#sk-container-id-2 div.sk-serial {display: flex;flex-direction: column;align-items: center;background-color: white;padding-right: 0.2em;padding-left: 0.2em;position: relative;}#sk-container-id-2 div.sk-item {position: relative;z-index: 1;}#sk-container-id-2 div.sk-parallel {display: flex;align-items: stretch;justify-content: center;background-color: white;position: relative;}#sk-container-id-2 div.sk-item::before, #sk-container-id-2 div.sk-parallel-item::before {content: \"\";position: absolute;border-left: 1px solid gray;box-sizing: border-box;top: 0;bottom: 0;left: 50%;z-index: -1;}#sk-container-id-2 div.sk-parallel-item {display: flex;flex-direction: column;z-index: 1;position: relative;background-color: white;}#sk-container-id-2 div.sk-parallel-item:first-child::after {align-self: flex-end;width: 50%;}#sk-container-id-2 div.sk-parallel-item:last-child::after {align-self: flex-start;width: 50%;}#sk-container-id-2 div.sk-parallel-item:only-child::after {width: 0;}#sk-container-id-2 div.sk-dashed-wrapped {border: 1px dashed gray;margin: 0 0.4em 0.5em 0.4em;box-sizing: border-box;padding-bottom: 0.4em;background-color: white;}#sk-container-id-2 div.sk-label label {font-family: monospace;font-weight: bold;display: inline-block;line-height: 1.2em;}#sk-container-id-2 div.sk-label-container {text-align: center;}#sk-container-id-2 div.sk-container {/* jupyter's `normalize.less` sets `[hidden] { display: none; }` but bootstrap.min.css set `[hidden] { display: none !important; }` so we also need the `!important` here to be able to override the default hidden behavior on the sphinx rendered scikit-learn.org. See: https://github.com/scikit-learn/scikit-learn/issues/21755 */display: inline-block !important;position: relative;}#sk-container-id-2 div.sk-text-repr-fallback {display: none;}</style><div id=\"sk-container-id-2\" class=\"sk-top-container\"><div class=\"sk-text-repr-fallback\"><pre>RidgeCV(cv=5)</pre><b>In a Jupyter environment, please rerun this cell to show the HTML representation or trust the notebook. <br />On GitHub, the HTML representation is unable to render, please try loading this page with nbviewer.org.</b></div><div class=\"sk-container\" hidden><div class=\"sk-item\"><div class=\"sk-estimator sk-toggleable\"><input class=\"sk-toggleable__control sk-hidden--visually\" id=\"sk-estimator-id-2\" type=\"checkbox\" checked><label for=\"sk-estimator-id-2\" class=\"sk-toggleable__label sk-toggleable__label-arrow\">RidgeCV</label><div class=\"sk-toggleable__content\"><pre>RidgeCV(cv=5)</pre></div></div></div></div></div>"
            ]
          },
          "metadata": {},
          "execution_count": 60
        }
      ],
      "source": [
        "l2_lr = RidgeCV(cv = 5)\n",
        "l2_lr.fit(X_train_encoded, y_train)"
      ]
    },
    {
      "cell_type": "markdown",
      "metadata": {
        "id": "yY5ez4SybZ6c"
      },
      "source": [
        "The best L2 Regularisation Parameter is 0.1."
      ]
    },
    {
      "cell_type": "code",
      "execution_count": null,
      "metadata": {
        "colab": {
          "base_uri": "https://localhost:8080/"
        },
        "id": "rfAMKxf8aiGf",
        "outputId": "548e650b-bdaf-4b82-de4c-bd8d26b4eb0a"
      },
      "outputs": [
        {
          "output_type": "stream",
          "name": "stdout",
          "text": [
            "Best alpha parameter: 0.1\n",
            "Best alpha cv score: 0.818291979982052\n"
          ]
        }
      ],
      "source": [
        "print(\"Best alpha parameter:\", l2_lr.alpha_)\n",
        "print(\"Best alpha cv score:\", l2_lr.best_score_)"
      ]
    },
    {
      "cell_type": "code",
      "execution_count": null,
      "metadata": {
        "id": "8kvNAHw4nYEd"
      },
      "outputs": [],
      "source": [
        "y_pred_ridge = l2_lr.predict(X_test_encoded)"
      ]
    },
    {
      "cell_type": "code",
      "source": [
        "l2_reg_results = evaluate_results(\"L2 Linear Regression (Ridge)\", y_test, y_pred_ridge)\n",
        "collection_of_model_results['L2 Linear Regression (Ridge)'] = l2_reg_results"
      ],
      "metadata": {
        "colab": {
          "base_uri": "https://localhost:8080/"
        },
        "id": "Sza8R7IsljR2",
        "outputId": "b906c589-9241-4238-dae1-e78203d097b8"
      },
      "execution_count": null,
      "outputs": [
        {
          "output_type": "stream",
          "name": "stdout",
          "text": [
            "L2 Linear Regression (Ridge): Mean Absolute Error: 48476.53629754607\n",
            "L2 Linear Regression (Ridge): R-squared score: 0.864473247747449\n",
            "L2 Linear Regression (Ridge): Root Mean Squared Error: 65457.78990343943\n",
            "L2 Linear Regression (Ridge): Mean Absolute Percentage Error: 8.252991480226274 %\n"
          ]
        }
      ]
    },
    {
      "cell_type": "code",
      "source": [
        "plot_prediction_results(y_test, y_pred_ridge)"
      ],
      "metadata": {
        "colab": {
          "base_uri": "https://localhost:8080/",
          "height": 564
        },
        "id": "2z7ZCiEmBt6g",
        "outputId": "22f00116-aa21-4f3b-c245-61dc0ab774ae"
      },
      "execution_count": null,
      "outputs": [
        {
          "output_type": "display_data",
          "data": {
            "text/plain": [
              "<Figure size 800x600 with 1 Axes>"
            ],
            "image/png": "[encoded data removed]"
          },
          "metadata": {}
        }
      ]
    },
    {
      "cell_type": "markdown",
      "metadata": {
        "id": "ybsMs8D0nYEd"
      },
      "source": [
        "### Lasso Model L1"
      ]
    },
    {
      "cell_type": "markdown",
      "metadata": {
        "id": "a2JSCFHIdRGt"
      },
      "source": [
        "It appears that the Lasso Regression model failed to converge during its cross validation."
      ]
    },
    {
      "cell_type": "code",
      "execution_count": null,
      "metadata": {
        "colab": {
          "base_uri": "https://localhost:8080/",
          "height": 850
        },
        "id": "Mgz2hRZenYEd",
        "outputId": "0991200e-2c07-4b88-ae9d-962faa0fa99f"
      },
      "outputs": [
        {
          "output_type": "stream",
          "name": "stderr",
          "text": [
            "/usr/local/lib/python3.10/dist-packages/sklearn/linear_model/_coordinate_descent.py:592: ConvergenceWarning: Objective did not converge. You might want to increase the number of iterations. Duality gap: 39853496018526.09, tolerance: 373818057061.2144\n",
            "  model = cd_fast.sparse_enet_coordinate_descent(\n",
            "/usr/local/lib/python3.10/dist-packages/sklearn/linear_model/_coordinate_descent.py:592: ConvergenceWarning: Objective did not converge. You might want to increase the number of iterations. Duality gap: 105715652602153.16, tolerance: 373818057061.2144\n",
            "  model = cd_fast.sparse_enet_coordinate_descent(\n",
            "/usr/local/lib/python3.10/dist-packages/sklearn/linear_model/_coordinate_descent.py:592: ConvergenceWarning: Objective did not converge. You might want to increase the number of iterations. Duality gap: 159408997751981.06, tolerance: 373818057061.2144\n",
            "  model = cd_fast.sparse_enet_coordinate_descent(\n",
            "/usr/local/lib/python3.10/dist-packages/sklearn/linear_model/_coordinate_descent.py:592: ConvergenceWarning: Objective did not converge. You might want to increase the number of iterations. Duality gap: 164210316779973.9, tolerance: 373818057061.2144\n",
            "  model = cd_fast.sparse_enet_coordinate_descent(\n",
            "/usr/local/lib/python3.10/dist-packages/sklearn/linear_model/_coordinate_descent.py:592: ConvergenceWarning: Objective did not converge. You might want to increase the number of iterations. Duality gap: 56823754221257.0, tolerance: 366816482827.3388\n",
            "  model = cd_fast.sparse_enet_coordinate_descent(\n",
            "/usr/local/lib/python3.10/dist-packages/sklearn/linear_model/_coordinate_descent.py:592: ConvergenceWarning: Objective did not converge. You might want to increase the number of iterations. Duality gap: 112073609024509.42, tolerance: 366816482827.3388\n",
            "  model = cd_fast.sparse_enet_coordinate_descent(\n",
            "/usr/local/lib/python3.10/dist-packages/sklearn/linear_model/_coordinate_descent.py:592: ConvergenceWarning: Objective did not converge. You might want to increase the number of iterations. Duality gap: 184238227433445.2, tolerance: 366816482827.3388\n",
            "  model = cd_fast.sparse_enet_coordinate_descent(\n",
            "/usr/local/lib/python3.10/dist-packages/sklearn/linear_model/_coordinate_descent.py:592: ConvergenceWarning: Objective did not converge. You might want to increase the number of iterations. Duality gap: 191906094777163.6, tolerance: 366816482827.3388\n",
            "  model = cd_fast.sparse_enet_coordinate_descent(\n",
            "/usr/local/lib/python3.10/dist-packages/sklearn/linear_model/_coordinate_descent.py:592: ConvergenceWarning: Objective did not converge. You might want to increase the number of iterations. Duality gap: 65197067126177.5, tolerance: 364975173968.8339\n",
            "  model = cd_fast.sparse_enet_coordinate_descent(\n",
            "/usr/local/lib/python3.10/dist-packages/sklearn/linear_model/_coordinate_descent.py:592: ConvergenceWarning: Objective did not converge. You might want to increase the number of iterations. Duality gap: 63933512631947.97, tolerance: 364975173968.8339\n",
            "  model = cd_fast.sparse_enet_coordinate_descent(\n",
            "/usr/local/lib/python3.10/dist-packages/sklearn/linear_model/_coordinate_descent.py:592: ConvergenceWarning: Objective did not converge. You might want to increase the number of iterations. Duality gap: 171280198574470.38, tolerance: 364975173968.8339\n",
            "  model = cd_fast.sparse_enet_coordinate_descent(\n",
            "/usr/local/lib/python3.10/dist-packages/sklearn/linear_model/_coordinate_descent.py:592: ConvergenceWarning: Objective did not converge. You might want to increase the number of iterations. Duality gap: 178477916805653.9, tolerance: 364975173968.8339\n",
            "  model = cd_fast.sparse_enet_coordinate_descent(\n",
            "/usr/local/lib/python3.10/dist-packages/sklearn/linear_model/_coordinate_descent.py:592: ConvergenceWarning: Objective did not converge. You might want to increase the number of iterations. Duality gap: 25921268135232.188, tolerance: 370537892137.14514\n",
            "  model = cd_fast.sparse_enet_coordinate_descent(\n",
            "/usr/local/lib/python3.10/dist-packages/sklearn/linear_model/_coordinate_descent.py:592: ConvergenceWarning: Objective did not converge. You might want to increase the number of iterations. Duality gap: 116542268891796.45, tolerance: 370537892137.14514\n",
            "  model = cd_fast.sparse_enet_coordinate_descent(\n",
            "/usr/local/lib/python3.10/dist-packages/sklearn/linear_model/_coordinate_descent.py:592: ConvergenceWarning: Objective did not converge. You might want to increase the number of iterations. Duality gap: 187870996773092.22, tolerance: 370537892137.14514\n",
            "  model = cd_fast.sparse_enet_coordinate_descent(\n",
            "/usr/local/lib/python3.10/dist-packages/sklearn/linear_model/_coordinate_descent.py:592: ConvergenceWarning: Objective did not converge. You might want to increase the number of iterations. Duality gap: 194779030198099.06, tolerance: 370537892137.14514\n",
            "  model = cd_fast.sparse_enet_coordinate_descent(\n",
            "/usr/local/lib/python3.10/dist-packages/sklearn/linear_model/_coordinate_descent.py:592: ConvergenceWarning: Objective did not converge. You might want to increase the number of iterations. Duality gap: 36785596140594.31, tolerance: 336359560256.9839\n",
            "  model = cd_fast.sparse_enet_coordinate_descent(\n",
            "/usr/local/lib/python3.10/dist-packages/sklearn/linear_model/_coordinate_descent.py:592: ConvergenceWarning: Objective did not converge. You might want to increase the number of iterations. Duality gap: 86393308094342.52, tolerance: 336359560256.9839\n",
            "  model = cd_fast.sparse_enet_coordinate_descent(\n",
            "/usr/local/lib/python3.10/dist-packages/sklearn/linear_model/_coordinate_descent.py:592: ConvergenceWarning: Objective did not converge. You might want to increase the number of iterations. Duality gap: 155601316838537.94, tolerance: 336359560256.9839\n",
            "  model = cd_fast.sparse_enet_coordinate_descent(\n",
            "/usr/local/lib/python3.10/dist-packages/sklearn/linear_model/_coordinate_descent.py:592: ConvergenceWarning: Objective did not converge. You might want to increase the number of iterations. Duality gap: 160899598693721.2, tolerance: 336359560256.9839\n",
            "  model = cd_fast.sparse_enet_coordinate_descent(\n",
            "/usr/local/lib/python3.10/dist-packages/sklearn/linear_model/_coordinate_descent.py:592: ConvergenceWarning: Objective did not converge. You might want to increase the number of iterations. Duality gap: 234619921237327.1, tolerance: 455541750060.5352\n",
            "  model = cd_fast.sparse_enet_coordinate_descent(\n"
          ]
        },
        {
          "output_type": "execute_result",
          "data": {
            "text/plain": [
              "LassoCV(alphas=[0.01, 0.1, 1.0, 10.0], max_iter=200)"
            ],
            "text/html": [
              "<style>#sk-container-id-2 {color: black;background-color: white;}#sk-container-id-2 pre{padding: 0;}#sk-container-id-2 div.sk-toggleable {background-color: white;}#sk-container-id-2 label.sk-toggleable__label {cursor: pointer;display: block;width: 100%;margin-bottom: 0;padding: 0.3em;box-sizing: border-box;text-align: center;}#sk-container-id-2 label.sk-toggleable__label-arrow:before {content: \"▸\";float: left;margin-right: 0.25em;color: #696969;}#sk-container-id-2 label.sk-toggleable__label-arrow:hover:before {color: black;}#sk-container-id-2 div.sk-estimator:hover label.sk-toggleable__label-arrow:before {color: black;}#sk-container-id-2 div.sk-toggleable__content {max-height: 0;max-width: 0;overflow: hidden;text-align: left;background-color: #f0f8ff;}#sk-container-id-2 div.sk-toggleable__content pre {margin: 0.2em;color: black;border-radius: 0.25em;background-color: #f0f8ff;}#sk-container-id-2 input.sk-toggleable__control:checked~div.sk-toggleable__content {max-height: 200px;max-width: 100%;overflow: auto;}#sk-container-id-2 input.sk-toggleable__control:checked~label.sk-toggleable__label-arrow:before {content: \"▾\";}#sk-container-id-2 div.sk-estimator input.sk-toggleable__control:checked~label.sk-toggleable__label {background-color: #d4ebff;}#sk-container-id-2 div.sk-label input.sk-toggleable__control:checked~label.sk-toggleable__label {background-color: #d4ebff;}#sk-container-id-2 input.sk-hidden--visually {border: 0;clip: rect(1px 1px 1px 1px);clip: rect(1px, 1px, 1px, 1px);height: 1px;margin: -1px;overflow: hidden;padding: 0;position: absolute;width: 1px;}#sk-container-id-2 div.sk-estimator {font-family: monospace;background-color: #f0f8ff;border: 1px dotted black;border-radius: 0.25em;box-sizing: border-box;margin-bottom: 0.5em;}#sk-container-id-2 div.sk-estimator:hover {background-color: #d4ebff;}#sk-container-id-2 div.sk-parallel-item::after {content: \"\";width: 100%;border-bottom: 1px solid gray;flex-grow: 1;}#sk-container-id-2 div.sk-label:hover label.sk-toggleable__label {background-color: #d4ebff;}#sk-container-id-2 div.sk-serial::before {content: \"\";position: absolute;border-left: 1px solid gray;box-sizing: border-box;top: 0;bottom: 0;left: 50%;z-index: 0;}#sk-container-id-2 div.sk-serial {display: flex;flex-direction: column;align-items: center;background-color: white;padding-right: 0.2em;padding-left: 0.2em;position: relative;}#sk-container-id-2 div.sk-item {position: relative;z-index: 1;}#sk-container-id-2 div.sk-parallel {display: flex;align-items: stretch;justify-content: center;background-color: white;position: relative;}#sk-container-id-2 div.sk-item::before, #sk-container-id-2 div.sk-parallel-item::before {content: \"\";position: absolute;border-left: 1px solid gray;box-sizing: border-box;top: 0;bottom: 0;left: 50%;z-index: -1;}#sk-container-id-2 div.sk-parallel-item {display: flex;flex-direction: column;z-index: 1;position: relative;background-color: white;}#sk-container-id-2 div.sk-parallel-item:first-child::after {align-self: flex-end;width: 50%;}#sk-container-id-2 div.sk-parallel-item:last-child::after {align-self: flex-start;width: 50%;}#sk-container-id-2 div.sk-parallel-item:only-child::after {width: 0;}#sk-container-id-2 div.sk-dashed-wrapped {border: 1px dashed gray;margin: 0 0.4em 0.5em 0.4em;box-sizing: border-box;padding-bottom: 0.4em;background-color: white;}#sk-container-id-2 div.sk-label label {font-family: monospace;font-weight: bold;display: inline-block;line-height: 1.2em;}#sk-container-id-2 div.sk-label-container {text-align: center;}#sk-container-id-2 div.sk-container {/* jupyter's `normalize.less` sets `[hidden] { display: none; }` but bootstrap.min.css set `[hidden] { display: none !important; }` so we also need the `!important` here to be able to override the default hidden behavior on the sphinx rendered scikit-learn.org. See: https://github.com/scikit-learn/scikit-learn/issues/21755 */display: inline-block !important;position: relative;}#sk-container-id-2 div.sk-text-repr-fallback {display: none;}</style><div id=\"sk-container-id-2\" class=\"sk-top-container\"><div class=\"sk-text-repr-fallback\"><pre>LassoCV(alphas=[0.01, 0.1, 1.0, 10.0], max_iter=200)</pre><b>In a Jupyter environment, please rerun this cell to show the HTML representation or trust the notebook. <br />On GitHub, the HTML representation is unable to render, please try loading this page with nbviewer.org.</b></div><div class=\"sk-container\" hidden><div class=\"sk-item\"><div class=\"sk-estimator sk-toggleable\"><input class=\"sk-toggleable__control sk-hidden--visually\" id=\"sk-estimator-id-2\" type=\"checkbox\" checked><label for=\"sk-estimator-id-2\" class=\"sk-toggleable__label sk-toggleable__label-arrow\">LassoCV</label><div class=\"sk-toggleable__content\"><pre>LassoCV(alphas=[0.01, 0.1, 1.0, 10.0], max_iter=200)</pre></div></div></div></div></div>"
            ]
          },
          "metadata": {},
          "execution_count": 127
        }
      ],
      "source": [
        "l1_cv = LassoCV(alphas=[0.01, 0.1, 1.0, 10.0], max_iter = 200)\n",
        "l1_cv.fit(X_train_encoded, y_train)"
      ]
    },
    {
      "cell_type": "code",
      "execution_count": null,
      "metadata": {
        "colab": {
          "base_uri": "https://localhost:8080/"
        },
        "id": "ETmiBM6wbw-8",
        "outputId": "9e937e61-a17e-4142-da36-10bc151e0b48"
      },
      "outputs": [
        {
          "output_type": "stream",
          "name": "stdout",
          "text": [
            "Best alpha parameter: 0.01\n"
          ]
        }
      ],
      "source": [
        "print(\"Best alpha parameter:\", l1_cv.alpha_)"
      ]
    },
    {
      "cell_type": "code",
      "execution_count": null,
      "metadata": {
        "colab": {
          "base_uri": "https://localhost:8080/"
        },
        "id": "mMpJB3wBnYEd",
        "outputId": "b3016dc4-679a-454b-9e22-1a922d34acc3"
      },
      "outputs": [
        {
          "output_type": "stream",
          "name": "stdout",
          "text": [
            "L1 Linear Regression (Lasso): Mean Absolute Error: 48474.960338679964\n",
            "L1 Linear Regression (Lasso): R-squared score: 0.8645172054277863\n",
            "L1 Linear Regression (Lasso): Root Mean Squared Error: 65447.17352729639\n",
            "L1 Linear Regression (Lasso): Mean Absolute Percentage Error: 8.25331091243294 %\n"
          ]
        }
      ],
      "source": [
        "y_pred_lasso = l1_cv.predict(X_test_encoded)\n",
        "l1_reg_results = evaluate_results(\"L1 Linear Regression (Lasso)\", y_test, y_pred_lasso)\n",
        "collection_of_model_results['L1 Linear Regression (Lasso)'] = l1_reg_results"
      ]
    },
    {
      "cell_type": "code",
      "source": [
        "plot_prediction_results(y_test, y_pred_lasso)"
      ],
      "metadata": {
        "colab": {
          "base_uri": "https://localhost:8080/",
          "height": 564
        },
        "id": "dqUrkWTNBvmh",
        "outputId": "7e02ce09-f30d-404f-d4a8-a0a549bb9b8c"
      },
      "execution_count": null,
      "outputs": [
        {
          "output_type": "display_data",
          "data": {
            "text/plain": [
              "<Figure size 800x600 with 1 Axes>"
            ],
            "image/png": "[encoded data removed]"
          },
          "metadata": {}
        }
      ]
    },
    {
      "cell_type": "markdown",
      "metadata": {
        "id": "QI05AGn4nYEe"
      },
      "source": [
        "### ElasticNet Model (L1 + L2 Regularisation)"
      ]
    },
    {
      "cell_type": "markdown",
      "source": [
        "After fitting the data into the individual L1 and L2 Regression Models, we would want to see if using the ElasticNet Model (combined L1 and L2 Regularisation) would achieve better results. We also want to analyse what is the best L1-Ratio that achieves the highest CV score. The l1_ratio mixing parameter ranges from 0 to 1. When l1_ratio is 0, the penalty applied is an L2 penalty. Conversely, when l1_ratio is 1, it corresponds to an L1 penalty. For values of l1_ratio between 0 and 1 exclusive, the penalty combines elements of both L1 and L2 penalties.\n",
        "\n",
        "According to sklearn's documenatation on ElasticNet, a good choice of list of values for l1_ratio is often to put more values close to 1 (i.e. Lasso) and less close to 0 (i.e. Ridge)."
      ],
      "metadata": {
        "id": "M6bIzCPn67gc"
      }
    },
    {
      "cell_type": "code",
      "execution_count": null,
      "metadata": {
        "id": "zvhx514-nYEe",
        "colab": {
          "base_uri": "https://localhost:8080/",
          "height": 717
        },
        "outputId": "2b0d8e3a-e246-4c06-fe0f-36f9a1275464"
      },
      "outputs": [
        {
          "output_type": "stream",
          "name": "stdout",
          "text": [
            "Path: 000 out of 006\n",
            "Path: 001 out of 006\n",
            "Path: 002 out of 006\n",
            "Path: 003 out of 006\n",
            "Path: 004 out of 006\n",
            "Path: 005 out of 006\n",
            "Path: 000 out of 006\n",
            "Path: 001 out of 006\n",
            "Path: 002 out of 006\n",
            "Path: 003 out of 006\n",
            "Path: 004 out of 006\n",
            "Path: 005 out of 006\n",
            "Path: 000 out of 006\n",
            "Path: 001 out of 006\n",
            "Path: 002 out of 006\n",
            "Path: 003 out of 006\n",
            "Path: 004 out of 006\n",
            "Path: 005 out of 006\n",
            "Path: 000 out of 006\n",
            "Path: 001 out of 006\n",
            "Path: 002 out of 006\n",
            "Path: 003 out of 006\n",
            "Path: 004 out of 006\n",
            "Path: 005 out of 006\n",
            "Path: 000 out of 006\n",
            "Path: 001 out of 006\n",
            "Path: 002 out of 006\n",
            "Path: 003 out of 006\n",
            "Path: 004 out of 006\n",
            "Path: 005 out of 006\n",
            "Path: 000 out of 006\n",
            "Path: 001 out of 006\n",
            "Path: 002 out of 006\n",
            "Path: 003 out of 006\n",
            "Path: 004 out of 006\n",
            "Path: 005 out of 006\n"
          ]
        },
        {
          "output_type": "execute_result",
          "data": {
            "text/plain": [
              "ElasticNetCV(alphas=[0.1, 0.5, 1.0, 5.0, 10, 100], cv=2,\n",
              "             l1_ratio=[0.9, 0.95, 0.97], verbose=2)"
            ],
            "text/html": [
              "<style>#sk-container-id-4 {color: black;background-color: white;}#sk-container-id-4 pre{padding: 0;}#sk-container-id-4 div.sk-toggleable {background-color: white;}#sk-container-id-4 label.sk-toggleable__label {cursor: pointer;display: block;width: 100%;margin-bottom: 0;padding: 0.3em;box-sizing: border-box;text-align: center;}#sk-container-id-4 label.sk-toggleable__label-arrow:before {content: \"▸\";float: left;margin-right: 0.25em;color: #696969;}#sk-container-id-4 label.sk-toggleable__label-arrow:hover:before {color: black;}#sk-container-id-4 div.sk-estimator:hover label.sk-toggleable__label-arrow:before {color: black;}#sk-container-id-4 div.sk-toggleable__content {max-height: 0;max-width: 0;overflow: hidden;text-align: left;background-color: #f0f8ff;}#sk-container-id-4 div.sk-toggleable__content pre {margin: 0.2em;color: black;border-radius: 0.25em;background-color: #f0f8ff;}#sk-container-id-4 input.sk-toggleable__control:checked~div.sk-toggleable__content {max-height: 200px;max-width: 100%;overflow: auto;}#sk-container-id-4 input.sk-toggleable__control:checked~label.sk-toggleable__label-arrow:before {content: \"▾\";}#sk-container-id-4 div.sk-estimator input.sk-toggleable__control:checked~label.sk-toggleable__label {background-color: #d4ebff;}#sk-container-id-4 div.sk-label input.sk-toggleable__control:checked~label.sk-toggleable__label {background-color: #d4ebff;}#sk-container-id-4 input.sk-hidden--visually {border: 0;clip: rect(1px 1px 1px 1px);clip: rect(1px, 1px, 1px, 1px);height: 1px;margin: -1px;overflow: hidden;padding: 0;position: absolute;width: 1px;}#sk-container-id-4 div.sk-estimator {font-family: monospace;background-color: #f0f8ff;border: 1px dotted black;border-radius: 0.25em;box-sizing: border-box;margin-bottom: 0.5em;}#sk-container-id-4 div.sk-estimator:hover {background-color: #d4ebff;}#sk-container-id-4 div.sk-parallel-item::after {content: \"\";width: 100%;border-bottom: 1px solid gray;flex-grow: 1;}#sk-container-id-4 div.sk-label:hover label.sk-toggleable__label {background-color: #d4ebff;}#sk-container-id-4 div.sk-serial::before {content: \"\";position: absolute;border-left: 1px solid gray;box-sizing: border-box;top: 0;bottom: 0;left: 50%;z-index: 0;}#sk-container-id-4 div.sk-serial {display: flex;flex-direction: column;align-items: center;background-color: white;padding-right: 0.2em;padding-left: 0.2em;position: relative;}#sk-container-id-4 div.sk-item {position: relative;z-index: 1;}#sk-container-id-4 div.sk-parallel {display: flex;align-items: stretch;justify-content: center;background-color: white;position: relative;}#sk-container-id-4 div.sk-item::before, #sk-container-id-4 div.sk-parallel-item::before {content: \"\";position: absolute;border-left: 1px solid gray;box-sizing: border-box;top: 0;bottom: 0;left: 50%;z-index: -1;}#sk-container-id-4 div.sk-parallel-item {display: flex;flex-direction: column;z-index: 1;position: relative;background-color: white;}#sk-container-id-4 div.sk-parallel-item:first-child::after {align-self: flex-end;width: 50%;}#sk-container-id-4 div.sk-parallel-item:last-child::after {align-self: flex-start;width: 50%;}#sk-container-id-4 div.sk-parallel-item:only-child::after {width: 0;}#sk-container-id-4 div.sk-dashed-wrapped {border: 1px dashed gray;margin: 0 0.4em 0.5em 0.4em;box-sizing: border-box;padding-bottom: 0.4em;background-color: white;}#sk-container-id-4 div.sk-label label {font-family: monospace;font-weight: bold;display: inline-block;line-height: 1.2em;}#sk-container-id-4 div.sk-label-container {text-align: center;}#sk-container-id-4 div.sk-container {/* jupyter's `normalize.less` sets `[hidden] { display: none; }` but bootstrap.min.css set `[hidden] { display: none !important; }` so we also need the `!important` here to be able to override the default hidden behavior on the sphinx rendered scikit-learn.org. See: https://github.com/scikit-learn/scikit-learn/issues/21755 */display: inline-block !important;position: relative;}#sk-container-id-4 div.sk-text-repr-fallback {display: none;}</style><div id=\"sk-container-id-4\" class=\"sk-top-container\"><div class=\"sk-text-repr-fallback\"><pre>ElasticNetCV(alphas=[0.1, 0.5, 1.0, 5.0, 10, 100], cv=2,\n",
              "             l1_ratio=[0.9, 0.95, 0.97], verbose=2)</pre><b>In a Jupyter environment, please rerun this cell to show the HTML representation or trust the notebook. <br />On GitHub, the HTML representation is unable to render, please try loading this page with nbviewer.org.</b></div><div class=\"sk-container\" hidden><div class=\"sk-item\"><div class=\"sk-estimator sk-toggleable\"><input class=\"sk-toggleable__control sk-hidden--visually\" id=\"sk-estimator-id-4\" type=\"checkbox\" checked><label for=\"sk-estimator-id-4\" class=\"sk-toggleable__label sk-toggleable__label-arrow\">ElasticNetCV</label><div class=\"sk-toggleable__content\"><pre>ElasticNetCV(alphas=[0.1, 0.5, 1.0, 5.0, 10, 100], cv=2,\n",
              "             l1_ratio=[0.9, 0.95, 0.97], verbose=2)</pre></div></div></div></div></div>"
            ]
          },
          "metadata": {},
          "execution_count": 69
        }
      ],
      "source": [
        "elastic_cv = ElasticNetCV(cv=2, alphas = [0.1, 0.5, 1.0, 5.0, 10, 100],\n",
        "                          l1_ratio = [0.9, 0.95, 0.97],\n",
        "                          verbose = 2)\n",
        "\n",
        "elastic_cv.fit(X_train_encoded, y_train)"
      ]
    },
    {
      "cell_type": "code",
      "execution_count": null,
      "metadata": {
        "id": "uprj-_ptnYEe",
        "colab": {
          "base_uri": "https://localhost:8080/"
        },
        "outputId": "152f923f-9bf3-4273-83f0-ee9634610eec"
      },
      "outputs": [
        {
          "output_type": "stream",
          "name": "stdout",
          "text": [
            "Best alpha parameter: 0.5\n",
            "l1_ratio: 0.9\n"
          ]
        }
      ],
      "source": [
        "alpha = elastic_cv.alpha_\n",
        "l1_ratio = elastic_cv.l1_ratio_\n",
        "\n",
        "print(\"Best alpha parameter:\", alpha)\n",
        "print(f'l1_ratio: {l1_ratio}')"
      ]
    },
    {
      "cell_type": "code",
      "execution_count": null,
      "metadata": {
        "id": "mKbABAepnYEe",
        "colab": {
          "base_uri": "https://localhost:8080/",
          "height": 75
        },
        "outputId": "490aa5c5-63d4-4ca4-edf3-91a449c08f80"
      },
      "outputs": [
        {
          "output_type": "execute_result",
          "data": {
            "text/plain": [
              "ElasticNet(alpha=0.5, l1_ratio=0.9)"
            ],
            "text/html": [
              "<style>#sk-container-id-20 {color: black;background-color: white;}#sk-container-id-20 pre{padding: 0;}#sk-container-id-20 div.sk-toggleable {background-color: white;}#sk-container-id-20 label.sk-toggleable__label {cursor: pointer;display: block;width: 100%;margin-bottom: 0;padding: 0.3em;box-sizing: border-box;text-align: center;}#sk-container-id-20 label.sk-toggleable__label-arrow:before {content: \"▸\";float: left;margin-right: 0.25em;color: #696969;}#sk-container-id-20 label.sk-toggleable__label-arrow:hover:before {color: black;}#sk-container-id-20 div.sk-estimator:hover label.sk-toggleable__label-arrow:before {color: black;}#sk-container-id-20 div.sk-toggleable__content {max-height: 0;max-width: 0;overflow: hidden;text-align: left;background-color: #f0f8ff;}#sk-container-id-20 div.sk-toggleable__content pre {margin: 0.2em;color: black;border-radius: 0.25em;background-color: #f0f8ff;}#sk-container-id-20 input.sk-toggleable__control:checked~div.sk-toggleable__content {max-height: 200px;max-width: 100%;overflow: auto;}#sk-container-id-20 input.sk-toggleable__control:checked~label.sk-toggleable__label-arrow:before {content: \"▾\";}#sk-container-id-20 div.sk-estimator input.sk-toggleable__control:checked~label.sk-toggleable__label {background-color: #d4ebff;}#sk-container-id-20 div.sk-label input.sk-toggleable__control:checked~label.sk-toggleable__label {background-color: #d4ebff;}#sk-container-id-20 input.sk-hidden--visually {border: 0;clip: rect(1px 1px 1px 1px);clip: rect(1px, 1px, 1px, 1px);height: 1px;margin: -1px;overflow: hidden;padding: 0;position: absolute;width: 1px;}#sk-container-id-20 div.sk-estimator {font-family: monospace;background-color: #f0f8ff;border: 1px dotted black;border-radius: 0.25em;box-sizing: border-box;margin-bottom: 0.5em;}#sk-container-id-20 div.sk-estimator:hover {background-color: #d4ebff;}#sk-container-id-20 div.sk-parallel-item::after {content: \"\";width: 100%;border-bottom: 1px solid gray;flex-grow: 1;}#sk-container-id-20 div.sk-label:hover label.sk-toggleable__label {background-color: #d4ebff;}#sk-container-id-20 div.sk-serial::before {content: \"\";position: absolute;border-left: 1px solid gray;box-sizing: border-box;top: 0;bottom: 0;left: 50%;z-index: 0;}#sk-container-id-20 div.sk-serial {display: flex;flex-direction: column;align-items: center;background-color: white;padding-right: 0.2em;padding-left: 0.2em;position: relative;}#sk-container-id-20 div.sk-item {position: relative;z-index: 1;}#sk-container-id-20 div.sk-parallel {display: flex;align-items: stretch;justify-content: center;background-color: white;position: relative;}#sk-container-id-20 div.sk-item::before, #sk-container-id-20 div.sk-parallel-item::before {content: \"\";position: absolute;border-left: 1px solid gray;box-sizing: border-box;top: 0;bottom: 0;left: 50%;z-index: -1;}#sk-container-id-20 div.sk-parallel-item {display: flex;flex-direction: column;z-index: 1;position: relative;background-color: white;}#sk-container-id-20 div.sk-parallel-item:first-child::after {align-self: flex-end;width: 50%;}#sk-container-id-20 div.sk-parallel-item:last-child::after {align-self: flex-start;width: 50%;}#sk-container-id-20 div.sk-parallel-item:only-child::after {width: 0;}#sk-container-id-20 div.sk-dashed-wrapped {border: 1px dashed gray;margin: 0 0.4em 0.5em 0.4em;box-sizing: border-box;padding-bottom: 0.4em;background-color: white;}#sk-container-id-20 div.sk-label label {font-family: monospace;font-weight: bold;display: inline-block;line-height: 1.2em;}#sk-container-id-20 div.sk-label-container {text-align: center;}#sk-container-id-20 div.sk-container {/* jupyter's `normalize.less` sets `[hidden] { display: none; }` but bootstrap.min.css set `[hidden] { display: none !important; }` so we also need the `!important` here to be able to override the default hidden behavior on the sphinx rendered scikit-learn.org. See: https://github.com/scikit-learn/scikit-learn/issues/21755 */display: inline-block !important;position: relative;}#sk-container-id-20 div.sk-text-repr-fallback {display: none;}</style><div id=\"sk-container-id-20\" class=\"sk-top-container\"><div class=\"sk-text-repr-fallback\"><pre>ElasticNet(alpha=0.5, l1_ratio=0.9)</pre><b>In a Jupyter environment, please rerun this cell to show the HTML representation or trust the notebook. <br />On GitHub, the HTML representation is unable to render, please try loading this page with nbviewer.org.</b></div><div class=\"sk-container\" hidden><div class=\"sk-item\"><div class=\"sk-estimator sk-toggleable\"><input class=\"sk-toggleable__control sk-hidden--visually\" id=\"sk-estimator-id-20\" type=\"checkbox\" checked><label for=\"sk-estimator-id-20\" class=\"sk-toggleable__label sk-toggleable__label-arrow\">ElasticNet</label><div class=\"sk-toggleable__content\"><pre>ElasticNet(alpha=0.5, l1_ratio=0.9)</pre></div></div></div></div></div>"
            ]
          },
          "metadata": {},
          "execution_count": 277
        }
      ],
      "source": [
        "elastic_net = ElasticNet(alpha = alpha, l1_ratio=l1_ratio)\n",
        "\n",
        "elastic_net.fit(X_train_encoded, y_train)"
      ]
    },
    {
      "cell_type": "code",
      "execution_count": null,
      "metadata": {
        "id": "hzmWSDG6nYEe"
      },
      "outputs": [],
      "source": [
        "y_pred_elastic = elastic_net.predict(X_test_encoded)"
      ]
    },
    {
      "cell_type": "code",
      "execution_count": null,
      "metadata": {
        "id": "jMA8QKqjnYEe",
        "colab": {
          "base_uri": "https://localhost:8080/"
        },
        "outputId": "56fcd7b2-93c8-426d-8a4f-a8987c35a5a2"
      },
      "outputs": [
        {
          "output_type": "stream",
          "name": "stdout",
          "text": [
            "Elastic Net Regression: Mean Absolute Error: 56420.77217768007\n",
            "Elastic Net Regression: R-squared score: 0.7825760589290705\n",
            "Elastic Net Regression: Root Mean Squared Error: 82909.15790247152\n",
            "Elastic Net Regression: Mean Absolute Percentage Error: 8.995242583923964 %\n"
          ]
        }
      ],
      "source": [
        "elastic_net_results = evaluate_results(\"Elastic Net Regression\", y_test, y_pred_elastic)\n",
        "collection_of_model_results['Elastic Net Regression'] = elastic_net_results"
      ]
    },
    {
      "cell_type": "code",
      "source": [
        "plot_prediction_results(y_test, y_pred_elastic)"
      ],
      "metadata": {
        "colab": {
          "base_uri": "https://localhost:8080/",
          "height": 564
        },
        "id": "59ovQvjoByJD",
        "outputId": "e9e039c5-4bb2-45c0-fd3c-b20040768985"
      },
      "execution_count": null,
      "outputs": [
        {
          "output_type": "display_data",
          "data": {
            "text/plain": [
              "<Figure size 800x600 with 1 Axes>"
            ],
            "image/png": "[encoded data removed]"
          },
          "metadata": {}
        }
      ]
    },
    {
      "cell_type": "markdown",
      "source": [
        "## Decision Tree Regressor"
      ],
      "metadata": {
        "id": "kcFQ7596oa9x"
      }
    },
    {
      "cell_type": "markdown",
      "source": [
        "Following the development of multiple features through feature engineering, our objective was to discern the significance of each feature. This prompted us to utilize the Decision Tree Regressor, acclaimed for its interpretability. Employing tree-based regression models allowed us to gain insights into feature importance. However, as our dataset contains more than 190 features and potential overfitting issue might arise, the fundamental Decision Tree algorithm did not yield more satisfactory outcomes as compared to the baseline linear regression model . Consequently, we expanded our exploration to include advanced ensemble techniques. We delved into Random Forest Regressor, LightGBM, and XGBoost to enhance model performance and derive a deeper understanding of feature influence."
      ],
      "metadata": {
        "id": "k2nSjMp0UsXA"
      }
    },
    {
      "cell_type": "code",
      "source": [
        "dt_reg = DecisionTreeRegressor(criterion = \"squared_error\",\n",
        "                               max_features = 'sqrt',\n",
        "                               min_samples_leaf = 5,\n",
        "                               min_samples_split = 3)"
      ],
      "metadata": {
        "id": "DUGOHVcqouww"
      },
      "execution_count": null,
      "outputs": []
    },
    {
      "cell_type": "code",
      "source": [
        "dt_reg.fit(X_train_encoded, y_train)"
      ],
      "metadata": {
        "colab": {
          "base_uri": "https://localhost:8080/",
          "height": 92
        },
        "id": "qIckUFGDp0qS",
        "outputId": "31fd15c6-9d2e-4228-be40-4540cd41c452"
      },
      "execution_count": null,
      "outputs": [
        {
          "output_type": "execute_result",
          "data": {
            "text/plain": [
              "DecisionTreeRegressor(max_features='sqrt', min_samples_leaf=5,\n",
              "                      min_samples_split=3)"
            ],
            "text/html": [
              "<style>#sk-container-id-13 {color: black;background-color: white;}#sk-container-id-13 pre{padding: 0;}#sk-container-id-13 div.sk-toggleable {background-color: white;}#sk-container-id-13 label.sk-toggleable__label {cursor: pointer;display: block;width: 100%;margin-bottom: 0;padding: 0.3em;box-sizing: border-box;text-align: center;}#sk-container-id-13 label.sk-toggleable__label-arrow:before {content: \"▸\";float: left;margin-right: 0.25em;color: #696969;}#sk-container-id-13 label.sk-toggleable__label-arrow:hover:before {color: black;}#sk-container-id-13 div.sk-estimator:hover label.sk-toggleable__label-arrow:before {color: black;}#sk-container-id-13 div.sk-toggleable__content {max-height: 0;max-width: 0;overflow: hidden;text-align: left;background-color: #f0f8ff;}#sk-container-id-13 div.sk-toggleable__content pre {margin: 0.2em;color: black;border-radius: 0.25em;background-color: #f0f8ff;}#sk-container-id-13 input.sk-toggleable__control:checked~div.sk-toggleable__content {max-height: 200px;max-width: 100%;overflow: auto;}#sk-container-id-13 input.sk-toggleable__control:checked~label.sk-toggleable__label-arrow:before {content: \"▾\";}#sk-container-id-13 div.sk-estimator input.sk-toggleable__control:checked~label.sk-toggleable__label {background-color: #d4ebff;}#sk-container-id-13 div.sk-label input.sk-toggleable__control:checked~label.sk-toggleable__label {background-color: #d4ebff;}#sk-container-id-13 input.sk-hidden--visually {border: 0;clip: rect(1px 1px 1px 1px);clip: rect(1px, 1px, 1px, 1px);height: 1px;margin: -1px;overflow: hidden;padding: 0;position: absolute;width: 1px;}#sk-container-id-13 div.sk-estimator {font-family: monospace;background-color: #f0f8ff;border: 1px dotted black;border-radius: 0.25em;box-sizing: border-box;margin-bottom: 0.5em;}#sk-container-id-13 div.sk-estimator:hover {background-color: #d4ebff;}#sk-container-id-13 div.sk-parallel-item::after {content: \"\";width: 100%;border-bottom: 1px solid gray;flex-grow: 1;}#sk-container-id-13 div.sk-label:hover label.sk-toggleable__label {background-color: #d4ebff;}#sk-container-id-13 div.sk-serial::before {content: \"\";position: absolute;border-left: 1px solid gray;box-sizing: border-box;top: 0;bottom: 0;left: 50%;z-index: 0;}#sk-container-id-13 div.sk-serial {display: flex;flex-direction: column;align-items: center;background-color: white;padding-right: 0.2em;padding-left: 0.2em;position: relative;}#sk-container-id-13 div.sk-item {position: relative;z-index: 1;}#sk-container-id-13 div.sk-parallel {display: flex;align-items: stretch;justify-content: center;background-color: white;position: relative;}#sk-container-id-13 div.sk-item::before, #sk-container-id-13 div.sk-parallel-item::before {content: \"\";position: absolute;border-left: 1px solid gray;box-sizing: border-box;top: 0;bottom: 0;left: 50%;z-index: -1;}#sk-container-id-13 div.sk-parallel-item {display: flex;flex-direction: column;z-index: 1;position: relative;background-color: white;}#sk-container-id-13 div.sk-parallel-item:first-child::after {align-self: flex-end;width: 50%;}#sk-container-id-13 div.sk-parallel-item:last-child::after {align-self: flex-start;width: 50%;}#sk-container-id-13 div.sk-parallel-item:only-child::after {width: 0;}#sk-container-id-13 div.sk-dashed-wrapped {border: 1px dashed gray;margin: 0 0.4em 0.5em 0.4em;box-sizing: border-box;padding-bottom: 0.4em;background-color: white;}#sk-container-id-13 div.sk-label label {font-family: monospace;font-weight: bold;display: inline-block;line-height: 1.2em;}#sk-container-id-13 div.sk-label-container {text-align: center;}#sk-container-id-13 div.sk-container {/* jupyter's `normalize.less` sets `[hidden] { display: none; }` but bootstrap.min.css set `[hidden] { display: none !important; }` so we also need the `!important` here to be able to override the default hidden behavior on the sphinx rendered scikit-learn.org. See: https://github.com/scikit-learn/scikit-learn/issues/21755 */display: inline-block !important;position: relative;}#sk-container-id-13 div.sk-text-repr-fallback {display: none;}</style><div id=\"sk-container-id-13\" class=\"sk-top-container\"><div class=\"sk-text-repr-fallback\"><pre>DecisionTreeRegressor(max_features=&#x27;sqrt&#x27;, min_samples_leaf=5,\n",
              "                      min_samples_split=3)</pre><b>In a Jupyter environment, please rerun this cell to show the HTML representation or trust the notebook. <br />On GitHub, the HTML representation is unable to render, please try loading this page with nbviewer.org.</b></div><div class=\"sk-container\" hidden><div class=\"sk-item\"><div class=\"sk-estimator sk-toggleable\"><input class=\"sk-toggleable__control sk-hidden--visually\" id=\"sk-estimator-id-13\" type=\"checkbox\" checked><label for=\"sk-estimator-id-13\" class=\"sk-toggleable__label sk-toggleable__label-arrow\">DecisionTreeRegressor</label><div class=\"sk-toggleable__content\"><pre>DecisionTreeRegressor(max_features=&#x27;sqrt&#x27;, min_samples_leaf=5,\n",
              "                      min_samples_split=3)</pre></div></div></div></div></div>"
            ]
          },
          "metadata": {},
          "execution_count": 251
        }
      ]
    },
    {
      "cell_type": "code",
      "source": [
        "y_pred_dt = dt_reg.predict(X_test_encoded)"
      ],
      "metadata": {
        "id": "UAMQDtWPp0rH"
      },
      "execution_count": null,
      "outputs": []
    },
    {
      "cell_type": "code",
      "source": [
        "decision_tree_results = evaluate_results(\"Decision Tree Regressor\", y_test, y_pred_dt)\n",
        "collection_of_model_results['Decision Tree Regressor'] = decision_tree_results"
      ],
      "metadata": {
        "colab": {
          "base_uri": "https://localhost:8080/"
        },
        "id": "9jZTzcWSp7dj",
        "outputId": "e1c9c68b-eb87-44f6-d84b-9be8e2036a3b"
      },
      "execution_count": null,
      "outputs": [
        {
          "output_type": "stream",
          "name": "stdout",
          "text": [
            "Decision Tree Regressor: Mean Absolute Error: 54335.45822994394\n",
            "Decision Tree Regressor: R-squared score: 0.8078021858180239\n",
            "Decision Tree Regressor: Root Mean Squared Error: 77951.24293497844\n",
            "Decision Tree Regressor: Mean Absolute Percentage Error: 8.913309761552476 %\n"
          ]
        }
      ]
    },
    {
      "cell_type": "markdown",
      "metadata": {
        "id": "5XZUMLicnYEa"
      },
      "source": [
        "## Random Forest Regressor"
      ]
    },
    {
      "cell_type": "code",
      "execution_count": null,
      "metadata": {
        "id": "GFmCi8V_nYEa"
      },
      "outputs": [],
      "source": [
        "# Hyper Parameter Finetuning on RandomForestRegressor\n",
        "# model = RandomForestRegressor(oob_score=True, random_state=3, n_jobs=-1)\n",
        "# params ={\n",
        "#     'n_estimators': [200, 300, 400, 500, 600, 700],\n",
        "#     'min_samples_leaf': [1, 2, 3, 5, 10, 25],\n",
        "#     'max_features': [None, 0.5, 'sqrt', 'log2'],\n",
        "#     'max_depth': [5, 6, 7, 8, 10, 15, 17, 20],\n",
        "#     'min_samples_split': [2, 3, 4]\n",
        "# }\n",
        "\n",
        "# best_score = 0\n",
        "# for g in ParameterGrid(params):\n",
        "#     model.set_params(**g)\n",
        "#     model.fit(X_train, y_train)\n",
        "#     if model.oob_score_ > best_score:\n",
        "#         best_score = model.oob_score_\n",
        "#         best_grid = g\n",
        "#         print('oob:', best_score, best_grid)"
      ]
    },
    {
      "cell_type": "code",
      "execution_count": null,
      "metadata": {
        "colab": {
          "base_uri": "https://localhost:8080/"
        },
        "id": "8TQTn5hsnYEb",
        "outputId": "a0f09a2a-35c3-4ecf-baa2-db8d2afe8cba"
      },
      "outputs": [
        {
          "output_type": "execute_result",
          "data": {
            "text/plain": [
              "0.94821928549647"
            ]
          },
          "metadata": {},
          "execution_count": 52
        }
      ],
      "source": [
        "rf = RandomForestRegressor(n_jobs=-1, n_estimators=200, oob_score=True, max_depth=17, min_samples_leaf=4, min_samples_split=2, max_features=0.5)\n",
        "rf.fit(X_train_encoded, y_train)\n",
        "rf.oob_score_"
      ]
    },
    {
      "cell_type": "markdown",
      "metadata": {
        "id": "aPf0ZorMTKlW"
      },
      "source": [
        "As mentioned in Decision Tree Regressor, a benefit of RandomForestRegression is that we can view the feature importance of each variable. This gives us a sensing of what variables are more important.\n",
        "\n",
        "It is very interesting (and unsurprising) to see that the top variables of highest importance are floor_area_sqm, max_floor_lvl, year, flat_type_3_ROOM, year_completed...\n",
        "\n",
        "The most surprising insight was that `max_floor_lvl` and `shortest_distance_to_closest_mrt (km)` were not features that originally belong to the main HDB resale transaction dataset! It was actually derived from other datasets / API calls from our feature engineering that we decided to use to enhance the number of features of the original HDB resale transactions dataset."
      ]
    },
    {
      "cell_type": "code",
      "execution_count": null,
      "metadata": {
        "colab": {
          "base_uri": "https://localhost:8080/",
          "height": 363
        },
        "id": "eRqBjD_xnYEb",
        "outputId": "df91272f-19dd-4efe-9c33-fe919257a649"
      },
      "outputs": [
        {
          "output_type": "execute_result",
          "data": {
            "text/plain": [
              "                                  Feature  Importance\n",
              "1                          floor_area_sqm    0.309710\n",
              "4                           max_floor_lvl    0.181987\n",
              "16                                   year    0.089611\n",
              "46                       flat_type_3 ROOM    0.078694\n",
              "5                          year_completed    0.047507\n",
              "49                    flat_type_EXECUTIVE    0.024997\n",
              "2                         remaining_lease    0.024882\n",
              "0                            storey_range    0.023684\n",
              "47                       flat_type_4 ROOM    0.022264\n",
              "3   shortest_distance_to_closest_mrt (km)    0.020957"
            ],
            "text/html": [
              "\n",
              "  <div id=\"df-ffed9185-04b5-44be-ade0-3d34fa0be32f\" class=\"colab-df-container\">\n",
              "    <div>\n",
              "<style scoped>\n",
              "    .dataframe tbody tr th:only-of-type {\n",
              "        vertical-align: middle;\n",
              "    }\n",
              "\n",
              "    .dataframe tbody tr th {\n",
              "        vertical-align: top;\n",
              "    }\n",
              "\n",
              "    .dataframe thead th {\n",
              "        text-align: right;\n",
              "    }\n",
              "</style>\n",
              "<table border=\"1\" class=\"dataframe\">\n",
              "  <thead>\n",
              "    <tr style=\"text-align: right;\">\n",
              "      <th></th>\n",
              "      <th>Feature</th>\n",
              "      <th>Importance</th>\n",
              "    </tr>\n",
              "  </thead>\n",
              "  <tbody>\n",
              "    <tr>\n",
              "      <th>1</th>\n",
              "      <td>floor_area_sqm</td>\n",
              "      <td>0.309710</td>\n",
              "    </tr>\n",
              "    <tr>\n",
              "      <th>4</th>\n",
              "      <td>max_floor_lvl</td>\n",
              "      <td>0.181987</td>\n",
              "    </tr>\n",
              "    <tr>\n",
              "      <th>16</th>\n",
              "      <td>year</td>\n",
              "      <td>0.089611</td>\n",
              "    </tr>\n",
              "    <tr>\n",
              "      <th>46</th>\n",
              "      <td>flat_type_3 ROOM</td>\n",
              "      <td>0.078694</td>\n",
              "    </tr>\n",
              "    <tr>\n",
              "      <th>5</th>\n",
              "      <td>year_completed</td>\n",
              "      <td>0.047507</td>\n",
              "    </tr>\n",
              "    <tr>\n",
              "      <th>49</th>\n",
              "      <td>flat_type_EXECUTIVE</td>\n",
              "      <td>0.024997</td>\n",
              "    </tr>\n",
              "    <tr>\n",
              "      <th>2</th>\n",
              "      <td>remaining_lease</td>\n",
              "      <td>0.024882</td>\n",
              "    </tr>\n",
              "    <tr>\n",
              "      <th>0</th>\n",
              "      <td>storey_range</td>\n",
              "      <td>0.023684</td>\n",
              "    </tr>\n",
              "    <tr>\n",
              "      <th>47</th>\n",
              "      <td>flat_type_4 ROOM</td>\n",
              "      <td>0.022264</td>\n",
              "    </tr>\n",
              "    <tr>\n",
              "      <th>3</th>\n",
              "      <td>shortest_distance_to_closest_mrt (km)</td>\n",
              "      <td>0.020957</td>\n",
              "    </tr>\n",
              "  </tbody>\n",
              "</table>\n",
              "</div>\n",
              "    <div class=\"colab-df-buttons\">\n",
              "\n",
              "  <div class=\"colab-df-container\">\n",
              "    <button class=\"colab-df-convert\" onclick=\"convertToInteractive('df-ffed9185-04b5-44be-ade0-3d34fa0be32f')\"\n",
              "            title=\"Convert this dataframe to an interactive table.\"\n",
              "            style=\"display:none;\">\n",
              "\n",
              "  <svg xmlns=\"http://www.w3.org/2000/svg\" height=\"24px\" viewBox=\"0 -960 960 960\">\n",
              "    <path d=\"M120-120v-720h720v720H120Zm60-500h600v-160H180v160Zm220 220h160v-160H400v160Zm0 220h160v-160H400v160ZM180-400h160v-160H180v160Zm440 0h160v-160H620v160ZM180-180h160v-160H180v160Zm440 0h160v-160H620v160Z\"/>\n",
              "  </svg>\n",
              "    </button>\n",
              "\n",
              "  <style>\n",
              "    .colab-df-container {\n",
              "      display:flex;\n",
              "      gap: 12px;\n",
              "    }\n",
              "\n",
              "    .colab-df-convert {\n",
              "      background-color: #E8F0FE;\n",
              "      border: none;\n",
              "      border-radius: 50%;\n",
              "      cursor: pointer;\n",
              "      display: none;\n",
              "      fill: #1967D2;\n",
              "      height: 32px;\n",
              "      padding: 0 0 0 0;\n",
              "      width: 32px;\n",
              "    }\n",
              "\n",
              "    .colab-df-convert:hover {\n",
              "      background-color: #E2EBFA;\n",
              "      box-shadow: 0px 1px 2px rgba(60, 64, 67, 0.3), 0px 1px 3px 1px rgba(60, 64, 67, 0.15);\n",
              "      fill: #174EA6;\n",
              "    }\n",
              "\n",
              "    .colab-df-buttons div {\n",
              "      margin-bottom: 4px;\n",
              "    }\n",
              "\n",
              "    [theme=dark] .colab-df-convert {\n",
              "      background-color: #3B4455;\n",
              "      fill: #D2E3FC;\n",
              "    }\n",
              "\n",
              "    [theme=dark] .colab-df-convert:hover {\n",
              "      background-color: #434B5C;\n",
              "      box-shadow: 0px 1px 3px 1px rgba(0, 0, 0, 0.15);\n",
              "      filter: drop-shadow(0px 1px 2px rgba(0, 0, 0, 0.3));\n",
              "      fill: #FFFFFF;\n",
              "    }\n",
              "  </style>\n",
              "\n",
              "    <script>\n",
              "      const buttonEl =\n",
              "        document.querySelector('#df-ffed9185-04b5-44be-ade0-3d34fa0be32f button.colab-df-convert');\n",
              "      buttonEl.style.display =\n",
              "        google.colab.kernel.accessAllowed ? 'block' : 'none';\n",
              "\n",
              "      async function convertToInteractive(key) {\n",
              "        const element = document.querySelector('#df-ffed9185-04b5-44be-ade0-3d34fa0be32f');\n",
              "        const dataTable =\n",
              "          await google.colab.kernel.invokeFunction('convertToInteractive',\n",
              "                                                    [key], {});\n",
              "        if (!dataTable) return;\n",
              "\n",
              "        const docLinkHtml = 'Like what you see? Visit the ' +\n",
              "          '<a target=\"_blank\" href=https://colab.research.google.com/notebooks/data_table.ipynb>data table notebook</a>'\n",
              "          + ' to learn more about interactive tables.';\n",
              "        element.innerHTML = '';\n",
              "        dataTable['output_type'] = 'display_data';\n",
              "        await google.colab.output.renderOutput(dataTable, element);\n",
              "        const docLink = document.createElement('div');\n",
              "        docLink.innerHTML = docLinkHtml;\n",
              "        element.appendChild(docLink);\n",
              "      }\n",
              "    </script>\n",
              "  </div>\n",
              "\n",
              "\n",
              "<div id=\"df-8eff2582-3f96-4b2d-86eb-dbb375ddebeb\">\n",
              "  <button class=\"colab-df-quickchart\" onclick=\"quickchart('df-8eff2582-3f96-4b2d-86eb-dbb375ddebeb')\"\n",
              "            title=\"Suggest charts\"\n",
              "            style=\"display:none;\">\n",
              "\n",
              "<svg xmlns=\"http://www.w3.org/2000/svg\" height=\"24px\"viewBox=\"0 0 24 24\"\n",
              "     width=\"24px\">\n",
              "    <g>\n",
              "        <path d=\"M19 3H5c-1.1 0-2 .9-2 2v14c0 1.1.9 2 2 2h14c1.1 0 2-.9 2-2V5c0-1.1-.9-2-2-2zM9 17H7v-7h2v7zm4 0h-2V7h2v10zm4 0h-2v-4h2v4z\"/>\n",
              "    </g>\n",
              "</svg>\n",
              "  </button>\n",
              "\n",
              "<style>\n",
              "  .colab-df-quickchart {\n",
              "      --bg-color: #E8F0FE;\n",
              "      --fill-color: #1967D2;\n",
              "      --hover-bg-color: #E2EBFA;\n",
              "      --hover-fill-color: #174EA6;\n",
              "      --disabled-fill-color: #AAA;\n",
              "      --disabled-bg-color: #DDD;\n",
              "  }\n",
              "\n",
              "  [theme=dark] .colab-df-quickchart {\n",
              "      --bg-color: #3B4455;\n",
              "      --fill-color: #D2E3FC;\n",
              "      --hover-bg-color: #434B5C;\n",
              "      --hover-fill-color: #FFFFFF;\n",
              "      --disabled-bg-color: #3B4455;\n",
              "      --disabled-fill-color: #666;\n",
              "  }\n",
              "\n",
              "  .colab-df-quickchart {\n",
              "    background-color: var(--bg-color);\n",
              "    border: none;\n",
              "    border-radius: 50%;\n",
              "    cursor: pointer;\n",
              "    display: none;\n",
              "    fill: var(--fill-color);\n",
              "    height: 32px;\n",
              "    padding: 0;\n",
              "    width: 32px;\n",
              "  }\n",
              "\n",
              "  .colab-df-quickchart:hover {\n",
              "    background-color: var(--hover-bg-color);\n",
              "    box-shadow: 0 1px 2px rgba(60, 64, 67, 0.3), 0 1px 3px 1px rgba(60, 64, 67, 0.15);\n",
              "    fill: var(--button-hover-fill-color);\n",
              "  }\n",
              "\n",
              "  .colab-df-quickchart-complete:disabled,\n",
              "  .colab-df-quickchart-complete:disabled:hover {\n",
              "    background-color: var(--disabled-bg-color);\n",
              "    fill: var(--disabled-fill-color);\n",
              "    box-shadow: none;\n",
              "  }\n",
              "\n",
              "  .colab-df-spinner {\n",
              "    border: 2px solid var(--fill-color);\n",
              "    border-color: transparent;\n",
              "    border-bottom-color: var(--fill-color);\n",
              "    animation:\n",
              "      spin 1s steps(1) infinite;\n",
              "  }\n",
              "\n",
              "  @keyframes spin {\n",
              "    0% {\n",
              "      border-color: transparent;\n",
              "      border-bottom-color: var(--fill-color);\n",
              "      border-left-color: var(--fill-color);\n",
              "    }\n",
              "    20% {\n",
              "      border-color: transparent;\n",
              "      border-left-color: var(--fill-color);\n",
              "      border-top-color: var(--fill-color);\n",
              "    }\n",
              "    30% {\n",
              "      border-color: transparent;\n",
              "      border-left-color: var(--fill-color);\n",
              "      border-top-color: var(--fill-color);\n",
              "      border-right-color: var(--fill-color);\n",
              "    }\n",
              "    40% {\n",
              "      border-color: transparent;\n",
              "      border-right-color: var(--fill-color);\n",
              "      border-top-color: var(--fill-color);\n",
              "    }\n",
              "    60% {\n",
              "      border-color: transparent;\n",
              "      border-right-color: var(--fill-color);\n",
              "    }\n",
              "    80% {\n",
              "      border-color: transparent;\n",
              "      border-right-color: var(--fill-color);\n",
              "      border-bottom-color: var(--fill-color);\n",
              "    }\n",
              "    90% {\n",
              "      border-color: transparent;\n",
              "      border-bottom-color: var(--fill-color);\n",
              "    }\n",
              "  }\n",
              "</style>\n",
              "\n",
              "  <script>\n",
              "    async function quickchart(key) {\n",
              "      const quickchartButtonEl =\n",
              "        document.querySelector('#' + key + ' button');\n",
              "      quickchartButtonEl.disabled = true;  // To prevent multiple clicks.\n",
              "      quickchartButtonEl.classList.add('colab-df-spinner');\n",
              "      try {\n",
              "        const charts = await google.colab.kernel.invokeFunction(\n",
              "            'suggestCharts', [key], {});\n",
              "      } catch (error) {\n",
              "        console.error('Error during call to suggestCharts:', error);\n",
              "      }\n",
              "      quickchartButtonEl.classList.remove('colab-df-spinner');\n",
              "      quickchartButtonEl.classList.add('colab-df-quickchart-complete');\n",
              "    }\n",
              "    (() => {\n",
              "      let quickchartButtonEl =\n",
              "        document.querySelector('#df-8eff2582-3f96-4b2d-86eb-dbb375ddebeb button');\n",
              "      quickchartButtonEl.style.display =\n",
              "        google.colab.kernel.accessAllowed ? 'block' : 'none';\n",
              "    })();\n",
              "  </script>\n",
              "</div>\n",
              "\n",
              "  <div id=\"id_5b64e83b-64b8-4616-9762-f6be83765885\">\n",
              "    <style>\n",
              "      .colab-df-generate {\n",
              "        background-color: #E8F0FE;\n",
              "        border: none;\n",
              "        border-radius: 50%;\n",
              "        cursor: pointer;\n",
              "        display: none;\n",
              "        fill: #1967D2;\n",
              "        height: 32px;\n",
              "        padding: 0 0 0 0;\n",
              "        width: 32px;\n",
              "      }\n",
              "\n",
              "      .colab-df-generate:hover {\n",
              "        background-color: #E2EBFA;\n",
              "        box-shadow: 0px 1px 2px rgba(60, 64, 67, 0.3), 0px 1px 3px 1px rgba(60, 64, 67, 0.15);\n",
              "        fill: #174EA6;\n",
              "      }\n",
              "\n",
              "      [theme=dark] .colab-df-generate {\n",
              "        background-color: #3B4455;\n",
              "        fill: #D2E3FC;\n",
              "      }\n",
              "\n",
              "      [theme=dark] .colab-df-generate:hover {\n",
              "        background-color: #434B5C;\n",
              "        box-shadow: 0px 1px 3px 1px rgba(0, 0, 0, 0.15);\n",
              "        filter: drop-shadow(0px 1px 2px rgba(0, 0, 0, 0.3));\n",
              "        fill: #FFFFFF;\n",
              "      }\n",
              "    </style>\n",
              "    <button class=\"colab-df-generate\" onclick=\"generateWithVariable('feat_imp')\"\n",
              "            title=\"Generate code using this dataframe.\"\n",
              "            style=\"display:none;\">\n",
              "\n",
              "  <svg xmlns=\"http://www.w3.org/2000/svg\" height=\"24px\"viewBox=\"0 0 24 24\"\n",
              "       width=\"24px\">\n",
              "    <path d=\"M7,19H8.4L18.45,9,17,7.55,7,17.6ZM5,21V16.75L18.45,3.32a2,2,0,0,1,2.83,0l1.4,1.43a1.91,1.91,0,0,1,.58,1.4,1.91,1.91,0,0,1-.58,1.4L9.25,21ZM18.45,9,17,7.55Zm-12,3A5.31,5.31,0,0,0,4.9,8.1,5.31,5.31,0,0,0,1,6.5,5.31,5.31,0,0,0,4.9,4.9,5.31,5.31,0,0,0,6.5,1,5.31,5.31,0,0,0,8.1,4.9,5.31,5.31,0,0,0,12,6.5,5.46,5.46,0,0,0,6.5,12Z\"/>\n",
              "  </svg>\n",
              "    </button>\n",
              "    <script>\n",
              "      (() => {\n",
              "      const buttonEl =\n",
              "        document.querySelector('#id_5b64e83b-64b8-4616-9762-f6be83765885 button.colab-df-generate');\n",
              "      buttonEl.style.display =\n",
              "        google.colab.kernel.accessAllowed ? 'block' : 'none';\n",
              "\n",
              "      buttonEl.onclick = () => {\n",
              "        google.colab.notebook.generateWithVariable('feat_imp');\n",
              "      }\n",
              "      })();\n",
              "    </script>\n",
              "  </div>\n",
              "\n",
              "    </div>\n",
              "  </div>\n"
            ],
            "application/vnd.google.colaboratory.intrinsic+json": {
              "type": "dataframe",
              "variable_name": "feat_imp",
              "summary": "{\n  \"name\": \"feat_imp\",\n  \"rows\": 10,\n  \"fields\": [\n    {\n      \"column\": \"Feature\",\n      \"properties\": {\n        \"dtype\": \"string\",\n        \"num_unique_values\": 10,\n        \"samples\": [\n          \"flat_type_4 ROOM\",\n          \"max_floor_lvl\",\n          \"flat_type_EXECUTIVE\"\n        ],\n        \"semantic_type\": \"\",\n        \"description\": \"\"\n      }\n    },\n    {\n      \"column\": \"Importance\",\n      \"properties\": {\n        \"dtype\": \"number\",\n        \"std\": 0.09446506519142048,\n        \"min\": 0.02095735281011553,\n        \"max\": 0.30970954797327904,\n        \"num_unique_values\": 10,\n        \"samples\": [\n          0.022264343438502424,\n          0.18198695497926903,\n          0.024997404164866118\n        ],\n        \"semantic_type\": \"\",\n        \"description\": \"\"\n      }\n    }\n  ]\n}"
            }
          },
          "metadata": {},
          "execution_count": 53
        }
      ],
      "source": [
        "def rf_feat_importance(m, df, columns):\n",
        "    return pd.DataFrame({'Feature': columns, 'Importance': m.feature_importances_}).sort_values('Importance', ascending=False)\n",
        "\n",
        "feat_imp = rf_feat_importance(rf, X_train_encoded, all_column_names).head(10)\n",
        "feat_imp"
      ]
    },
    {
      "cell_type": "code",
      "execution_count": null,
      "metadata": {
        "id": "evIQ5a7RIWtk"
      },
      "outputs": [],
      "source": [
        "y_pred_rfr = rf.predict(X_test_encoded)"
      ]
    },
    {
      "cell_type": "code",
      "execution_count": null,
      "metadata": {
        "colab": {
          "base_uri": "https://localhost:8080/"
        },
        "id": "LssEQgtqnYEc",
        "outputId": "65ce6ee3-221c-418f-dc88-024d53d8c485"
      },
      "outputs": [
        {
          "output_type": "stream",
          "name": "stdout",
          "text": [
            "Random Forest Regressor: Mean Absolute Error: 35874.32677461611\n",
            "Random Forest Regressor: R-squared score: 0.9126658380986281\n",
            "Random Forest Regressor: Root Mean Squared Error: 52546.14994171867\n",
            "Random Forest Regressor: Mean Absolute Percentage Error: 5.760127271097378 %\n"
          ]
        }
      ],
      "source": [
        "random_forest_results = evaluate_results(\"Random Forest Regressor\", y_test, y_pred_rfr)\n",
        "collection_of_model_results['Random Forest Regressor'] = random_forest_results"
      ]
    },
    {
      "cell_type": "code",
      "source": [
        "plot_prediction_results(y_test, y_pred_rfr)"
      ],
      "metadata": {
        "colab": {
          "base_uri": "https://localhost:8080/",
          "height": 514
        },
        "id": "YJMpxq8SAX7B",
        "outputId": "85f55a39-3a56-4643-d117-cbd07b17b287"
      },
      "execution_count": null,
      "outputs": [
        {
          "output_type": "display_data",
          "data": {
            "text/plain": [
              "<Figure size 800x600 with 1 Axes>"
            ],
            "image/png": "[encoded data removed]"
          },
          "metadata": {}
        }
      ]
    },
    {
      "cell_type": "markdown",
      "source": [
        "## MultiLayer Perceptron"
      ],
      "metadata": {
        "id": "GJaqADMH9dxi"
      }
    },
    {
      "cell_type": "markdown",
      "source": [
        "In this section, we attempt to fit our data into a Simple Multi-Layer Neural Network with ReLU activations using the TensorFlow Library. The input shape will be equal to the total number of encoded features in the training set while the output shape will be a single neuron representing the predicted House Price. The main activation functions across all hidden layers will be ReLU. To also prevent overfitting on the training set, we will be adding Dropout layers with a probability of 0.5."
      ],
      "metadata": {
        "id": "vPG4InxiC5kp"
      }
    },
    {
      "cell_type": "code",
      "source": [
        "# Using TensorFlow's Sequential Neural Network Model Builder\n",
        "nn = Sequential()\n",
        "\n",
        "input_shape = (197,)\n",
        "\n",
        "nn.add(Dense(128, input_shape=input_shape, activation='relu'))\n",
        "nn.add(Dense(128, activation='relu'))\n",
        "nn.add(Dropout(0.5))\n",
        "nn.add(Dense(128, activation='relu'))\n",
        "nn.add(Dropout(0.5))\n",
        "nn.add(Dense(1, activation='linear'))\n",
        "\n",
        "\n",
        "nn.compile(optimizer='adam', loss='mean_squared_error', metrics=['mae'])\n",
        "history = nn.fit(X_train_encoded.toarray(), y_train, batch_size=32, epochs=25, validation_split=0.3, verbose=2)"
      ],
      "metadata": {
        "colab": {
          "base_uri": "https://localhost:8080/"
        },
        "id": "L8_w7oCA9et7",
        "outputId": "dede3e3e-dbab-4c1d-b3d4-61951fb902cb"
      },
      "execution_count": null,
      "outputs": [
        {
          "output_type": "stream",
          "name": "stdout",
          "text": [
            "Epoch 1/25\n",
            "3519/3519 - 13s - loss: 22343936000.0000 - mae: 94872.7031 - val_loss: 10770232320.0000 - val_mae: 89708.6719 - 13s/epoch - 4ms/step\n",
            "Epoch 2/25\n",
            "3519/3519 - 14s - loss: 6686241280.0000 - mae: 61925.3320 - val_loss: 8983758848.0000 - val_mae: 82197.8672 - 14s/epoch - 4ms/step\n",
            "Epoch 3/25\n",
            "3519/3519 - 15s - loss: 6421055488.0000 - mae: 60790.7891 - val_loss: 8049482240.0000 - val_mae: 77551.2578 - 15s/epoch - 4ms/step\n",
            "Epoch 4/25\n",
            "3519/3519 - 15s - loss: 6192261120.0000 - mae: 59843.6758 - val_loss: 7803295232.0000 - val_mae: 76090.1016 - 15s/epoch - 4ms/step\n",
            "Epoch 5/25\n",
            "3519/3519 - 17s - loss: 5987533824.0000 - mae: 58767.2383 - val_loss: 4317015040.0000 - val_mae: 52895.1445 - 17s/epoch - 5ms/step\n",
            "Epoch 6/25\n",
            "3519/3519 - 11s - loss: 5933143552.0000 - mae: 58388.3633 - val_loss: 3206179328.0000 - val_mae: 43454.1055 - 11s/epoch - 3ms/step\n",
            "Epoch 7/25\n",
            "3519/3519 - 12s - loss: 5862645760.0000 - mae: 57984.7148 - val_loss: 2757310720.0000 - val_mae: 40163.6523 - 12s/epoch - 3ms/step\n",
            "Epoch 8/25\n",
            "3519/3519 - 17s - loss: 5833051648.0000 - mae: 57705.4219 - val_loss: 2430717440.0000 - val_mae: 36483.3047 - 17s/epoch - 5ms/step\n",
            "Epoch 9/25\n",
            "3519/3519 - 9s - loss: 5789085184.0000 - mae: 57655.8672 - val_loss: 2064619520.0000 - val_mae: 33343.5586 - 9s/epoch - 3ms/step\n",
            "Epoch 10/25\n",
            "3519/3519 - 9s - loss: 5759132672.0000 - mae: 57437.2617 - val_loss: 2288076800.0000 - val_mae: 35290.2969 - 9s/epoch - 3ms/step\n",
            "Epoch 11/25\n",
            "3519/3519 - 10s - loss: 5800523264.0000 - mae: 57617.2578 - val_loss: 1760966784.0000 - val_mae: 30415.7129 - 10s/epoch - 3ms/step\n",
            "Epoch 12/25\n",
            "3519/3519 - 9s - loss: 5712765440.0000 - mae: 57268.7812 - val_loss: 2184363520.0000 - val_mae: 33790.6328 - 9s/epoch - 3ms/step\n",
            "Epoch 13/25\n",
            "3519/3519 - 10s - loss: 5722919936.0000 - mae: 57146.7773 - val_loss: 1858364928.0000 - val_mae: 31300.7324 - 10s/epoch - 3ms/step\n",
            "Epoch 14/25\n",
            "3519/3519 - 11s - loss: 5676184576.0000 - mae: 57125.8398 - val_loss: 1880126080.0000 - val_mae: 31695.4766 - 11s/epoch - 3ms/step\n",
            "Epoch 15/25\n",
            "3519/3519 - 12s - loss: 5697412096.0000 - mae: 57132.1523 - val_loss: 1842778752.0000 - val_mae: 31322.3594 - 12s/epoch - 4ms/step\n",
            "Epoch 16/25\n",
            "3519/3519 - 9s - loss: 5707407872.0000 - mae: 57260.0547 - val_loss: 1702235776.0000 - val_mae: 30251.8633 - 9s/epoch - 3ms/step\n",
            "Epoch 17/25\n",
            "3519/3519 - 9s - loss: 5678865408.0000 - mae: 57048.3594 - val_loss: 1719352960.0000 - val_mae: 30224.9570 - 9s/epoch - 3ms/step\n",
            "Epoch 18/25\n",
            "3519/3519 - 11s - loss: 5662603264.0000 - mae: 57152.6914 - val_loss: 1687304064.0000 - val_mae: 29893.1914 - 11s/epoch - 3ms/step\n",
            "Epoch 19/25\n",
            "3519/3519 - 12s - loss: 5702389760.0000 - mae: 57245.6328 - val_loss: 1668122624.0000 - val_mae: 30254.0996 - 12s/epoch - 3ms/step\n",
            "Epoch 20/25\n",
            "3519/3519 - 9s - loss: 5639755776.0000 - mae: 56896.7227 - val_loss: 1813943168.0000 - val_mae: 31156.7520 - 9s/epoch - 2ms/step\n",
            "Epoch 21/25\n",
            "3519/3519 - 10s - loss: 5631116800.0000 - mae: 56824.0156 - val_loss: 1752309632.0000 - val_mae: 31046.4102 - 10s/epoch - 3ms/step\n",
            "Epoch 22/25\n",
            "3519/3519 - 10s - loss: 5645870080.0000 - mae: 56894.2812 - val_loss: 1645320704.0000 - val_mae: 29956.8086 - 10s/epoch - 3ms/step\n",
            "Epoch 23/25\n",
            "3519/3519 - 9s - loss: 5632729600.0000 - mae: 56827.6992 - val_loss: 1649674240.0000 - val_mae: 30470.0137 - 9s/epoch - 3ms/step\n",
            "Epoch 24/25\n",
            "3519/3519 - 10s - loss: 5578371072.0000 - mae: 56533.3203 - val_loss: 1663410688.0000 - val_mae: 30292.3223 - 10s/epoch - 3ms/step\n",
            "Epoch 25/25\n",
            "3519/3519 - 11s - loss: 5604164608.0000 - mae: 56755.6602 - val_loss: 1662023808.0000 - val_mae: 30041.6562 - 11s/epoch - 3ms/step\n"
          ]
        }
      ]
    },
    {
      "cell_type": "markdown",
      "source": [
        "Lets visualise the training loss and validation loss across the number of iterations. It appears that the validation loss converges rather quickly with a small number of iterations."
      ],
      "metadata": {
        "id": "Tx008whBS0-S"
      }
    },
    {
      "cell_type": "code",
      "source": [
        "plt.plot(history.history['loss'], label='Training Loss')\n",
        "plt.plot(history.history['val_loss'], label='Validation Loss')\n",
        "plt.title('Training and Validation Loss')\n",
        "plt.xlabel('Epoch')\n",
        "plt.ylabel('Train and Val Loss')\n",
        "plt.legend()\n",
        "plt.show()"
      ],
      "metadata": {
        "colab": {
          "base_uri": "https://localhost:8080/",
          "height": 472
        },
        "id": "kBoesFD4KJqe",
        "outputId": "2d446abb-e812-4e35-c7e3-c1439e6ef61e"
      },
      "execution_count": null,
      "outputs": [
        {
          "output_type": "display_data",
          "data": {
            "text/plain": [
              "<Figure size 640x480 with 1 Axes>"
            ],
            "image/png": "[encoded data removed]"
          },
          "metadata": {}
        }
      ]
    },
    {
      "cell_type": "code",
      "source": [
        "y_pred_nn = nn.predict(X_test_encoded)"
      ],
      "metadata": {
        "colab": {
          "base_uri": "https://localhost:8080/"
        },
        "id": "JzzH3kJ_ISW_",
        "outputId": "2ffeb6a8-0001-49ed-8564-68ef39976ddf"
      },
      "execution_count": null,
      "outputs": [
        {
          "output_type": "stream",
          "name": "stdout",
          "text": [
            "439/439 [==============================] - 1s 2ms/step\n"
          ]
        }
      ]
    },
    {
      "cell_type": "code",
      "source": [
        "nn_results = evaluate_results(\"Neural Network\", y_test, y_pred_nn)\n",
        "collection_of_model_results['Neural Network'] = nn_results"
      ],
      "metadata": {
        "colab": {
          "base_uri": "https://localhost:8080/"
        },
        "id": "8ls1wv6bJ2ur",
        "outputId": "7917b8b5-ed32-4f32-a8aa-a80fa397e644"
      },
      "execution_count": null,
      "outputs": [
        {
          "output_type": "stream",
          "name": "stdout",
          "text": [
            "Neural Network: Mean Absolute Error: 47712.13016458853\n",
            "Neural Network: R-squared score: 0.8962289569247369\n",
            "Neural Network: Root Mean Squared Error: 57277.877114695955\n",
            "Neural Network: Mean Absolute Percentage Error: 9.470080423320903 %\n"
          ]
        }
      ]
    },
    {
      "cell_type": "code",
      "source": [
        "plot_prediction_results(y_test, y_pred_nn)"
      ],
      "metadata": {
        "colab": {
          "base_uri": "https://localhost:8080/",
          "height": 514
        },
        "id": "JisZBCyp0Pj0",
        "outputId": "1cb3be98-dd5a-4a3d-87dd-cb09f16dcdfb"
      },
      "execution_count": null,
      "outputs": [
        {
          "output_type": "display_data",
          "data": {
            "text/plain": [
              "<Figure size 800x600 with 1 Axes>"
            ],
            "image/png": "[encoded data removed]"
          },
          "metadata": {}
        }
      ]
    },
    {
      "cell_type": "markdown",
      "source": [
        "## LightGBM"
      ],
      "metadata": {
        "id": "IPrCwK899pDI"
      }
    },
    {
      "cell_type": "markdown",
      "source": [
        "Drawing inspiration from the research paper \"Housing Price Prediction via Improved Machine Learning Techniques,\" we opted to implement the Light Gradient Boosting Machine (LightGBM), a sophisticated gradient boosting framework that harnesses tree-based learning algorithms. Notable for its efficacy and distributed computing capabilities, LightGBM offers several key advantages:\n",
        "\n",
        "Accelerated training speed paired with enhanced efficiency.\n",
        "\n",
        "Reduced memory consumption.\n",
        "Superior accuracy in predictive tasks.\n",
        "\n",
        "Comprehensive support for parallel, distributed, and GPU learning.\n",
        "\n",
        "Proficient at managing large-scale data, facilitating the handling of extensive datasets.\n",
        "\n",
        "Link to API: https://lightgbm.\n",
        "\n",
        "Link to research paper: readthedocs.io/en/latest/index.html#"
      ],
      "metadata": {
        "id": "SxMPHKOW13Y6"
      }
    },
    {
      "cell_type": "code",
      "source": [
        "param_grid = {\n",
        "    'learning_rate': [0.1, 0.15],\n",
        "    'n_estimators': [64, 128],\n",
        "    'min_child_weight' : [1, 2],\n",
        "    'reg_lambda': [0.4, 0.45, 0.5],\n",
        "    'num_leaves': [18, 36, 72],\n",
        "    'colsample_bytree': [0.7, 0.8]\n",
        "}\n",
        "\n",
        "model = LGBMRegressor()\n",
        "\n",
        "search = GridSearchCV(estimator=model, param_grid=param_grid, cv=3, verbose=2, n_jobs=-1, scoring='neg_mean_squared_error')\n",
        "search.fit(X_train_encoded, y_train)\n",
        "print(\"Best parameters:\", search.best_params_)"
      ],
      "metadata": {
        "colab": {
          "base_uri": "https://localhost:8080/"
        },
        "id": "JkDOUZhwN_qC",
        "outputId": "66991c1c-ec50-4691-e872-33f497337fc8"
      },
      "execution_count": null,
      "outputs": [
        {
          "output_type": "stream",
          "name": "stdout",
          "text": [
            "Fitting 3 folds for each of 144 candidates, totalling 432 fits\n",
            "[LightGBM] [Info] Auto-choosing row-wise multi-threading, the overhead of testing was 0.061422 seconds.\n",
            "You can set `force_row_wise=true` to remove the overhead.\n",
            "And if memory is not enough, you can set `force_col_wise=true`.\n",
            "[LightGBM] [Info] Total Bins 1442\n",
            "[LightGBM] [Info] Number of data points in the train set: 160858, number of used features: 193\n",
            "[LightGBM] [Info] Start training from score 486502.012851\n",
            "Best parameters: {'colsample_bytree': 0.8, 'learning_rate': 0.15, 'min_child_weight': 1, 'n_estimators': 128, 'num_leaves': 72, 'reg_lambda': 0.5}\n"
          ]
        }
      ]
    },
    {
      "cell_type": "code",
      "source": [
        "lgbm = LGBMRegressor(colsample_bytree = 0.8,\n",
        "                     learning_rate = 0.15,\n",
        "                     min_child_weight = 1,\n",
        "                     n_estimators= 128,\n",
        "                     num_leaves= 72,\n",
        "                     reg_lambda= 0.5)\n",
        "\n",
        "lgbm.fit(X_train_encoded, y_train)"
      ],
      "metadata": {
        "colab": {
          "base_uri": "https://localhost:8080/",
          "height": 184
        },
        "id": "yiftRaV0b8zS",
        "outputId": "e6b73cb8-f3fb-455c-e770-26a8076ff03a"
      },
      "execution_count": null,
      "outputs": [
        {
          "output_type": "stream",
          "name": "stdout",
          "text": [
            "[LightGBM] [Info] Auto-choosing col-wise multi-threading, the overhead of testing was 0.152829 seconds.\n",
            "You can set `force_col_wise=true` to remove the overhead.\n",
            "[LightGBM] [Info] Total Bins 1442\n",
            "[LightGBM] [Info] Number of data points in the train set: 160858, number of used features: 193\n",
            "[LightGBM] [Info] Start training from score 486502.012851\n"
          ]
        },
        {
          "output_type": "execute_result",
          "data": {
            "text/plain": [
              "LGBMRegressor(colsample_bytree=0.8, learning_rate=0.15, min_child_weight=1,\n",
              "              n_estimators=128, num_leaves=72, reg_lambda=0.5)"
            ],
            "text/html": [
              "<style>#sk-container-id-9 {color: black;background-color: white;}#sk-container-id-9 pre{padding: 0;}#sk-container-id-9 div.sk-toggleable {background-color: white;}#sk-container-id-9 label.sk-toggleable__label {cursor: pointer;display: block;width: 100%;margin-bottom: 0;padding: 0.3em;box-sizing: border-box;text-align: center;}#sk-container-id-9 label.sk-toggleable__label-arrow:before {content: \"▸\";float: left;margin-right: 0.25em;color: #696969;}#sk-container-id-9 label.sk-toggleable__label-arrow:hover:before {color: black;}#sk-container-id-9 div.sk-estimator:hover label.sk-toggleable__label-arrow:before {color: black;}#sk-container-id-9 div.sk-toggleable__content {max-height: 0;max-width: 0;overflow: hidden;text-align: left;background-color: #f0f8ff;}#sk-container-id-9 div.sk-toggleable__content pre {margin: 0.2em;color: black;border-radius: 0.25em;background-color: #f0f8ff;}#sk-container-id-9 input.sk-toggleable__control:checked~div.sk-toggleable__content {max-height: 200px;max-width: 100%;overflow: auto;}#sk-container-id-9 input.sk-toggleable__control:checked~label.sk-toggleable__label-arrow:before {content: \"▾\";}#sk-container-id-9 div.sk-estimator input.sk-toggleable__control:checked~label.sk-toggleable__label {background-color: #d4ebff;}#sk-container-id-9 div.sk-label input.sk-toggleable__control:checked~label.sk-toggleable__label {background-color: #d4ebff;}#sk-container-id-9 input.sk-hidden--visually {border: 0;clip: rect(1px 1px 1px 1px);clip: rect(1px, 1px, 1px, 1px);height: 1px;margin: -1px;overflow: hidden;padding: 0;position: absolute;width: 1px;}#sk-container-id-9 div.sk-estimator {font-family: monospace;background-color: #f0f8ff;border: 1px dotted black;border-radius: 0.25em;box-sizing: border-box;margin-bottom: 0.5em;}#sk-container-id-9 div.sk-estimator:hover {background-color: #d4ebff;}#sk-container-id-9 div.sk-parallel-item::after {content: \"\";width: 100%;border-bottom: 1px solid gray;flex-grow: 1;}#sk-container-id-9 div.sk-label:hover label.sk-toggleable__label {background-color: #d4ebff;}#sk-container-id-9 div.sk-serial::before {content: \"\";position: absolute;border-left: 1px solid gray;box-sizing: border-box;top: 0;bottom: 0;left: 50%;z-index: 0;}#sk-container-id-9 div.sk-serial {display: flex;flex-direction: column;align-items: center;background-color: white;padding-right: 0.2em;padding-left: 0.2em;position: relative;}#sk-container-id-9 div.sk-item {position: relative;z-index: 1;}#sk-container-id-9 div.sk-parallel {display: flex;align-items: stretch;justify-content: center;background-color: white;position: relative;}#sk-container-id-9 div.sk-item::before, #sk-container-id-9 div.sk-parallel-item::before {content: \"\";position: absolute;border-left: 1px solid gray;box-sizing: border-box;top: 0;bottom: 0;left: 50%;z-index: -1;}#sk-container-id-9 div.sk-parallel-item {display: flex;flex-direction: column;z-index: 1;position: relative;background-color: white;}#sk-container-id-9 div.sk-parallel-item:first-child::after {align-self: flex-end;width: 50%;}#sk-container-id-9 div.sk-parallel-item:last-child::after {align-self: flex-start;width: 50%;}#sk-container-id-9 div.sk-parallel-item:only-child::after {width: 0;}#sk-container-id-9 div.sk-dashed-wrapped {border: 1px dashed gray;margin: 0 0.4em 0.5em 0.4em;box-sizing: border-box;padding-bottom: 0.4em;background-color: white;}#sk-container-id-9 div.sk-label label {font-family: monospace;font-weight: bold;display: inline-block;line-height: 1.2em;}#sk-container-id-9 div.sk-label-container {text-align: center;}#sk-container-id-9 div.sk-container {/* jupyter's `normalize.less` sets `[hidden] { display: none; }` but bootstrap.min.css set `[hidden] { display: none !important; }` so we also need the `!important` here to be able to override the default hidden behavior on the sphinx rendered scikit-learn.org. See: https://github.com/scikit-learn/scikit-learn/issues/21755 */display: inline-block !important;position: relative;}#sk-container-id-9 div.sk-text-repr-fallback {display: none;}</style><div id=\"sk-container-id-9\" class=\"sk-top-container\"><div class=\"sk-text-repr-fallback\"><pre>LGBMRegressor(colsample_bytree=0.8, learning_rate=0.15, min_child_weight=1,\n",
              "              n_estimators=128, num_leaves=72, reg_lambda=0.5)</pre><b>In a Jupyter environment, please rerun this cell to show the HTML representation or trust the notebook. <br />On GitHub, the HTML representation is unable to render, please try loading this page with nbviewer.org.</b></div><div class=\"sk-container\" hidden><div class=\"sk-item\"><div class=\"sk-estimator sk-toggleable\"><input class=\"sk-toggleable__control sk-hidden--visually\" id=\"sk-estimator-id-9\" type=\"checkbox\" checked><label for=\"sk-estimator-id-9\" class=\"sk-toggleable__label sk-toggleable__label-arrow\">LGBMRegressor</label><div class=\"sk-toggleable__content\"><pre>LGBMRegressor(colsample_bytree=0.8, learning_rate=0.15, min_child_weight=1,\n",
              "              n_estimators=128, num_leaves=72, reg_lambda=0.5)</pre></div></div></div></div></div>"
            ]
          },
          "metadata": {},
          "execution_count": 198
        }
      ]
    },
    {
      "cell_type": "code",
      "source": [
        "y_pred_lgbm = lgbm.predict(X_test_encoded)"
      ],
      "metadata": {
        "id": "-6KMJM8ckQMK"
      },
      "execution_count": null,
      "outputs": []
    },
    {
      "cell_type": "code",
      "source": [
        "lgbm_results = evaluate_results(\"LGBM\", y_test, y_pred_lgbm)\n",
        "collection_of_model_results['LGBM'] = lgbm_results"
      ],
      "metadata": {
        "colab": {
          "base_uri": "https://localhost:8080/"
        },
        "id": "ypFboP13kcRu",
        "outputId": "4e8081de-1cde-4a1d-cd74-d8bdb815240c"
      },
      "execution_count": null,
      "outputs": [
        {
          "output_type": "stream",
          "name": "stdout",
          "text": [
            "LGBM: Mean Absolute Error: 28049.784372841612\n",
            "LGBM: R-squared score: 0.950491728304414\n",
            "LGBM: Root Mean Squared Error: 39562.86235936871\n",
            "LGBM: Mean Absolute Percentage Error: 4.695477475121855 %\n"
          ]
        }
      ]
    },
    {
      "cell_type": "code",
      "source": [
        "plot_prediction_results(y_test, y_pred_lgbm)"
      ],
      "metadata": {
        "colab": {
          "base_uri": "https://localhost:8080/",
          "height": 564
        },
        "id": "tjP21IUu0Mze",
        "outputId": "33e053cb-2190-44ab-8c0a-4b5c3700d0ad"
      },
      "execution_count": null,
      "outputs": [
        {
          "output_type": "display_data",
          "data": {
            "text/plain": [
              "<Figure size 800x600 with 1 Axes>"
            ],
            "image/png": "[encoded data removed]"
          },
          "metadata": {}
        }
      ]
    },
    {
      "cell_type": "code",
      "source": [
        "feature_importance = lgbm.feature_importances_\n",
        "\n",
        "lgbm_fi = pd.DataFrame({'Feature': all_column_names, 'Importance': feature_importance})\n",
        "lgbm_fi = lgbm_fi.sort_values(by='Importance', ascending=False).iloc[:10,] # Filter top 10 features\n",
        "lgbm_fi"
      ],
      "metadata": {
        "colab": {
          "base_uri": "https://localhost:8080/",
          "height": 363
        },
        "id": "oPD9lM46-KfZ",
        "outputId": "ba7058f2-1102-439b-8b72-dc42b610121a"
      },
      "execution_count": null,
      "outputs": [
        {
          "output_type": "execute_result",
          "data": {
            "text/plain": [
              "                                  Feature  Importance\n",
              "1                          floor_area_sqm        1060\n",
              "3   shortest_distance_to_closest_mrt (km)         811\n",
              "5                          year_completed         690\n",
              "2                         remaining_lease         541\n",
              "4                           max_floor_lvl         501\n",
              "12                   total_dwelling_units         463\n",
              "16                                   year         461\n",
              "0                            storey_range         241\n",
              "20                            town_BISHAN         106\n",
              "13               is_elite_closest_pri_sch         106"
            ],
            "text/html": [
              "\n",
              "  <div id=\"df-d60c8d21-8360-4e22-ab92-c6e888615563\" class=\"colab-df-container\">\n",
              "    <div>\n",
              "<style scoped>\n",
              "    .dataframe tbody tr th:only-of-type {\n",
              "        vertical-align: middle;\n",
              "    }\n",
              "\n",
              "    .dataframe tbody tr th {\n",
              "        vertical-align: top;\n",
              "    }\n",
              "\n",
              "    .dataframe thead th {\n",
              "        text-align: right;\n",
              "    }\n",
              "</style>\n",
              "<table border=\"1\" class=\"dataframe\">\n",
              "  <thead>\n",
              "    <tr style=\"text-align: right;\">\n",
              "      <th></th>\n",
              "      <th>Feature</th>\n",
              "      <th>Importance</th>\n",
              "    </tr>\n",
              "  </thead>\n",
              "  <tbody>\n",
              "    <tr>\n",
              "      <th>1</th>\n",
              "      <td>floor_area_sqm</td>\n",
              "      <td>1060</td>\n",
              "    </tr>\n",
              "    <tr>\n",
              "      <th>3</th>\n",
              "      <td>shortest_distance_to_closest_mrt (km)</td>\n",
              "      <td>811</td>\n",
              "    </tr>\n",
              "    <tr>\n",
              "      <th>5</th>\n",
              "      <td>year_completed</td>\n",
              "      <td>690</td>\n",
              "    </tr>\n",
              "    <tr>\n",
              "      <th>2</th>\n",
              "      <td>remaining_lease</td>\n",
              "      <td>541</td>\n",
              "    </tr>\n",
              "    <tr>\n",
              "      <th>4</th>\n",
              "      <td>max_floor_lvl</td>\n",
              "      <td>501</td>\n",
              "    </tr>\n",
              "    <tr>\n",
              "      <th>12</th>\n",
              "      <td>total_dwelling_units</td>\n",
              "      <td>463</td>\n",
              "    </tr>\n",
              "    <tr>\n",
              "      <th>16</th>\n",
              "      <td>year</td>\n",
              "      <td>461</td>\n",
              "    </tr>\n",
              "    <tr>\n",
              "      <th>0</th>\n",
              "      <td>storey_range</td>\n",
              "      <td>241</td>\n",
              "    </tr>\n",
              "    <tr>\n",
              "      <th>20</th>\n",
              "      <td>town_BISHAN</td>\n",
              "      <td>106</td>\n",
              "    </tr>\n",
              "    <tr>\n",
              "      <th>13</th>\n",
              "      <td>is_elite_closest_pri_sch</td>\n",
              "      <td>106</td>\n",
              "    </tr>\n",
              "  </tbody>\n",
              "</table>\n",
              "</div>\n",
              "    <div class=\"colab-df-buttons\">\n",
              "\n",
              "  <div class=\"colab-df-container\">\n",
              "    <button class=\"colab-df-convert\" onclick=\"convertToInteractive('df-d60c8d21-8360-4e22-ab92-c6e888615563')\"\n",
              "            title=\"Convert this dataframe to an interactive table.\"\n",
              "            style=\"display:none;\">\n",
              "\n",
              "  <svg xmlns=\"http://www.w3.org/2000/svg\" height=\"24px\" viewBox=\"0 -960 960 960\">\n",
              "    <path d=\"M120-120v-720h720v720H120Zm60-500h600v-160H180v160Zm220 220h160v-160H400v160Zm0 220h160v-160H400v160ZM180-400h160v-160H180v160Zm440 0h160v-160H620v160ZM180-180h160v-160H180v160Zm440 0h160v-160H620v160Z\"/>\n",
              "  </svg>\n",
              "    </button>\n",
              "\n",
              "  <style>\n",
              "    .colab-df-container {\n",
              "      display:flex;\n",
              "      gap: 12px;\n",
              "    }\n",
              "\n",
              "    .colab-df-convert {\n",
              "      background-color: #E8F0FE;\n",
              "      border: none;\n",
              "      border-radius: 50%;\n",
              "      cursor: pointer;\n",
              "      display: none;\n",
              "      fill: #1967D2;\n",
              "      height: 32px;\n",
              "      padding: 0 0 0 0;\n",
              "      width: 32px;\n",
              "    }\n",
              "\n",
              "    .colab-df-convert:hover {\n",
              "      background-color: #E2EBFA;\n",
              "      box-shadow: 0px 1px 2px rgba(60, 64, 67, 0.3), 0px 1px 3px 1px rgba(60, 64, 67, 0.15);\n",
              "      fill: #174EA6;\n",
              "    }\n",
              "\n",
              "    .colab-df-buttons div {\n",
              "      margin-bottom: 4px;\n",
              "    }\n",
              "\n",
              "    [theme=dark] .colab-df-convert {\n",
              "      background-color: #3B4455;\n",
              "      fill: #D2E3FC;\n",
              "    }\n",
              "\n",
              "    [theme=dark] .colab-df-convert:hover {\n",
              "      background-color: #434B5C;\n",
              "      box-shadow: 0px 1px 3px 1px rgba(0, 0, 0, 0.15);\n",
              "      filter: drop-shadow(0px 1px 2px rgba(0, 0, 0, 0.3));\n",
              "      fill: #FFFFFF;\n",
              "    }\n",
              "  </style>\n",
              "\n",
              "    <script>\n",
              "      const buttonEl =\n",
              "        document.querySelector('#df-d60c8d21-8360-4e22-ab92-c6e888615563 button.colab-df-convert');\n",
              "      buttonEl.style.display =\n",
              "        google.colab.kernel.accessAllowed ? 'block' : 'none';\n",
              "\n",
              "      async function convertToInteractive(key) {\n",
              "        const element = document.querySelector('#df-d60c8d21-8360-4e22-ab92-c6e888615563');\n",
              "        const dataTable =\n",
              "          await google.colab.kernel.invokeFunction('convertToInteractive',\n",
              "                                                    [key], {});\n",
              "        if (!dataTable) return;\n",
              "\n",
              "        const docLinkHtml = 'Like what you see? Visit the ' +\n",
              "          '<a target=\"_blank\" href=https://colab.research.google.com/notebooks/data_table.ipynb>data table notebook</a>'\n",
              "          + ' to learn more about interactive tables.';\n",
              "        element.innerHTML = '';\n",
              "        dataTable['output_type'] = 'display_data';\n",
              "        await google.colab.output.renderOutput(dataTable, element);\n",
              "        const docLink = document.createElement('div');\n",
              "        docLink.innerHTML = docLinkHtml;\n",
              "        element.appendChild(docLink);\n",
              "      }\n",
              "    </script>\n",
              "  </div>\n",
              "\n",
              "\n",
              "<div id=\"df-ab14711e-fec3-4857-b730-198e430376df\">\n",
              "  <button class=\"colab-df-quickchart\" onclick=\"quickchart('df-ab14711e-fec3-4857-b730-198e430376df')\"\n",
              "            title=\"Suggest charts\"\n",
              "            style=\"display:none;\">\n",
              "\n",
              "<svg xmlns=\"http://www.w3.org/2000/svg\" height=\"24px\"viewBox=\"0 0 24 24\"\n",
              "     width=\"24px\">\n",
              "    <g>\n",
              "        <path d=\"M19 3H5c-1.1 0-2 .9-2 2v14c0 1.1.9 2 2 2h14c1.1 0 2-.9 2-2V5c0-1.1-.9-2-2-2zM9 17H7v-7h2v7zm4 0h-2V7h2v10zm4 0h-2v-4h2v4z\"/>\n",
              "    </g>\n",
              "</svg>\n",
              "  </button>\n",
              "\n",
              "<style>\n",
              "  .colab-df-quickchart {\n",
              "      --bg-color: #E8F0FE;\n",
              "      --fill-color: #1967D2;\n",
              "      --hover-bg-color: #E2EBFA;\n",
              "      --hover-fill-color: #174EA6;\n",
              "      --disabled-fill-color: #AAA;\n",
              "      --disabled-bg-color: #DDD;\n",
              "  }\n",
              "\n",
              "  [theme=dark] .colab-df-quickchart {\n",
              "      --bg-color: #3B4455;\n",
              "      --fill-color: #D2E3FC;\n",
              "      --hover-bg-color: #434B5C;\n",
              "      --hover-fill-color: #FFFFFF;\n",
              "      --disabled-bg-color: #3B4455;\n",
              "      --disabled-fill-color: #666;\n",
              "  }\n",
              "\n",
              "  .colab-df-quickchart {\n",
              "    background-color: var(--bg-color);\n",
              "    border: none;\n",
              "    border-radius: 50%;\n",
              "    cursor: pointer;\n",
              "    display: none;\n",
              "    fill: var(--fill-color);\n",
              "    height: 32px;\n",
              "    padding: 0;\n",
              "    width: 32px;\n",
              "  }\n",
              "\n",
              "  .colab-df-quickchart:hover {\n",
              "    background-color: var(--hover-bg-color);\n",
              "    box-shadow: 0 1px 2px rgba(60, 64, 67, 0.3), 0 1px 3px 1px rgba(60, 64, 67, 0.15);\n",
              "    fill: var(--button-hover-fill-color);\n",
              "  }\n",
              "\n",
              "  .colab-df-quickchart-complete:disabled,\n",
              "  .colab-df-quickchart-complete:disabled:hover {\n",
              "    background-color: var(--disabled-bg-color);\n",
              "    fill: var(--disabled-fill-color);\n",
              "    box-shadow: none;\n",
              "  }\n",
              "\n",
              "  .colab-df-spinner {\n",
              "    border: 2px solid var(--fill-color);\n",
              "    border-color: transparent;\n",
              "    border-bottom-color: var(--fill-color);\n",
              "    animation:\n",
              "      spin 1s steps(1) infinite;\n",
              "  }\n",
              "\n",
              "  @keyframes spin {\n",
              "    0% {\n",
              "      border-color: transparent;\n",
              "      border-bottom-color: var(--fill-color);\n",
              "      border-left-color: var(--fill-color);\n",
              "    }\n",
              "    20% {\n",
              "      border-color: transparent;\n",
              "      border-left-color: var(--fill-color);\n",
              "      border-top-color: var(--fill-color);\n",
              "    }\n",
              "    30% {\n",
              "      border-color: transparent;\n",
              "      border-left-color: var(--fill-color);\n",
              "      border-top-color: var(--fill-color);\n",
              "      border-right-color: var(--fill-color);\n",
              "    }\n",
              "    40% {\n",
              "      border-color: transparent;\n",
              "      border-right-color: var(--fill-color);\n",
              "      border-top-color: var(--fill-color);\n",
              "    }\n",
              "    60% {\n",
              "      border-color: transparent;\n",
              "      border-right-color: var(--fill-color);\n",
              "    }\n",
              "    80% {\n",
              "      border-color: transparent;\n",
              "      border-right-color: var(--fill-color);\n",
              "      border-bottom-color: var(--fill-color);\n",
              "    }\n",
              "    90% {\n",
              "      border-color: transparent;\n",
              "      border-bottom-color: var(--fill-color);\n",
              "    }\n",
              "  }\n",
              "</style>\n",
              "\n",
              "  <script>\n",
              "    async function quickchart(key) {\n",
              "      const quickchartButtonEl =\n",
              "        document.querySelector('#' + key + ' button');\n",
              "      quickchartButtonEl.disabled = true;  // To prevent multiple clicks.\n",
              "      quickchartButtonEl.classList.add('colab-df-spinner');\n",
              "      try {\n",
              "        const charts = await google.colab.kernel.invokeFunction(\n",
              "            'suggestCharts', [key], {});\n",
              "      } catch (error) {\n",
              "        console.error('Error during call to suggestCharts:', error);\n",
              "      }\n",
              "      quickchartButtonEl.classList.remove('colab-df-spinner');\n",
              "      quickchartButtonEl.classList.add('colab-df-quickchart-complete');\n",
              "    }\n",
              "    (() => {\n",
              "      let quickchartButtonEl =\n",
              "        document.querySelector('#df-ab14711e-fec3-4857-b730-198e430376df button');\n",
              "      quickchartButtonEl.style.display =\n",
              "        google.colab.kernel.accessAllowed ? 'block' : 'none';\n",
              "    })();\n",
              "  </script>\n",
              "</div>\n",
              "\n",
              "  <div id=\"id_941b7518-8f3c-4cbc-ad1c-0bcd33bb1616\">\n",
              "    <style>\n",
              "      .colab-df-generate {\n",
              "        background-color: #E8F0FE;\n",
              "        border: none;\n",
              "        border-radius: 50%;\n",
              "        cursor: pointer;\n",
              "        display: none;\n",
              "        fill: #1967D2;\n",
              "        height: 32px;\n",
              "        padding: 0 0 0 0;\n",
              "        width: 32px;\n",
              "      }\n",
              "\n",
              "      .colab-df-generate:hover {\n",
              "        background-color: #E2EBFA;\n",
              "        box-shadow: 0px 1px 2px rgba(60, 64, 67, 0.3), 0px 1px 3px 1px rgba(60, 64, 67, 0.15);\n",
              "        fill: #174EA6;\n",
              "      }\n",
              "\n",
              "      [theme=dark] .colab-df-generate {\n",
              "        background-color: #3B4455;\n",
              "        fill: #D2E3FC;\n",
              "      }\n",
              "\n",
              "      [theme=dark] .colab-df-generate:hover {\n",
              "        background-color: #434B5C;\n",
              "        box-shadow: 0px 1px 3px 1px rgba(0, 0, 0, 0.15);\n",
              "        filter: drop-shadow(0px 1px 2px rgba(0, 0, 0, 0.3));\n",
              "        fill: #FFFFFF;\n",
              "      }\n",
              "    </style>\n",
              "    <button class=\"colab-df-generate\" onclick=\"generateWithVariable('lgbm_fi')\"\n",
              "            title=\"Generate code using this dataframe.\"\n",
              "            style=\"display:none;\">\n",
              "\n",
              "  <svg xmlns=\"http://www.w3.org/2000/svg\" height=\"24px\"viewBox=\"0 0 24 24\"\n",
              "       width=\"24px\">\n",
              "    <path d=\"M7,19H8.4L18.45,9,17,7.55,7,17.6ZM5,21V16.75L18.45,3.32a2,2,0,0,1,2.83,0l1.4,1.43a1.91,1.91,0,0,1,.58,1.4,1.91,1.91,0,0,1-.58,1.4L9.25,21ZM18.45,9,17,7.55Zm-12,3A5.31,5.31,0,0,0,4.9,8.1,5.31,5.31,0,0,0,1,6.5,5.31,5.31,0,0,0,4.9,4.9,5.31,5.31,0,0,0,6.5,1,5.31,5.31,0,0,0,8.1,4.9,5.31,5.31,0,0,0,12,6.5,5.46,5.46,0,0,0,6.5,12Z\"/>\n",
              "  </svg>\n",
              "    </button>\n",
              "    <script>\n",
              "      (() => {\n",
              "      const buttonEl =\n",
              "        document.querySelector('#id_941b7518-8f3c-4cbc-ad1c-0bcd33bb1616 button.colab-df-generate');\n",
              "      buttonEl.style.display =\n",
              "        google.colab.kernel.accessAllowed ? 'block' : 'none';\n",
              "\n",
              "      buttonEl.onclick = () => {\n",
              "        google.colab.notebook.generateWithVariable('lgbm_fi');\n",
              "      }\n",
              "      })();\n",
              "    </script>\n",
              "  </div>\n",
              "\n",
              "    </div>\n",
              "  </div>\n"
            ],
            "application/vnd.google.colaboratory.intrinsic+json": {
              "type": "dataframe",
              "variable_name": "lgbm_fi",
              "summary": "{\n  \"name\": \"lgbm_fi\",\n  \"rows\": 10,\n  \"fields\": [\n    {\n      \"column\": \"Feature\",\n      \"properties\": {\n        \"dtype\": \"string\",\n        \"num_unique_values\": 10,\n        \"samples\": [\n          \"town_BISHAN\",\n          \"shortest_distance_to_closest_mrt (km)\",\n          \"total_dwelling_units\"\n        ],\n        \"semantic_type\": \"\",\n        \"description\": \"\"\n      }\n    },\n    {\n      \"column\": \"Importance\",\n      \"properties\": {\n        \"dtype\": \"int32\",\n        \"num_unique_values\": 9,\n        \"samples\": [\n          241,\n          811,\n          463\n        ],\n        \"semantic_type\": \"\",\n        \"description\": \"\"\n      }\n    }\n  ]\n}"
            }
          },
          "metadata": {},
          "execution_count": 356
        }
      ]
    },
    {
      "cell_type": "markdown",
      "source": [
        "## XGBoost"
      ],
      "metadata": {
        "id": "xBAEVJucWnj_"
      }
    },
    {
      "cell_type": "markdown",
      "source": [
        "Motivated by the insights from the research paper titled \"Housing Price Prediction via Improved Machine Learning Techniques,\" we elected to incorporate Extreme Gradient Boosting (XGBoost). XGBoost is an optimized distributed gradient boosting library, renowned for its efficiency, flexibility, and portability. Employing a level-wise growth strategy, XGBoost methodically processes all possible splits at a current depth before progressing to the next, ensuring a balanced tree structure.\n",
        "\n",
        "In the course of our project, XGBoost has not only outperformed LightGBM in terms of evaluation metrics, potentially due to LightGBM's overfitting issues with a substantial number of encoded features, but it has also demonstrated greater speed relative to Random Forest thanks to its innovative approach to handling sparse data. Nevertheless, consistent with the observations in the research paper, XGBoost's level-wise expansion does result in slower training times when compared to LightGBM.\n",
        "\n",
        "Link to algorithm:https://creativecommons.org/licenses/by-nc-nd/4.0/\n",
        "\n",
        "Link to research paper:https://xgboost.readthedocs.io/en/stable/index.html\n"
      ],
      "metadata": {
        "id": "oQxvJ8eS2HET"
      }
    },
    {
      "cell_type": "code",
      "source": [
        "import xgboost as xgb\n",
        "from sklearn.model_selection import RandomizedSearchCV"
      ],
      "metadata": {
        "id": "NJ3qesflWoRW"
      },
      "execution_count": null,
      "outputs": []
    },
    {
      "cell_type": "code",
      "source": [
        "param_grid = {\n",
        "    'n_estimators': [100, 200, 300],\n",
        "    'learning_rate': [0.1, 0.2],\n",
        "    'min_child_weight': [1, 2],\n",
        "    'subsample': [1],\n",
        "    'colsample_bytree' : [0.6, 0.8],\n",
        "    'reg_lambda': [0.45],\n",
        "    'gamma': [0.3, 0.4, 0.5]\n",
        "}\n",
        "\n",
        "xgbr = xgb.XGBRegressor()\n",
        "\n",
        "search = GridSearchCV(estimator=xgbr, param_grid=param_grid, cv=3, verbose=2, n_jobs=-1)\n",
        "search.fit(X_train_encoded, y_train)\n",
        "print(\"Best parameters:\", search.best_params_)"
      ],
      "metadata": {
        "colab": {
          "base_uri": "https://localhost:8080/"
        },
        "id": "eLQ6nLGzYrTc",
        "outputId": "88fc1fad-69d9-49c6-d755-43db81b949f8"
      },
      "execution_count": null,
      "outputs": [
        {
          "output_type": "stream",
          "name": "stdout",
          "text": [
            "Fitting 3 folds for each of 72 candidates, totalling 216 fits\n",
            "Best parameters: {'colsample_bytree': 0.8, 'gamma': 0.3, 'learning_rate': 0.2, 'min_child_weight': 2, 'n_estimators': 300, 'reg_lambda': 0.45, 'subsample': 1}\n"
          ]
        }
      ]
    },
    {
      "cell_type": "code",
      "source": [
        "xgbr = xgb.XGBRegressor(\n",
        "    colsample_bytree=0.8,\n",
        "    gamma=0.3,\n",
        "    learning_rate=0.2,\n",
        "    min_child_weight=2,\n",
        "    n_estimators=300,\n",
        "    reg_lambda=0.45,\n",
        "    subsample=1\n",
        ")\n",
        "\n",
        "xgbr.fit(X_train_encoded, y_train)"
      ],
      "metadata": {
        "colab": {
          "base_uri": "https://localhost:8080/",
          "height": 248
        },
        "id": "xW1rOK2fZixk",
        "outputId": "10803799-a006-4e43-e09b-ce880cd8e44a"
      },
      "execution_count": null,
      "outputs": [
        {
          "output_type": "execute_result",
          "data": {
            "text/plain": [
              "XGBRegressor(base_score=None, booster=None, callbacks=None,\n",
              "             colsample_bylevel=None, colsample_bynode=None,\n",
              "             colsample_bytree=0.8, device=None, early_stopping_rounds=None,\n",
              "             enable_categorical=False, eval_metric=None, feature_types=None,\n",
              "             gamma=0.3, grow_policy=None, importance_type=None,\n",
              "             interaction_constraints=None, learning_rate=0.2, max_bin=None,\n",
              "             max_cat_threshold=None, max_cat_to_onehot=None,\n",
              "             max_delta_step=None, max_depth=None, max_leaves=None,\n",
              "             min_child_weight=2, missing=nan, monotone_constraints=None,\n",
              "             multi_strategy=None, n_estimators=300, n_jobs=None,\n",
              "             num_parallel_tree=None, random_state=None, ...)"
            ],
            "text/html": [
              "<style>#sk-container-id-10 {color: black;background-color: white;}#sk-container-id-10 pre{padding: 0;}#sk-container-id-10 div.sk-toggleable {background-color: white;}#sk-container-id-10 label.sk-toggleable__label {cursor: pointer;display: block;width: 100%;margin-bottom: 0;padding: 0.3em;box-sizing: border-box;text-align: center;}#sk-container-id-10 label.sk-toggleable__label-arrow:before {content: \"▸\";float: left;margin-right: 0.25em;color: #696969;}#sk-container-id-10 label.sk-toggleable__label-arrow:hover:before {color: black;}#sk-container-id-10 div.sk-estimator:hover label.sk-toggleable__label-arrow:before {color: black;}#sk-container-id-10 div.sk-toggleable__content {max-height: 0;max-width: 0;overflow: hidden;text-align: left;background-color: #f0f8ff;}#sk-container-id-10 div.sk-toggleable__content pre {margin: 0.2em;color: black;border-radius: 0.25em;background-color: #f0f8ff;}#sk-container-id-10 input.sk-toggleable__control:checked~div.sk-toggleable__content {max-height: 200px;max-width: 100%;overflow: auto;}#sk-container-id-10 input.sk-toggleable__control:checked~label.sk-toggleable__label-arrow:before {content: \"▾\";}#sk-container-id-10 div.sk-estimator input.sk-toggleable__control:checked~label.sk-toggleable__label {background-color: #d4ebff;}#sk-container-id-10 div.sk-label input.sk-toggleable__control:checked~label.sk-toggleable__label {background-color: #d4ebff;}#sk-container-id-10 input.sk-hidden--visually {border: 0;clip: rect(1px 1px 1px 1px);clip: rect(1px, 1px, 1px, 1px);height: 1px;margin: -1px;overflow: hidden;padding: 0;position: absolute;width: 1px;}#sk-container-id-10 div.sk-estimator {font-family: monospace;background-color: #f0f8ff;border: 1px dotted black;border-radius: 0.25em;box-sizing: border-box;margin-bottom: 0.5em;}#sk-container-id-10 div.sk-estimator:hover {background-color: #d4ebff;}#sk-container-id-10 div.sk-parallel-item::after {content: \"\";width: 100%;border-bottom: 1px solid gray;flex-grow: 1;}#sk-container-id-10 div.sk-label:hover label.sk-toggleable__label {background-color: #d4ebff;}#sk-container-id-10 div.sk-serial::before {content: \"\";position: absolute;border-left: 1px solid gray;box-sizing: border-box;top: 0;bottom: 0;left: 50%;z-index: 0;}#sk-container-id-10 div.sk-serial {display: flex;flex-direction: column;align-items: center;background-color: white;padding-right: 0.2em;padding-left: 0.2em;position: relative;}#sk-container-id-10 div.sk-item {position: relative;z-index: 1;}#sk-container-id-10 div.sk-parallel {display: flex;align-items: stretch;justify-content: center;background-color: white;position: relative;}#sk-container-id-10 div.sk-item::before, #sk-container-id-10 div.sk-parallel-item::before {content: \"\";position: absolute;border-left: 1px solid gray;box-sizing: border-box;top: 0;bottom: 0;left: 50%;z-index: -1;}#sk-container-id-10 div.sk-parallel-item {display: flex;flex-direction: column;z-index: 1;position: relative;background-color: white;}#sk-container-id-10 div.sk-parallel-item:first-child::after {align-self: flex-end;width: 50%;}#sk-container-id-10 div.sk-parallel-item:last-child::after {align-self: flex-start;width: 50%;}#sk-container-id-10 div.sk-parallel-item:only-child::after {width: 0;}#sk-container-id-10 div.sk-dashed-wrapped {border: 1px dashed gray;margin: 0 0.4em 0.5em 0.4em;box-sizing: border-box;padding-bottom: 0.4em;background-color: white;}#sk-container-id-10 div.sk-label label {font-family: monospace;font-weight: bold;display: inline-block;line-height: 1.2em;}#sk-container-id-10 div.sk-label-container {text-align: center;}#sk-container-id-10 div.sk-container {/* jupyter's `normalize.less` sets `[hidden] { display: none; }` but bootstrap.min.css set `[hidden] { display: none !important; }` so we also need the `!important` here to be able to override the default hidden behavior on the sphinx rendered scikit-learn.org. See: https://github.com/scikit-learn/scikit-learn/issues/21755 */display: inline-block !important;position: relative;}#sk-container-id-10 div.sk-text-repr-fallback {display: none;}</style><div id=\"sk-container-id-10\" class=\"sk-top-container\"><div class=\"sk-text-repr-fallback\"><pre>XGBRegressor(base_score=None, booster=None, callbacks=None,\n",
              "             colsample_bylevel=None, colsample_bynode=None,\n",
              "             colsample_bytree=0.8, device=None, early_stopping_rounds=None,\n",
              "             enable_categorical=False, eval_metric=None, feature_types=None,\n",
              "             gamma=0.3, grow_policy=None, importance_type=None,\n",
              "             interaction_constraints=None, learning_rate=0.2, max_bin=None,\n",
              "             max_cat_threshold=None, max_cat_to_onehot=None,\n",
              "             max_delta_step=None, max_depth=None, max_leaves=None,\n",
              "             min_child_weight=2, missing=nan, monotone_constraints=None,\n",
              "             multi_strategy=None, n_estimators=300, n_jobs=None,\n",
              "             num_parallel_tree=None, random_state=None, ...)</pre><b>In a Jupyter environment, please rerun this cell to show the HTML representation or trust the notebook. <br />On GitHub, the HTML representation is unable to render, please try loading this page with nbviewer.org.</b></div><div class=\"sk-container\" hidden><div class=\"sk-item\"><div class=\"sk-estimator sk-toggleable\"><input class=\"sk-toggleable__control sk-hidden--visually\" id=\"sk-estimator-id-10\" type=\"checkbox\" checked><label for=\"sk-estimator-id-10\" class=\"sk-toggleable__label sk-toggleable__label-arrow\">XGBRegressor</label><div class=\"sk-toggleable__content\"><pre>XGBRegressor(base_score=None, booster=None, callbacks=None,\n",
              "             colsample_bylevel=None, colsample_bynode=None,\n",
              "             colsample_bytree=0.8, device=None, early_stopping_rounds=None,\n",
              "             enable_categorical=False, eval_metric=None, feature_types=None,\n",
              "             gamma=0.3, grow_policy=None, importance_type=None,\n",
              "             interaction_constraints=None, learning_rate=0.2, max_bin=None,\n",
              "             max_cat_threshold=None, max_cat_to_onehot=None,\n",
              "             max_delta_step=None, max_depth=None, max_leaves=None,\n",
              "             min_child_weight=2, missing=nan, monotone_constraints=None,\n",
              "             multi_strategy=None, n_estimators=300, n_jobs=None,\n",
              "             num_parallel_tree=None, random_state=None, ...)</pre></div></div></div></div></div>"
            ]
          },
          "metadata": {},
          "execution_count": 201
        }
      ]
    },
    {
      "cell_type": "code",
      "source": [
        "y_pred_xgb = xgbr.predict(X_test_encoded)"
      ],
      "metadata": {
        "id": "Ng6rK7mXk0MM"
      },
      "execution_count": null,
      "outputs": []
    },
    {
      "cell_type": "code",
      "source": [
        "xgbr_results = evaluate_results(\"XGBR\", y_test, y_pred_xgb)\n",
        "collection_of_model_results['XGBR'] = xgbr_results"
      ],
      "metadata": {
        "colab": {
          "base_uri": "https://localhost:8080/"
        },
        "id": "sGHIkz6Xk3Jh",
        "outputId": "10c0807c-aff2-40e4-a587-d248b592c822"
      },
      "execution_count": null,
      "outputs": [
        {
          "output_type": "stream",
          "name": "stdout",
          "text": [
            "XGBR: Mean Absolute Error: 27568.409085500534\n",
            "XGBR: R-squared score: 0.9536627662968679\n",
            "XGBR: Root Mean Squared Error: 38274.883183916645\n",
            "XGBR: Mean Absolute Percentage Error: 4.6591122275074035 %\n"
          ]
        }
      ]
    },
    {
      "cell_type": "code",
      "source": [
        "plot_prediction_results(y_test, y_pred_xgb)"
      ],
      "metadata": {
        "colab": {
          "base_uri": "https://localhost:8080/",
          "height": 564
        },
        "id": "juiNlgbh0VJx",
        "outputId": "19ae3fb9-d909-4c0f-a37a-7f093f357905"
      },
      "execution_count": null,
      "outputs": [
        {
          "output_type": "display_data",
          "data": {
            "text/plain": [
              "<Figure size 800x600 with 1 Axes>"
            ],
            "image/png": "[encoded data removed]"
          },
          "metadata": {}
        }
      ]
    },
    {
      "cell_type": "markdown",
      "source": [
        "It is very interesting to see that the XGBR Model did not even have the \"floor_area_sqm\" as a top 10 feature, in terms of importance. This is unlike the Random Forest Regressor and Light GBM Models."
      ],
      "metadata": {
        "id": "BRqDxD6-ACQf"
      }
    },
    {
      "cell_type": "code",
      "source": [
        "feature_importance = xgbr.feature_importances_\n",
        "\n",
        "xgbr_fi = pd.DataFrame({'Feature': all_column_names, 'Importance': feature_importance})\n",
        "xgbr_fi = xgbr_fi.sort_values(by='Importance', ascending=False).iloc[:10,] # Filter top 10\n",
        "xgbr_fi"
      ],
      "metadata": {
        "colab": {
          "base_uri": "https://localhost:8080/",
          "height": 363
        },
        "id": "J69MF-GI9vhO",
        "outputId": "ac44bfba-f851-4d52-df42-b61458ab1068"
      },
      "execution_count": null,
      "outputs": [
        {
          "output_type": "execute_result",
          "data": {
            "text/plain": [
              "                Feature  Importance\n",
              "49  flat_type_EXECUTIVE    0.082093\n",
              "46     flat_type_3 ROOM    0.080903\n",
              "20          town_BISHAN    0.043640\n",
              "4         max_floor_lvl    0.033104\n",
              "38        town_SENGKANG    0.031149\n",
              "45     flat_type_2 ROOM    0.030712\n",
              "23   town_BUKIT PANJANG    0.028180\n",
              "22     town_BUKIT MERAH    0.027295\n",
              "69   flat_model_Terrace    0.025170\n",
              "48     flat_type_5 ROOM    0.024912"
            ],
            "text/html": [
              "\n",
              "  <div id=\"df-0ee5c59d-5935-4254-8b6c-0ff80a2ec1a5\" class=\"colab-df-container\">\n",
              "    <div>\n",
              "<style scoped>\n",
              "    .dataframe tbody tr th:only-of-type {\n",
              "        vertical-align: middle;\n",
              "    }\n",
              "\n",
              "    .dataframe tbody tr th {\n",
              "        vertical-align: top;\n",
              "    }\n",
              "\n",
              "    .dataframe thead th {\n",
              "        text-align: right;\n",
              "    }\n",
              "</style>\n",
              "<table border=\"1\" class=\"dataframe\">\n",
              "  <thead>\n",
              "    <tr style=\"text-align: right;\">\n",
              "      <th></th>\n",
              "      <th>Feature</th>\n",
              "      <th>Importance</th>\n",
              "    </tr>\n",
              "  </thead>\n",
              "  <tbody>\n",
              "    <tr>\n",
              "      <th>49</th>\n",
              "      <td>flat_type_EXECUTIVE</td>\n",
              "      <td>0.082093</td>\n",
              "    </tr>\n",
              "    <tr>\n",
              "      <th>46</th>\n",
              "      <td>flat_type_3 ROOM</td>\n",
              "      <td>0.080903</td>\n",
              "    </tr>\n",
              "    <tr>\n",
              "      <th>20</th>\n",
              "      <td>town_BISHAN</td>\n",
              "      <td>0.043640</td>\n",
              "    </tr>\n",
              "    <tr>\n",
              "      <th>4</th>\n",
              "      <td>max_floor_lvl</td>\n",
              "      <td>0.033104</td>\n",
              "    </tr>\n",
              "    <tr>\n",
              "      <th>38</th>\n",
              "      <td>town_SENGKANG</td>\n",
              "      <td>0.031149</td>\n",
              "    </tr>\n",
              "    <tr>\n",
              "      <th>45</th>\n",
              "      <td>flat_type_2 ROOM</td>\n",
              "      <td>0.030712</td>\n",
              "    </tr>\n",
              "    <tr>\n",
              "      <th>23</th>\n",
              "      <td>town_BUKIT PANJANG</td>\n",
              "      <td>0.028180</td>\n",
              "    </tr>\n",
              "    <tr>\n",
              "      <th>22</th>\n",
              "      <td>town_BUKIT MERAH</td>\n",
              "      <td>0.027295</td>\n",
              "    </tr>\n",
              "    <tr>\n",
              "      <th>69</th>\n",
              "      <td>flat_model_Terrace</td>\n",
              "      <td>0.025170</td>\n",
              "    </tr>\n",
              "    <tr>\n",
              "      <th>48</th>\n",
              "      <td>flat_type_5 ROOM</td>\n",
              "      <td>0.024912</td>\n",
              "    </tr>\n",
              "  </tbody>\n",
              "</table>\n",
              "</div>\n",
              "    <div class=\"colab-df-buttons\">\n",
              "\n",
              "  <div class=\"colab-df-container\">\n",
              "    <button class=\"colab-df-convert\" onclick=\"convertToInteractive('df-0ee5c59d-5935-4254-8b6c-0ff80a2ec1a5')\"\n",
              "            title=\"Convert this dataframe to an interactive table.\"\n",
              "            style=\"display:none;\">\n",
              "\n",
              "  <svg xmlns=\"http://www.w3.org/2000/svg\" height=\"24px\" viewBox=\"0 -960 960 960\">\n",
              "    <path d=\"M120-120v-720h720v720H120Zm60-500h600v-160H180v160Zm220 220h160v-160H400v160Zm0 220h160v-160H400v160ZM180-400h160v-160H180v160Zm440 0h160v-160H620v160ZM180-180h160v-160H180v160Zm440 0h160v-160H620v160Z\"/>\n",
              "  </svg>\n",
              "    </button>\n",
              "\n",
              "  <style>\n",
              "    .colab-df-container {\n",
              "      display:flex;\n",
              "      gap: 12px;\n",
              "    }\n",
              "\n",
              "    .colab-df-convert {\n",
              "      background-color: #E8F0FE;\n",
              "      border: none;\n",
              "      border-radius: 50%;\n",
              "      cursor: pointer;\n",
              "      display: none;\n",
              "      fill: #1967D2;\n",
              "      height: 32px;\n",
              "      padding: 0 0 0 0;\n",
              "      width: 32px;\n",
              "    }\n",
              "\n",
              "    .colab-df-convert:hover {\n",
              "      background-color: #E2EBFA;\n",
              "      box-shadow: 0px 1px 2px rgba(60, 64, 67, 0.3), 0px 1px 3px 1px rgba(60, 64, 67, 0.15);\n",
              "      fill: #174EA6;\n",
              "    }\n",
              "\n",
              "    .colab-df-buttons div {\n",
              "      margin-bottom: 4px;\n",
              "    }\n",
              "\n",
              "    [theme=dark] .colab-df-convert {\n",
              "      background-color: #3B4455;\n",
              "      fill: #D2E3FC;\n",
              "    }\n",
              "\n",
              "    [theme=dark] .colab-df-convert:hover {\n",
              "      background-color: #434B5C;\n",
              "      box-shadow: 0px 1px 3px 1px rgba(0, 0, 0, 0.15);\n",
              "      filter: drop-shadow(0px 1px 2px rgba(0, 0, 0, 0.3));\n",
              "      fill: #FFFFFF;\n",
              "    }\n",
              "  </style>\n",
              "\n",
              "    <script>\n",
              "      const buttonEl =\n",
              "        document.querySelector('#df-0ee5c59d-5935-4254-8b6c-0ff80a2ec1a5 button.colab-df-convert');\n",
              "      buttonEl.style.display =\n",
              "        google.colab.kernel.accessAllowed ? 'block' : 'none';\n",
              "\n",
              "      async function convertToInteractive(key) {\n",
              "        const element = document.querySelector('#df-0ee5c59d-5935-4254-8b6c-0ff80a2ec1a5');\n",
              "        const dataTable =\n",
              "          await google.colab.kernel.invokeFunction('convertToInteractive',\n",
              "                                                    [key], {});\n",
              "        if (!dataTable) return;\n",
              "\n",
              "        const docLinkHtml = 'Like what you see? Visit the ' +\n",
              "          '<a target=\"_blank\" href=https://colab.research.google.com/notebooks/data_table.ipynb>data table notebook</a>'\n",
              "          + ' to learn more about interactive tables.';\n",
              "        element.innerHTML = '';\n",
              "        dataTable['output_type'] = 'display_data';\n",
              "        await google.colab.output.renderOutput(dataTable, element);\n",
              "        const docLink = document.createElement('div');\n",
              "        docLink.innerHTML = docLinkHtml;\n",
              "        element.appendChild(docLink);\n",
              "      }\n",
              "    </script>\n",
              "  </div>\n",
              "\n",
              "\n",
              "<div id=\"df-6aa979d8-c492-4443-bb99-8c8ecf3c825a\">\n",
              "  <button class=\"colab-df-quickchart\" onclick=\"quickchart('df-6aa979d8-c492-4443-bb99-8c8ecf3c825a')\"\n",
              "            title=\"Suggest charts\"\n",
              "            style=\"display:none;\">\n",
              "\n",
              "<svg xmlns=\"http://www.w3.org/2000/svg\" height=\"24px\"viewBox=\"0 0 24 24\"\n",
              "     width=\"24px\">\n",
              "    <g>\n",
              "        <path d=\"M19 3H5c-1.1 0-2 .9-2 2v14c0 1.1.9 2 2 2h14c1.1 0 2-.9 2-2V5c0-1.1-.9-2-2-2zM9 17H7v-7h2v7zm4 0h-2V7h2v10zm4 0h-2v-4h2v4z\"/>\n",
              "    </g>\n",
              "</svg>\n",
              "  </button>\n",
              "\n",
              "<style>\n",
              "  .colab-df-quickchart {\n",
              "      --bg-color: #E8F0FE;\n",
              "      --fill-color: #1967D2;\n",
              "      --hover-bg-color: #E2EBFA;\n",
              "      --hover-fill-color: #174EA6;\n",
              "      --disabled-fill-color: #AAA;\n",
              "      --disabled-bg-color: #DDD;\n",
              "  }\n",
              "\n",
              "  [theme=dark] .colab-df-quickchart {\n",
              "      --bg-color: #3B4455;\n",
              "      --fill-color: #D2E3FC;\n",
              "      --hover-bg-color: #434B5C;\n",
              "      --hover-fill-color: #FFFFFF;\n",
              "      --disabled-bg-color: #3B4455;\n",
              "      --disabled-fill-color: #666;\n",
              "  }\n",
              "\n",
              "  .colab-df-quickchart {\n",
              "    background-color: var(--bg-color);\n",
              "    border: none;\n",
              "    border-radius: 50%;\n",
              "    cursor: pointer;\n",
              "    display: none;\n",
              "    fill: var(--fill-color);\n",
              "    height: 32px;\n",
              "    padding: 0;\n",
              "    width: 32px;\n",
              "  }\n",
              "\n",
              "  .colab-df-quickchart:hover {\n",
              "    background-color: var(--hover-bg-color);\n",
              "    box-shadow: 0 1px 2px rgba(60, 64, 67, 0.3), 0 1px 3px 1px rgba(60, 64, 67, 0.15);\n",
              "    fill: var(--button-hover-fill-color);\n",
              "  }\n",
              "\n",
              "  .colab-df-quickchart-complete:disabled,\n",
              "  .colab-df-quickchart-complete:disabled:hover {\n",
              "    background-color: var(--disabled-bg-color);\n",
              "    fill: var(--disabled-fill-color);\n",
              "    box-shadow: none;\n",
              "  }\n",
              "\n",
              "  .colab-df-spinner {\n",
              "    border: 2px solid var(--fill-color);\n",
              "    border-color: transparent;\n",
              "    border-bottom-color: var(--fill-color);\n",
              "    animation:\n",
              "      spin 1s steps(1) infinite;\n",
              "  }\n",
              "\n",
              "  @keyframes spin {\n",
              "    0% {\n",
              "      border-color: transparent;\n",
              "      border-bottom-color: var(--fill-color);\n",
              "      border-left-color: var(--fill-color);\n",
              "    }\n",
              "    20% {\n",
              "      border-color: transparent;\n",
              "      border-left-color: var(--fill-color);\n",
              "      border-top-color: var(--fill-color);\n",
              "    }\n",
              "    30% {\n",
              "      border-color: transparent;\n",
              "      border-left-color: var(--fill-color);\n",
              "      border-top-color: var(--fill-color);\n",
              "      border-right-color: var(--fill-color);\n",
              "    }\n",
              "    40% {\n",
              "      border-color: transparent;\n",
              "      border-right-color: var(--fill-color);\n",
              "      border-top-color: var(--fill-color);\n",
              "    }\n",
              "    60% {\n",
              "      border-color: transparent;\n",
              "      border-right-color: var(--fill-color);\n",
              "    }\n",
              "    80% {\n",
              "      border-color: transparent;\n",
              "      border-right-color: var(--fill-color);\n",
              "      border-bottom-color: var(--fill-color);\n",
              "    }\n",
              "    90% {\n",
              "      border-color: transparent;\n",
              "      border-bottom-color: var(--fill-color);\n",
              "    }\n",
              "  }\n",
              "</style>\n",
              "\n",
              "  <script>\n",
              "    async function quickchart(key) {\n",
              "      const quickchartButtonEl =\n",
              "        document.querySelector('#' + key + ' button');\n",
              "      quickchartButtonEl.disabled = true;  // To prevent multiple clicks.\n",
              "      quickchartButtonEl.classList.add('colab-df-spinner');\n",
              "      try {\n",
              "        const charts = await google.colab.kernel.invokeFunction(\n",
              "            'suggestCharts', [key], {});\n",
              "      } catch (error) {\n",
              "        console.error('Error during call to suggestCharts:', error);\n",
              "      }\n",
              "      quickchartButtonEl.classList.remove('colab-df-spinner');\n",
              "      quickchartButtonEl.classList.add('colab-df-quickchart-complete');\n",
              "    }\n",
              "    (() => {\n",
              "      let quickchartButtonEl =\n",
              "        document.querySelector('#df-6aa979d8-c492-4443-bb99-8c8ecf3c825a button');\n",
              "      quickchartButtonEl.style.display =\n",
              "        google.colab.kernel.accessAllowed ? 'block' : 'none';\n",
              "    })();\n",
              "  </script>\n",
              "</div>\n",
              "\n",
              "  <div id=\"id_2f420a84-625d-4dd2-b75d-b05fee3df203\">\n",
              "    <style>\n",
              "      .colab-df-generate {\n",
              "        background-color: #E8F0FE;\n",
              "        border: none;\n",
              "        border-radius: 50%;\n",
              "        cursor: pointer;\n",
              "        display: none;\n",
              "        fill: #1967D2;\n",
              "        height: 32px;\n",
              "        padding: 0 0 0 0;\n",
              "        width: 32px;\n",
              "      }\n",
              "\n",
              "      .colab-df-generate:hover {\n",
              "        background-color: #E2EBFA;\n",
              "        box-shadow: 0px 1px 2px rgba(60, 64, 67, 0.3), 0px 1px 3px 1px rgba(60, 64, 67, 0.15);\n",
              "        fill: #174EA6;\n",
              "      }\n",
              "\n",
              "      [theme=dark] .colab-df-generate {\n",
              "        background-color: #3B4455;\n",
              "        fill: #D2E3FC;\n",
              "      }\n",
              "\n",
              "      [theme=dark] .colab-df-generate:hover {\n",
              "        background-color: #434B5C;\n",
              "        box-shadow: 0px 1px 3px 1px rgba(0, 0, 0, 0.15);\n",
              "        filter: drop-shadow(0px 1px 2px rgba(0, 0, 0, 0.3));\n",
              "        fill: #FFFFFF;\n",
              "      }\n",
              "    </style>\n",
              "    <button class=\"colab-df-generate\" onclick=\"generateWithVariable('xgbr_fi')\"\n",
              "            title=\"Generate code using this dataframe.\"\n",
              "            style=\"display:none;\">\n",
              "\n",
              "  <svg xmlns=\"http://www.w3.org/2000/svg\" height=\"24px\"viewBox=\"0 0 24 24\"\n",
              "       width=\"24px\">\n",
              "    <path d=\"M7,19H8.4L18.45,9,17,7.55,7,17.6ZM5,21V16.75L18.45,3.32a2,2,0,0,1,2.83,0l1.4,1.43a1.91,1.91,0,0,1,.58,1.4,1.91,1.91,0,0,1-.58,1.4L9.25,21ZM18.45,9,17,7.55Zm-12,3A5.31,5.31,0,0,0,4.9,8.1,5.31,5.31,0,0,0,1,6.5,5.31,5.31,0,0,0,4.9,4.9,5.31,5.31,0,0,0,6.5,1,5.31,5.31,0,0,0,8.1,4.9,5.31,5.31,0,0,0,12,6.5,5.46,5.46,0,0,0,6.5,12Z\"/>\n",
              "  </svg>\n",
              "    </button>\n",
              "    <script>\n",
              "      (() => {\n",
              "      const buttonEl =\n",
              "        document.querySelector('#id_2f420a84-625d-4dd2-b75d-b05fee3df203 button.colab-df-generate');\n",
              "      buttonEl.style.display =\n",
              "        google.colab.kernel.accessAllowed ? 'block' : 'none';\n",
              "\n",
              "      buttonEl.onclick = () => {\n",
              "        google.colab.notebook.generateWithVariable('xgbr_fi');\n",
              "      }\n",
              "      })();\n",
              "    </script>\n",
              "  </div>\n",
              "\n",
              "    </div>\n",
              "  </div>\n"
            ],
            "application/vnd.google.colaboratory.intrinsic+json": {
              "type": "dataframe",
              "variable_name": "xgbr_fi",
              "summary": "{\n  \"name\": \"xgbr_fi\",\n  \"rows\": 10,\n  \"fields\": [\n    {\n      \"column\": \"Feature\",\n      \"properties\": {\n        \"dtype\": \"string\",\n        \"num_unique_values\": 10,\n        \"samples\": [\n          \"flat_model_Terrace\",\n          \"flat_type_3 ROOM\",\n          \"flat_type_2 ROOM\"\n        ],\n        \"semantic_type\": \"\",\n        \"description\": \"\"\n      }\n    },\n    {\n      \"column\": \"Importance\",\n      \"properties\": {\n        \"dtype\": \"float32\",\n        \"num_unique_values\": 10,\n        \"samples\": [\n          0.02516978234052658,\n          0.08090253919363022,\n          0.030712036415934563\n        ],\n        \"semantic_type\": \"\",\n        \"description\": \"\"\n      }\n    }\n  ]\n}"
            }
          },
          "metadata": {},
          "execution_count": 92
        }
      ]
    },
    {
      "cell_type": "markdown",
      "source": [
        "## Analysing all Model Results"
      ],
      "metadata": {
        "id": "ZpeP5-ltwVut"
      }
    },
    {
      "cell_type": "markdown",
      "source": [
        "The Top 2 best performing madels are the Gradient Boosting Models LGBM and XGBR, with an average Mean Absolute Error of 28049 and 27568 respectively. When compared to the average resale price of the HDB Flats, this error makes up a small proportion of the price of each Flat. This can be compared to the mean value of each resale flat across all the transactions in the test dataset - which is $582082. We can also look at the Mean Absolute Percentage Error to see that the error only makes up a small percentage (4.7%) of the actual value.\n",
        "\n",
        "It is surprising to see that The Neural Network model have approximately the same performance as compared to the baseline regression models. This metric could benefit from further optimisation."
      ],
      "metadata": {
        "id": "PYNSkyIB8k5b"
      }
    },
    {
      "cell_type": "code",
      "source": [
        "pd.DataFrame.from_dict({(j): collection_of_model_results[i][j] for i in collection_of_model_results.keys() for j in collection_of_model_results[i].keys()}, orient='index')"
      ],
      "metadata": {
        "colab": {
          "base_uri": "https://localhost:8080/",
          "height": 331
        },
        "id": "HQ2VUybpwYbr",
        "outputId": "cb37715d-1a02-466f-a20b-326f1d7d52fa"
      },
      "execution_count": null,
      "outputs": [
        {
          "output_type": "execute_result",
          "data": {
            "text/plain": [
              "                              Mean Absolute Error  R-squared score  \\\n",
              "Linear Regression                    48455.090761         0.864575   \n",
              "Random Forest Regressor              35982.440512         0.911841   \n",
              "L2 Linear Regression (Ridge)         48476.536298         0.864473   \n",
              "L1 Linear Regression (Lasso)         48474.960339         0.864517   \n",
              "Neural Network                       47712.130165         0.896229   \n",
              "LGBM                                 28049.784373         0.950492   \n",
              "XGBR                                 27568.409086         0.953663   \n",
              "Elastic Net Regression               56420.772178         0.782576   \n",
              "Decision Tree Regressor              54335.458230         0.807802   \n",
              "\n",
              "                              Root Mean Squared Error  \\\n",
              "Linear Regression                        65433.198636   \n",
              "Random Forest Regressor                  52793.726633   \n",
              "L2 Linear Regression (Ridge)             65457.789903   \n",
              "L1 Linear Regression (Lasso)             65447.173527   \n",
              "Neural Network                           57277.877115   \n",
              "LGBM                                     39562.862359   \n",
              "XGBR                                     38274.883184   \n",
              "Elastic Net Regression                   82909.157902   \n",
              "Decision Tree Regressor                  77951.242935   \n",
              "\n",
              "                              Mean Absolute Percentage Error  \n",
              "Linear Regression                                   8.253610  \n",
              "Random Forest Regressor                             5.772779  \n",
              "L2 Linear Regression (Ridge)                        8.252991  \n",
              "L1 Linear Regression (Lasso)                        8.253311  \n",
              "Neural Network                                      9.470080  \n",
              "LGBM                                                4.695477  \n",
              "XGBR                                                4.659112  \n",
              "Elastic Net Regression                              8.995243  \n",
              "Decision Tree Regressor                             8.913310  "
            ],
            "text/html": [
              "\n",
              "  <div id=\"df-8f66ecc4-bb8a-4a00-809b-69fc919d3846\" class=\"colab-df-container\">\n",
              "    <div>\n",
              "<style scoped>\n",
              "    .dataframe tbody tr th:only-of-type {\n",
              "        vertical-align: middle;\n",
              "    }\n",
              "\n",
              "    .dataframe tbody tr th {\n",
              "        vertical-align: top;\n",
              "    }\n",
              "\n",
              "    .dataframe thead th {\n",
              "        text-align: right;\n",
              "    }\n",
              "</style>\n",
              "<table border=\"1\" class=\"dataframe\">\n",
              "  <thead>\n",
              "    <tr style=\"text-align: right;\">\n",
              "      <th></th>\n",
              "      <th>Mean Absolute Error</th>\n",
              "      <th>R-squared score</th>\n",
              "      <th>Root Mean Squared Error</th>\n",
              "      <th>Mean Absolute Percentage Error</th>\n",
              "    </tr>\n",
              "  </thead>\n",
              "  <tbody>\n",
              "    <tr>\n",
              "      <th>Linear Regression</th>\n",
              "      <td>48455.090761</td>\n",
              "      <td>0.864575</td>\n",
              "      <td>65433.198636</td>\n",
              "      <td>8.253610</td>\n",
              "    </tr>\n",
              "    <tr>\n",
              "      <th>Random Forest Regressor</th>\n",
              "      <td>35982.440512</td>\n",
              "      <td>0.911841</td>\n",
              "      <td>52793.726633</td>\n",
              "      <td>5.772779</td>\n",
              "    </tr>\n",
              "    <tr>\n",
              "      <th>L2 Linear Regression (Ridge)</th>\n",
              "      <td>48476.536298</td>\n",
              "      <td>0.864473</td>\n",
              "      <td>65457.789903</td>\n",
              "      <td>8.252991</td>\n",
              "    </tr>\n",
              "    <tr>\n",
              "      <th>L1 Linear Regression (Lasso)</th>\n",
              "      <td>48474.960339</td>\n",
              "      <td>0.864517</td>\n",
              "      <td>65447.173527</td>\n",
              "      <td>8.253311</td>\n",
              "    </tr>\n",
              "    <tr>\n",
              "      <th>Neural Network</th>\n",
              "      <td>47712.130165</td>\n",
              "      <td>0.896229</td>\n",
              "      <td>57277.877115</td>\n",
              "      <td>9.470080</td>\n",
              "    </tr>\n",
              "    <tr>\n",
              "      <th>LGBM</th>\n",
              "      <td>28049.784373</td>\n",
              "      <td>0.950492</td>\n",
              "      <td>39562.862359</td>\n",
              "      <td>4.695477</td>\n",
              "    </tr>\n",
              "    <tr>\n",
              "      <th>XGBR</th>\n",
              "      <td>27568.409086</td>\n",
              "      <td>0.953663</td>\n",
              "      <td>38274.883184</td>\n",
              "      <td>4.659112</td>\n",
              "    </tr>\n",
              "    <tr>\n",
              "      <th>Elastic Net Regression</th>\n",
              "      <td>56420.772178</td>\n",
              "      <td>0.782576</td>\n",
              "      <td>82909.157902</td>\n",
              "      <td>8.995243</td>\n",
              "    </tr>\n",
              "    <tr>\n",
              "      <th>Decision Tree Regressor</th>\n",
              "      <td>54335.458230</td>\n",
              "      <td>0.807802</td>\n",
              "      <td>77951.242935</td>\n",
              "      <td>8.913310</td>\n",
              "    </tr>\n",
              "  </tbody>\n",
              "</table>\n",
              "</div>\n",
              "    <div class=\"colab-df-buttons\">\n",
              "\n",
              "  <div class=\"colab-df-container\">\n",
              "    <button class=\"colab-df-convert\" onclick=\"convertToInteractive('df-8f66ecc4-bb8a-4a00-809b-69fc919d3846')\"\n",
              "            title=\"Convert this dataframe to an interactive table.\"\n",
              "            style=\"display:none;\">\n",
              "\n",
              "  <svg xmlns=\"http://www.w3.org/2000/svg\" height=\"24px\" viewBox=\"0 -960 960 960\">\n",
              "    <path d=\"M120-120v-720h720v720H120Zm60-500h600v-160H180v160Zm220 220h160v-160H400v160Zm0 220h160v-160H400v160ZM180-400h160v-160H180v160Zm440 0h160v-160H620v160ZM180-180h160v-160H180v160Zm440 0h160v-160H620v160Z\"/>\n",
              "  </svg>\n",
              "    </button>\n",
              "\n",
              "  <style>\n",
              "    .colab-df-container {\n",
              "      display:flex;\n",
              "      gap: 12px;\n",
              "    }\n",
              "\n",
              "    .colab-df-convert {\n",
              "      background-color: #E8F0FE;\n",
              "      border: none;\n",
              "      border-radius: 50%;\n",
              "      cursor: pointer;\n",
              "      display: none;\n",
              "      fill: #1967D2;\n",
              "      height: 32px;\n",
              "      padding: 0 0 0 0;\n",
              "      width: 32px;\n",
              "    }\n",
              "\n",
              "    .colab-df-convert:hover {\n",
              "      background-color: #E2EBFA;\n",
              "      box-shadow: 0px 1px 2px rgba(60, 64, 67, 0.3), 0px 1px 3px 1px rgba(60, 64, 67, 0.15);\n",
              "      fill: #174EA6;\n",
              "    }\n",
              "\n",
              "    .colab-df-buttons div {\n",
              "      margin-bottom: 4px;\n",
              "    }\n",
              "\n",
              "    [theme=dark] .colab-df-convert {\n",
              "      background-color: #3B4455;\n",
              "      fill: #D2E3FC;\n",
              "    }\n",
              "\n",
              "    [theme=dark] .colab-df-convert:hover {\n",
              "      background-color: #434B5C;\n",
              "      box-shadow: 0px 1px 3px 1px rgba(0, 0, 0, 0.15);\n",
              "      filter: drop-shadow(0px 1px 2px rgba(0, 0, 0, 0.3));\n",
              "      fill: #FFFFFF;\n",
              "    }\n",
              "  </style>\n",
              "\n",
              "    <script>\n",
              "      const buttonEl =\n",
              "        document.querySelector('#df-8f66ecc4-bb8a-4a00-809b-69fc919d3846 button.colab-df-convert');\n",
              "      buttonEl.style.display =\n",
              "        google.colab.kernel.accessAllowed ? 'block' : 'none';\n",
              "\n",
              "      async function convertToInteractive(key) {\n",
              "        const element = document.querySelector('#df-8f66ecc4-bb8a-4a00-809b-69fc919d3846');\n",
              "        const dataTable =\n",
              "          await google.colab.kernel.invokeFunction('convertToInteractive',\n",
              "                                                    [key], {});\n",
              "        if (!dataTable) return;\n",
              "\n",
              "        const docLinkHtml = 'Like what you see? Visit the ' +\n",
              "          '<a target=\"_blank\" href=https://colab.research.google.com/notebooks/data_table.ipynb>data table notebook</a>'\n",
              "          + ' to learn more about interactive tables.';\n",
              "        element.innerHTML = '';\n",
              "        dataTable['output_type'] = 'display_data';\n",
              "        await google.colab.output.renderOutput(dataTable, element);\n",
              "        const docLink = document.createElement('div');\n",
              "        docLink.innerHTML = docLinkHtml;\n",
              "        element.appendChild(docLink);\n",
              "      }\n",
              "    </script>\n",
              "  </div>\n",
              "\n",
              "\n",
              "<div id=\"df-f9f8a04e-8066-4a74-a9cf-81096c1276d8\">\n",
              "  <button class=\"colab-df-quickchart\" onclick=\"quickchart('df-f9f8a04e-8066-4a74-a9cf-81096c1276d8')\"\n",
              "            title=\"Suggest charts\"\n",
              "            style=\"display:none;\">\n",
              "\n",
              "<svg xmlns=\"http://www.w3.org/2000/svg\" height=\"24px\"viewBox=\"0 0 24 24\"\n",
              "     width=\"24px\">\n",
              "    <g>\n",
              "        <path d=\"M19 3H5c-1.1 0-2 .9-2 2v14c0 1.1.9 2 2 2h14c1.1 0 2-.9 2-2V5c0-1.1-.9-2-2-2zM9 17H7v-7h2v7zm4 0h-2V7h2v10zm4 0h-2v-4h2v4z\"/>\n",
              "    </g>\n",
              "</svg>\n",
              "  </button>\n",
              "\n",
              "<style>\n",
              "  .colab-df-quickchart {\n",
              "      --bg-color: #E8F0FE;\n",
              "      --fill-color: #1967D2;\n",
              "      --hover-bg-color: #E2EBFA;\n",
              "      --hover-fill-color: #174EA6;\n",
              "      --disabled-fill-color: #AAA;\n",
              "      --disabled-bg-color: #DDD;\n",
              "  }\n",
              "\n",
              "  [theme=dark] .colab-df-quickchart {\n",
              "      --bg-color: #3B4455;\n",
              "      --fill-color: #D2E3FC;\n",
              "      --hover-bg-color: #434B5C;\n",
              "      --hover-fill-color: #FFFFFF;\n",
              "      --disabled-bg-color: #3B4455;\n",
              "      --disabled-fill-color: #666;\n",
              "  }\n",
              "\n",
              "  .colab-df-quickchart {\n",
              "    background-color: var(--bg-color);\n",
              "    border: none;\n",
              "    border-radius: 50%;\n",
              "    cursor: pointer;\n",
              "    display: none;\n",
              "    fill: var(--fill-color);\n",
              "    height: 32px;\n",
              "    padding: 0;\n",
              "    width: 32px;\n",
              "  }\n",
              "\n",
              "  .colab-df-quickchart:hover {\n",
              "    background-color: var(--hover-bg-color);\n",
              "    box-shadow: 0 1px 2px rgba(60, 64, 67, 0.3), 0 1px 3px 1px rgba(60, 64, 67, 0.15);\n",
              "    fill: var(--button-hover-fill-color);\n",
              "  }\n",
              "\n",
              "  .colab-df-quickchart-complete:disabled,\n",
              "  .colab-df-quickchart-complete:disabled:hover {\n",
              "    background-color: var(--disabled-bg-color);\n",
              "    fill: var(--disabled-fill-color);\n",
              "    box-shadow: none;\n",
              "  }\n",
              "\n",
              "  .colab-df-spinner {\n",
              "    border: 2px solid var(--fill-color);\n",
              "    border-color: transparent;\n",
              "    border-bottom-color: var(--fill-color);\n",
              "    animation:\n",
              "      spin 1s steps(1) infinite;\n",
              "  }\n",
              "\n",
              "  @keyframes spin {\n",
              "    0% {\n",
              "      border-color: transparent;\n",
              "      border-bottom-color: var(--fill-color);\n",
              "      border-left-color: var(--fill-color);\n",
              "    }\n",
              "    20% {\n",
              "      border-color: transparent;\n",
              "      border-left-color: var(--fill-color);\n",
              "      border-top-color: var(--fill-color);\n",
              "    }\n",
              "    30% {\n",
              "      border-color: transparent;\n",
              "      border-left-color: var(--fill-color);\n",
              "      border-top-color: var(--fill-color);\n",
              "      border-right-color: var(--fill-color);\n",
              "    }\n",
              "    40% {\n",
              "      border-color: transparent;\n",
              "      border-right-color: var(--fill-color);\n",
              "      border-top-color: var(--fill-color);\n",
              "    }\n",
              "    60% {\n",
              "      border-color: transparent;\n",
              "      border-right-color: var(--fill-color);\n",
              "    }\n",
              "    80% {\n",
              "      border-color: transparent;\n",
              "      border-right-color: var(--fill-color);\n",
              "      border-bottom-color: var(--fill-color);\n",
              "    }\n",
              "    90% {\n",
              "      border-color: transparent;\n",
              "      border-bottom-color: var(--fill-color);\n",
              "    }\n",
              "  }\n",
              "</style>\n",
              "\n",
              "  <script>\n",
              "    async function quickchart(key) {\n",
              "      const quickchartButtonEl =\n",
              "        document.querySelector('#' + key + ' button');\n",
              "      quickchartButtonEl.disabled = true;  // To prevent multiple clicks.\n",
              "      quickchartButtonEl.classList.add('colab-df-spinner');\n",
              "      try {\n",
              "        const charts = await google.colab.kernel.invokeFunction(\n",
              "            'suggestCharts', [key], {});\n",
              "      } catch (error) {\n",
              "        console.error('Error during call to suggestCharts:', error);\n",
              "      }\n",
              "      quickchartButtonEl.classList.remove('colab-df-spinner');\n",
              "      quickchartButtonEl.classList.add('colab-df-quickchart-complete');\n",
              "    }\n",
              "    (() => {\n",
              "      let quickchartButtonEl =\n",
              "        document.querySelector('#df-f9f8a04e-8066-4a74-a9cf-81096c1276d8 button');\n",
              "      quickchartButtonEl.style.display =\n",
              "        google.colab.kernel.accessAllowed ? 'block' : 'none';\n",
              "    })();\n",
              "  </script>\n",
              "</div>\n",
              "\n",
              "    </div>\n",
              "  </div>\n"
            ],
            "application/vnd.google.colaboratory.intrinsic+json": {
              "type": "dataframe",
              "summary": "{\n  \"name\": \"pd\",\n  \"rows\": 9,\n  \"fields\": [\n    {\n      \"column\": \"Mean Absolute Error\",\n      \"properties\": {\n        \"dtype\": \"number\",\n        \"std\": 10743.875762223319,\n        \"min\": 27568.409085500534,\n        \"max\": 56420.77217768007,\n        \"num_unique_values\": 9,\n        \"samples\": [\n          56420.77217768007,\n          35982.44051172902,\n          28049.784372841612\n        ],\n        \"semantic_type\": \"\",\n        \"description\": \"\"\n      }\n    },\n    {\n      \"column\": \"R-squared score\",\n      \"properties\": {\n        \"dtype\": \"number\",\n        \"std\": 0.05812925134760145,\n        \"min\": 0.7825760589290705,\n        \"max\": 0.9536627662968679,\n        \"num_unique_values\": 9,\n        \"samples\": [\n          0.7825760589290705,\n          0.9118409312402136,\n          0.950491728304414\n        ],\n        \"semantic_type\": \"\",\n        \"description\": \"\"\n      }\n    },\n    {\n      \"column\": \"Root Mean Squared Error\",\n      \"properties\": {\n        \"dtype\": \"number\",\n        \"std\": 15338.489603552925,\n        \"min\": 38274.883183916645,\n        \"max\": 82909.15790247152,\n        \"num_unique_values\": 9,\n        \"samples\": [\n          82909.15790247152,\n          52793.72663260498,\n          39562.86235936871\n        ],\n        \"semantic_type\": \"\",\n        \"description\": \"\"\n      }\n    },\n    {\n      \"column\": \"Mean Absolute Percentage Error\",\n      \"properties\": {\n        \"dtype\": \"number\",\n        \"std\": 1.8950595537819008,\n        \"min\": 4.6591122275074035,\n        \"max\": 9.470080423320903,\n        \"num_unique_values\": 9,\n        \"samples\": [\n          8.995242583923964,\n          5.772779318405761,\n          4.695477475121855\n        ],\n        \"semantic_type\": \"\",\n        \"description\": \"\"\n      }\n    }\n  ]\n}"
            }
          },
          "metadata": {},
          "execution_count": 329
        }
      ]
    },
    {
      "cell_type": "code",
      "source": [
        "df_test['resale_price'].mean()"
      ],
      "metadata": {
        "colab": {
          "base_uri": "https://localhost:8080/"
        },
        "id": "Zvlk995-9ArU",
        "outputId": "4cb1d066-f82d-4bbf-f1ec-31e37680d678"
      },
      "execution_count": null,
      "outputs": [
        {
          "output_type": "execute_result",
          "data": {
            "text/plain": [
              "582082.2950936944"
            ]
          },
          "metadata": {},
          "execution_count": 343
        }
      ]
    },
    {
      "cell_type": "markdown",
      "source": [
        "## Comparing Feature Importance across the Tree Models"
      ],
      "metadata": {
        "id": "DeULqwpGAeNa"
      }
    },
    {
      "cell_type": "markdown",
      "source": [
        "The 3 different 3 models (XGBR, Light GBM, and Random Forest Regressor) have placed different importance on different Features. It is interesting to note that the important features of the LGBM Model are very similar to that of the Random Forest Model. The similar top feature importance variables across these 2 models are floor_area_sqm, max_floor_lvl, storey_range, year and remaining_lease. On the other hand, XGBR tends to place a lot more emphasis on the categorical data, which has been one-hot-encoded. For instance, flat type and town were one hot encoded features that dominated in the feature importance list for XGBR. The variation in important features may be attributed to the high correlation between flat type and floor area. For example, a four-room flat typically has a larger floor area compared to a one-room flat. Thus, we still consider the floor area to be a significant factor in the context of this project."
      ],
      "metadata": {
        "id": "6cigVMPvBHom"
      }
    },
    {
      "cell_type": "code",
      "source": [
        "from IPython.display import display\n",
        "\n",
        "display(feat_imp, lgbm_fi, xgbr_fi)"
      ],
      "metadata": {
        "colab": {
          "base_uri": "https://localhost:8080/",
          "height": 1000
        },
        "id": "NMm2-j8VAh8m",
        "outputId": "83b001a2-b7d1-4101-e814-ded553ccf996"
      },
      "execution_count": null,
      "outputs": [
        {
          "output_type": "display_data",
          "data": {
            "text/plain": [
              "                                  Feature  Importance\n",
              "1                          floor_area_sqm    0.296129\n",
              "4                           max_floor_lvl    0.180538\n",
              "16                                   year    0.089778\n",
              "46                       flat_type_3 ROOM    0.084105\n",
              "5                          year_completed    0.047846\n",
              "47                       flat_type_4 ROOM    0.027011\n",
              "49                    flat_type_EXECUTIVE    0.026267\n",
              "2                         remaining_lease    0.025912\n",
              "0                            storey_range    0.025539\n",
              "3   shortest_distance_to_closest_mrt (km)    0.020494"
            ],
            "text/html": [
              "\n",
              "  <div id=\"df-837a9116-8b77-418b-b088-9dba3f9812fe\" class=\"colab-df-container\">\n",
              "    <div>\n",
              "<style scoped>\n",
              "    .dataframe tbody tr th:only-of-type {\n",
              "        vertical-align: middle;\n",
              "    }\n",
              "\n",
              "    .dataframe tbody tr th {\n",
              "        vertical-align: top;\n",
              "    }\n",
              "\n",
              "    .dataframe thead th {\n",
              "        text-align: right;\n",
              "    }\n",
              "</style>\n",
              "<table border=\"1\" class=\"dataframe\">\n",
              "  <thead>\n",
              "    <tr style=\"text-align: right;\">\n",
              "      <th></th>\n",
              "      <th>Feature</th>\n",
              "      <th>Importance</th>\n",
              "    </tr>\n",
              "  </thead>\n",
              "  <tbody>\n",
              "    <tr>\n",
              "      <th>1</th>\n",
              "      <td>floor_area_sqm</td>\n",
              "      <td>0.296129</td>\n",
              "    </tr>\n",
              "    <tr>\n",
              "      <th>4</th>\n",
              "      <td>max_floor_lvl</td>\n",
              "      <td>0.180538</td>\n",
              "    </tr>\n",
              "    <tr>\n",
              "      <th>16</th>\n",
              "      <td>year</td>\n",
              "      <td>0.089778</td>\n",
              "    </tr>\n",
              "    <tr>\n",
              "      <th>46</th>\n",
              "      <td>flat_type_3 ROOM</td>\n",
              "      <td>0.084105</td>\n",
              "    </tr>\n",
              "    <tr>\n",
              "      <th>5</th>\n",
              "      <td>year_completed</td>\n",
              "      <td>0.047846</td>\n",
              "    </tr>\n",
              "    <tr>\n",
              "      <th>47</th>\n",
              "      <td>flat_type_4 ROOM</td>\n",
              "      <td>0.027011</td>\n",
              "    </tr>\n",
              "    <tr>\n",
              "      <th>49</th>\n",
              "      <td>flat_type_EXECUTIVE</td>\n",
              "      <td>0.026267</td>\n",
              "    </tr>\n",
              "    <tr>\n",
              "      <th>2</th>\n",
              "      <td>remaining_lease</td>\n",
              "      <td>0.025912</td>\n",
              "    </tr>\n",
              "    <tr>\n",
              "      <th>0</th>\n",
              "      <td>storey_range</td>\n",
              "      <td>0.025539</td>\n",
              "    </tr>\n",
              "    <tr>\n",
              "      <th>3</th>\n",
              "      <td>shortest_distance_to_closest_mrt (km)</td>\n",
              "      <td>0.020494</td>\n",
              "    </tr>\n",
              "  </tbody>\n",
              "</table>\n",
              "</div>\n",
              "    <div class=\"colab-df-buttons\">\n",
              "\n",
              "  <div class=\"colab-df-container\">\n",
              "    <button class=\"colab-df-convert\" onclick=\"convertToInteractive('df-837a9116-8b77-418b-b088-9dba3f9812fe')\"\n",
              "            title=\"Convert this dataframe to an interactive table.\"\n",
              "            style=\"display:none;\">\n",
              "\n",
              "  <svg xmlns=\"http://www.w3.org/2000/svg\" height=\"24px\" viewBox=\"0 -960 960 960\">\n",
              "    <path d=\"M120-120v-720h720v720H120Zm60-500h600v-160H180v160Zm220 220h160v-160H400v160Zm0 220h160v-160H400v160ZM180-400h160v-160H180v160Zm440 0h160v-160H620v160ZM180-180h160v-160H180v160Zm440 0h160v-160H620v160Z\"/>\n",
              "  </svg>\n",
              "    </button>\n",
              "\n",
              "  <style>\n",
              "    .colab-df-container {\n",
              "      display:flex;\n",
              "      gap: 12px;\n",
              "    }\n",
              "\n",
              "    .colab-df-convert {\n",
              "      background-color: #E8F0FE;\n",
              "      border: none;\n",
              "      border-radius: 50%;\n",
              "      cursor: pointer;\n",
              "      display: none;\n",
              "      fill: #1967D2;\n",
              "      height: 32px;\n",
              "      padding: 0 0 0 0;\n",
              "      width: 32px;\n",
              "    }\n",
              "\n",
              "    .colab-df-convert:hover {\n",
              "      background-color: #E2EBFA;\n",
              "      box-shadow: 0px 1px 2px rgba(60, 64, 67, 0.3), 0px 1px 3px 1px rgba(60, 64, 67, 0.15);\n",
              "      fill: #174EA6;\n",
              "    }\n",
              "\n",
              "    .colab-df-buttons div {\n",
              "      margin-bottom: 4px;\n",
              "    }\n",
              "\n",
              "    [theme=dark] .colab-df-convert {\n",
              "      background-color: #3B4455;\n",
              "      fill: #D2E3FC;\n",
              "    }\n",
              "\n",
              "    [theme=dark] .colab-df-convert:hover {\n",
              "      background-color: #434B5C;\n",
              "      box-shadow: 0px 1px 3px 1px rgba(0, 0, 0, 0.15);\n",
              "      filter: drop-shadow(0px 1px 2px rgba(0, 0, 0, 0.3));\n",
              "      fill: #FFFFFF;\n",
              "    }\n",
              "  </style>\n",
              "\n",
              "    <script>\n",
              "      const buttonEl =\n",
              "        document.querySelector('#df-837a9116-8b77-418b-b088-9dba3f9812fe button.colab-df-convert');\n",
              "      buttonEl.style.display =\n",
              "        google.colab.kernel.accessAllowed ? 'block' : 'none';\n",
              "\n",
              "      async function convertToInteractive(key) {\n",
              "        const element = document.querySelector('#df-837a9116-8b77-418b-b088-9dba3f9812fe');\n",
              "        const dataTable =\n",
              "          await google.colab.kernel.invokeFunction('convertToInteractive',\n",
              "                                                    [key], {});\n",
              "        if (!dataTable) return;\n",
              "\n",
              "        const docLinkHtml = 'Like what you see? Visit the ' +\n",
              "          '<a target=\"_blank\" href=https://colab.research.google.com/notebooks/data_table.ipynb>data table notebook</a>'\n",
              "          + ' to learn more about interactive tables.';\n",
              "        element.innerHTML = '';\n",
              "        dataTable['output_type'] = 'display_data';\n",
              "        await google.colab.output.renderOutput(dataTable, element);\n",
              "        const docLink = document.createElement('div');\n",
              "        docLink.innerHTML = docLinkHtml;\n",
              "        element.appendChild(docLink);\n",
              "      }\n",
              "    </script>\n",
              "  </div>\n",
              "\n",
              "\n",
              "<div id=\"df-582fb2f8-e592-4b65-85cb-a290799ac079\">\n",
              "  <button class=\"colab-df-quickchart\" onclick=\"quickchart('df-582fb2f8-e592-4b65-85cb-a290799ac079')\"\n",
              "            title=\"Suggest charts\"\n",
              "            style=\"display:none;\">\n",
              "\n",
              "<svg xmlns=\"http://www.w3.org/2000/svg\" height=\"24px\"viewBox=\"0 0 24 24\"\n",
              "     width=\"24px\">\n",
              "    <g>\n",
              "        <path d=\"M19 3H5c-1.1 0-2 .9-2 2v14c0 1.1.9 2 2 2h14c1.1 0 2-.9 2-2V5c0-1.1-.9-2-2-2zM9 17H7v-7h2v7zm4 0h-2V7h2v10zm4 0h-2v-4h2v4z\"/>\n",
              "    </g>\n",
              "</svg>\n",
              "  </button>\n",
              "\n",
              "<style>\n",
              "  .colab-df-quickchart {\n",
              "      --bg-color: #E8F0FE;\n",
              "      --fill-color: #1967D2;\n",
              "      --hover-bg-color: #E2EBFA;\n",
              "      --hover-fill-color: #174EA6;\n",
              "      --disabled-fill-color: #AAA;\n",
              "      --disabled-bg-color: #DDD;\n",
              "  }\n",
              "\n",
              "  [theme=dark] .colab-df-quickchart {\n",
              "      --bg-color: #3B4455;\n",
              "      --fill-color: #D2E3FC;\n",
              "      --hover-bg-color: #434B5C;\n",
              "      --hover-fill-color: #FFFFFF;\n",
              "      --disabled-bg-color: #3B4455;\n",
              "      --disabled-fill-color: #666;\n",
              "  }\n",
              "\n",
              "  .colab-df-quickchart {\n",
              "    background-color: var(--bg-color);\n",
              "    border: none;\n",
              "    border-radius: 50%;\n",
              "    cursor: pointer;\n",
              "    display: none;\n",
              "    fill: var(--fill-color);\n",
              "    height: 32px;\n",
              "    padding: 0;\n",
              "    width: 32px;\n",
              "  }\n",
              "\n",
              "  .colab-df-quickchart:hover {\n",
              "    background-color: var(--hover-bg-color);\n",
              "    box-shadow: 0 1px 2px rgba(60, 64, 67, 0.3), 0 1px 3px 1px rgba(60, 64, 67, 0.15);\n",
              "    fill: var(--button-hover-fill-color);\n",
              "  }\n",
              "\n",
              "  .colab-df-quickchart-complete:disabled,\n",
              "  .colab-df-quickchart-complete:disabled:hover {\n",
              "    background-color: var(--disabled-bg-color);\n",
              "    fill: var(--disabled-fill-color);\n",
              "    box-shadow: none;\n",
              "  }\n",
              "\n",
              "  .colab-df-spinner {\n",
              "    border: 2px solid var(--fill-color);\n",
              "    border-color: transparent;\n",
              "    border-bottom-color: var(--fill-color);\n",
              "    animation:\n",
              "      spin 1s steps(1) infinite;\n",
              "  }\n",
              "\n",
              "  @keyframes spin {\n",
              "    0% {\n",
              "      border-color: transparent;\n",
              "      border-bottom-color: var(--fill-color);\n",
              "      border-left-color: var(--fill-color);\n",
              "    }\n",
              "    20% {\n",
              "      border-color: transparent;\n",
              "      border-left-color: var(--fill-color);\n",
              "      border-top-color: var(--fill-color);\n",
              "    }\n",
              "    30% {\n",
              "      border-color: transparent;\n",
              "      border-left-color: var(--fill-color);\n",
              "      border-top-color: var(--fill-color);\n",
              "      border-right-color: var(--fill-color);\n",
              "    }\n",
              "    40% {\n",
              "      border-color: transparent;\n",
              "      border-right-color: var(--fill-color);\n",
              "      border-top-color: var(--fill-color);\n",
              "    }\n",
              "    60% {\n",
              "      border-color: transparent;\n",
              "      border-right-color: var(--fill-color);\n",
              "    }\n",
              "    80% {\n",
              "      border-color: transparent;\n",
              "      border-right-color: var(--fill-color);\n",
              "      border-bottom-color: var(--fill-color);\n",
              "    }\n",
              "    90% {\n",
              "      border-color: transparent;\n",
              "      border-bottom-color: var(--fill-color);\n",
              "    }\n",
              "  }\n",
              "</style>\n",
              "\n",
              "  <script>\n",
              "    async function quickchart(key) {\n",
              "      const quickchartButtonEl =\n",
              "        document.querySelector('#' + key + ' button');\n",
              "      quickchartButtonEl.disabled = true;  // To prevent multiple clicks.\n",
              "      quickchartButtonEl.classList.add('colab-df-spinner');\n",
              "      try {\n",
              "        const charts = await google.colab.kernel.invokeFunction(\n",
              "            'suggestCharts', [key], {});\n",
              "      } catch (error) {\n",
              "        console.error('Error during call to suggestCharts:', error);\n",
              "      }\n",
              "      quickchartButtonEl.classList.remove('colab-df-spinner');\n",
              "      quickchartButtonEl.classList.add('colab-df-quickchart-complete');\n",
              "    }\n",
              "    (() => {\n",
              "      let quickchartButtonEl =\n",
              "        document.querySelector('#df-582fb2f8-e592-4b65-85cb-a290799ac079 button');\n",
              "      quickchartButtonEl.style.display =\n",
              "        google.colab.kernel.accessAllowed ? 'block' : 'none';\n",
              "    })();\n",
              "  </script>\n",
              "</div>\n",
              "\n",
              "  <div id=\"id_7d0cc37e-cfe4-410e-a8e8-8e2170da493b\">\n",
              "    <style>\n",
              "      .colab-df-generate {\n",
              "        background-color: #E8F0FE;\n",
              "        border: none;\n",
              "        border-radius: 50%;\n",
              "        cursor: pointer;\n",
              "        display: none;\n",
              "        fill: #1967D2;\n",
              "        height: 32px;\n",
              "        padding: 0 0 0 0;\n",
              "        width: 32px;\n",
              "      }\n",
              "\n",
              "      .colab-df-generate:hover {\n",
              "        background-color: #E2EBFA;\n",
              "        box-shadow: 0px 1px 2px rgba(60, 64, 67, 0.3), 0px 1px 3px 1px rgba(60, 64, 67, 0.15);\n",
              "        fill: #174EA6;\n",
              "      }\n",
              "\n",
              "      [theme=dark] .colab-df-generate {\n",
              "        background-color: #3B4455;\n",
              "        fill: #D2E3FC;\n",
              "      }\n",
              "\n",
              "      [theme=dark] .colab-df-generate:hover {\n",
              "        background-color: #434B5C;\n",
              "        box-shadow: 0px 1px 3px 1px rgba(0, 0, 0, 0.15);\n",
              "        filter: drop-shadow(0px 1px 2px rgba(0, 0, 0, 0.3));\n",
              "        fill: #FFFFFF;\n",
              "      }\n",
              "    </style>\n",
              "    <button class=\"colab-df-generate\" onclick=\"generateWithVariable('feat_imp')\"\n",
              "            title=\"Generate code using this dataframe.\"\n",
              "            style=\"display:none;\">\n",
              "\n",
              "  <svg xmlns=\"http://www.w3.org/2000/svg\" height=\"24px\"viewBox=\"0 0 24 24\"\n",
              "       width=\"24px\">\n",
              "    <path d=\"M7,19H8.4L18.45,9,17,7.55,7,17.6ZM5,21V16.75L18.45,3.32a2,2,0,0,1,2.83,0l1.4,1.43a1.91,1.91,0,0,1,.58,1.4,1.91,1.91,0,0,1-.58,1.4L9.25,21ZM18.45,9,17,7.55Zm-12,3A5.31,5.31,0,0,0,4.9,8.1,5.31,5.31,0,0,0,1,6.5,5.31,5.31,0,0,0,4.9,4.9,5.31,5.31,0,0,0,6.5,1,5.31,5.31,0,0,0,8.1,4.9,5.31,5.31,0,0,0,12,6.5,5.46,5.46,0,0,0,6.5,12Z\"/>\n",
              "  </svg>\n",
              "    </button>\n",
              "    <script>\n",
              "      (() => {\n",
              "      const buttonEl =\n",
              "        document.querySelector('#id_7d0cc37e-cfe4-410e-a8e8-8e2170da493b button.colab-df-generate');\n",
              "      buttonEl.style.display =\n",
              "        google.colab.kernel.accessAllowed ? 'block' : 'none';\n",
              "\n",
              "      buttonEl.onclick = () => {\n",
              "        google.colab.notebook.generateWithVariable('feat_imp');\n",
              "      }\n",
              "      })();\n",
              "    </script>\n",
              "  </div>\n",
              "\n",
              "    </div>\n",
              "  </div>\n"
            ],
            "application/vnd.google.colaboratory.intrinsic+json": {
              "type": "dataframe",
              "variable_name": "feat_imp",
              "summary": "{\n  \"name\": \"feat_imp\",\n  \"rows\": 10,\n  \"fields\": [\n    {\n      \"column\": \"Feature\",\n      \"properties\": {\n        \"dtype\": \"string\",\n        \"num_unique_values\": 10,\n        \"samples\": [\n          \"storey_range\",\n          \"max_floor_lvl\",\n          \"flat_type_4 ROOM\"\n        ],\n        \"semantic_type\": \"\",\n        \"description\": \"\"\n      }\n    },\n    {\n      \"column\": \"Importance\",\n      \"properties\": {\n        \"dtype\": \"number\",\n        \"std\": 0.09008500635370417,\n        \"min\": 0.020494028229585223,\n        \"max\": 0.2961293753664578,\n        \"num_unique_values\": 10,\n        \"samples\": [\n          0.025539094851575864,\n          0.18053766778260646,\n          0.02701059996416615\n        ],\n        \"semantic_type\": \"\",\n        \"description\": \"\"\n      }\n    }\n  ]\n}"
            }
          },
          "metadata": {}
        },
        {
          "output_type": "display_data",
          "data": {
            "text/plain": [
              "                                  Feature  Importance\n",
              "1                          floor_area_sqm        1060\n",
              "3   shortest_distance_to_closest_mrt (km)         811\n",
              "5                          year_completed         690\n",
              "2                         remaining_lease         541\n",
              "4                           max_floor_lvl         501\n",
              "12                   total_dwelling_units         463\n",
              "16                                   year         461\n",
              "0                            storey_range         241\n",
              "20                            town_BISHAN         106\n",
              "13               is_elite_closest_pri_sch         106"
            ],
            "text/html": [
              "\n",
              "  <div id=\"df-a6f70a00-b367-4f02-9af8-4eb4be4d3735\" class=\"colab-df-container\">\n",
              "    <div>\n",
              "<style scoped>\n",
              "    .dataframe tbody tr th:only-of-type {\n",
              "        vertical-align: middle;\n",
              "    }\n",
              "\n",
              "    .dataframe tbody tr th {\n",
              "        vertical-align: top;\n",
              "    }\n",
              "\n",
              "    .dataframe thead th {\n",
              "        text-align: right;\n",
              "    }\n",
              "</style>\n",
              "<table border=\"1\" class=\"dataframe\">\n",
              "  <thead>\n",
              "    <tr style=\"text-align: right;\">\n",
              "      <th></th>\n",
              "      <th>Feature</th>\n",
              "      <th>Importance</th>\n",
              "    </tr>\n",
              "  </thead>\n",
              "  <tbody>\n",
              "    <tr>\n",
              "      <th>1</th>\n",
              "      <td>floor_area_sqm</td>\n",
              "      <td>1060</td>\n",
              "    </tr>\n",
              "    <tr>\n",
              "      <th>3</th>\n",
              "      <td>shortest_distance_to_closest_mrt (km)</td>\n",
              "      <td>811</td>\n",
              "    </tr>\n",
              "    <tr>\n",
              "      <th>5</th>\n",
              "      <td>year_completed</td>\n",
              "      <td>690</td>\n",
              "    </tr>\n",
              "    <tr>\n",
              "      <th>2</th>\n",
              "      <td>remaining_lease</td>\n",
              "      <td>541</td>\n",
              "    </tr>\n",
              "    <tr>\n",
              "      <th>4</th>\n",
              "      <td>max_floor_lvl</td>\n",
              "      <td>501</td>\n",
              "    </tr>\n",
              "    <tr>\n",
              "      <th>12</th>\n",
              "      <td>total_dwelling_units</td>\n",
              "      <td>463</td>\n",
              "    </tr>\n",
              "    <tr>\n",
              "      <th>16</th>\n",
              "      <td>year</td>\n",
              "      <td>461</td>\n",
              "    </tr>\n",
              "    <tr>\n",
              "      <th>0</th>\n",
              "      <td>storey_range</td>\n",
              "      <td>241</td>\n",
              "    </tr>\n",
              "    <tr>\n",
              "      <th>20</th>\n",
              "      <td>town_BISHAN</td>\n",
              "      <td>106</td>\n",
              "    </tr>\n",
              "    <tr>\n",
              "      <th>13</th>\n",
              "      <td>is_elite_closest_pri_sch</td>\n",
              "      <td>106</td>\n",
              "    </tr>\n",
              "  </tbody>\n",
              "</table>\n",
              "</div>\n",
              "    <div class=\"colab-df-buttons\">\n",
              "\n",
              "  <div class=\"colab-df-container\">\n",
              "    <button class=\"colab-df-convert\" onclick=\"convertToInteractive('df-a6f70a00-b367-4f02-9af8-4eb4be4d3735')\"\n",
              "            title=\"Convert this dataframe to an interactive table.\"\n",
              "            style=\"display:none;\">\n",
              "\n",
              "  <svg xmlns=\"http://www.w3.org/2000/svg\" height=\"24px\" viewBox=\"0 -960 960 960\">\n",
              "    <path d=\"M120-120v-720h720v720H120Zm60-500h600v-160H180v160Zm220 220h160v-160H400v160Zm0 220h160v-160H400v160ZM180-400h160v-160H180v160Zm440 0h160v-160H620v160ZM180-180h160v-160H180v160Zm440 0h160v-160H620v160Z\"/>\n",
              "  </svg>\n",
              "    </button>\n",
              "\n",
              "  <style>\n",
              "    .colab-df-container {\n",
              "      display:flex;\n",
              "      gap: 12px;\n",
              "    }\n",
              "\n",
              "    .colab-df-convert {\n",
              "      background-color: #E8F0FE;\n",
              "      border: none;\n",
              "      border-radius: 50%;\n",
              "      cursor: pointer;\n",
              "      display: none;\n",
              "      fill: #1967D2;\n",
              "      height: 32px;\n",
              "      padding: 0 0 0 0;\n",
              "      width: 32px;\n",
              "    }\n",
              "\n",
              "    .colab-df-convert:hover {\n",
              "      background-color: #E2EBFA;\n",
              "      box-shadow: 0px 1px 2px rgba(60, 64, 67, 0.3), 0px 1px 3px 1px rgba(60, 64, 67, 0.15);\n",
              "      fill: #174EA6;\n",
              "    }\n",
              "\n",
              "    .colab-df-buttons div {\n",
              "      margin-bottom: 4px;\n",
              "    }\n",
              "\n",
              "    [theme=dark] .colab-df-convert {\n",
              "      background-color: #3B4455;\n",
              "      fill: #D2E3FC;\n",
              "    }\n",
              "\n",
              "    [theme=dark] .colab-df-convert:hover {\n",
              "      background-color: #434B5C;\n",
              "      box-shadow: 0px 1px 3px 1px rgba(0, 0, 0, 0.15);\n",
              "      filter: drop-shadow(0px 1px 2px rgba(0, 0, 0, 0.3));\n",
              "      fill: #FFFFFF;\n",
              "    }\n",
              "  </style>\n",
              "\n",
              "    <script>\n",
              "      const buttonEl =\n",
              "        document.querySelector('#df-a6f70a00-b367-4f02-9af8-4eb4be4d3735 button.colab-df-convert');\n",
              "      buttonEl.style.display =\n",
              "        google.colab.kernel.accessAllowed ? 'block' : 'none';\n",
              "\n",
              "      async function convertToInteractive(key) {\n",
              "        const element = document.querySelector('#df-a6f70a00-b367-4f02-9af8-4eb4be4d3735');\n",
              "        const dataTable =\n",
              "          await google.colab.kernel.invokeFunction('convertToInteractive',\n",
              "                                                    [key], {});\n",
              "        if (!dataTable) return;\n",
              "\n",
              "        const docLinkHtml = 'Like what you see? Visit the ' +\n",
              "          '<a target=\"_blank\" href=https://colab.research.google.com/notebooks/data_table.ipynb>data table notebook</a>'\n",
              "          + ' to learn more about interactive tables.';\n",
              "        element.innerHTML = '';\n",
              "        dataTable['output_type'] = 'display_data';\n",
              "        await google.colab.output.renderOutput(dataTable, element);\n",
              "        const docLink = document.createElement('div');\n",
              "        docLink.innerHTML = docLinkHtml;\n",
              "        element.appendChild(docLink);\n",
              "      }\n",
              "    </script>\n",
              "  </div>\n",
              "\n",
              "\n",
              "<div id=\"df-c5c8a156-b3fc-4c30-842e-3c3de5c441fc\">\n",
              "  <button class=\"colab-df-quickchart\" onclick=\"quickchart('df-c5c8a156-b3fc-4c30-842e-3c3de5c441fc')\"\n",
              "            title=\"Suggest charts\"\n",
              "            style=\"display:none;\">\n",
              "\n",
              "<svg xmlns=\"http://www.w3.org/2000/svg\" height=\"24px\"viewBox=\"0 0 24 24\"\n",
              "     width=\"24px\">\n",
              "    <g>\n",
              "        <path d=\"M19 3H5c-1.1 0-2 .9-2 2v14c0 1.1.9 2 2 2h14c1.1 0 2-.9 2-2V5c0-1.1-.9-2-2-2zM9 17H7v-7h2v7zm4 0h-2V7h2v10zm4 0h-2v-4h2v4z\"/>\n",
              "    </g>\n",
              "</svg>\n",
              "  </button>\n",
              "\n",
              "<style>\n",
              "  .colab-df-quickchart {\n",
              "      --bg-color: #E8F0FE;\n",
              "      --fill-color: #1967D2;\n",
              "      --hover-bg-color: #E2EBFA;\n",
              "      --hover-fill-color: #174EA6;\n",
              "      --disabled-fill-color: #AAA;\n",
              "      --disabled-bg-color: #DDD;\n",
              "  }\n",
              "\n",
              "  [theme=dark] .colab-df-quickchart {\n",
              "      --bg-color: #3B4455;\n",
              "      --fill-color: #D2E3FC;\n",
              "      --hover-bg-color: #434B5C;\n",
              "      --hover-fill-color: #FFFFFF;\n",
              "      --disabled-bg-color: #3B4455;\n",
              "      --disabled-fill-color: #666;\n",
              "  }\n",
              "\n",
              "  .colab-df-quickchart {\n",
              "    background-color: var(--bg-color);\n",
              "    border: none;\n",
              "    border-radius: 50%;\n",
              "    cursor: pointer;\n",
              "    display: none;\n",
              "    fill: var(--fill-color);\n",
              "    height: 32px;\n",
              "    padding: 0;\n",
              "    width: 32px;\n",
              "  }\n",
              "\n",
              "  .colab-df-quickchart:hover {\n",
              "    background-color: var(--hover-bg-color);\n",
              "    box-shadow: 0 1px 2px rgba(60, 64, 67, 0.3), 0 1px 3px 1px rgba(60, 64, 67, 0.15);\n",
              "    fill: var(--button-hover-fill-color);\n",
              "  }\n",
              "\n",
              "  .colab-df-quickchart-complete:disabled,\n",
              "  .colab-df-quickchart-complete:disabled:hover {\n",
              "    background-color: var(--disabled-bg-color);\n",
              "    fill: var(--disabled-fill-color);\n",
              "    box-shadow: none;\n",
              "  }\n",
              "\n",
              "  .colab-df-spinner {\n",
              "    border: 2px solid var(--fill-color);\n",
              "    border-color: transparent;\n",
              "    border-bottom-color: var(--fill-color);\n",
              "    animation:\n",
              "      spin 1s steps(1) infinite;\n",
              "  }\n",
              "\n",
              "  @keyframes spin {\n",
              "    0% {\n",
              "      border-color: transparent;\n",
              "      border-bottom-color: var(--fill-color);\n",
              "      border-left-color: var(--fill-color);\n",
              "    }\n",
              "    20% {\n",
              "      border-color: transparent;\n",
              "      border-left-color: var(--fill-color);\n",
              "      border-top-color: var(--fill-color);\n",
              "    }\n",
              "    30% {\n",
              "      border-color: transparent;\n",
              "      border-left-color: var(--fill-color);\n",
              "      border-top-color: var(--fill-color);\n",
              "      border-right-color: var(--fill-color);\n",
              "    }\n",
              "    40% {\n",
              "      border-color: transparent;\n",
              "      border-right-color: var(--fill-color);\n",
              "      border-top-color: var(--fill-color);\n",
              "    }\n",
              "    60% {\n",
              "      border-color: transparent;\n",
              "      border-right-color: var(--fill-color);\n",
              "    }\n",
              "    80% {\n",
              "      border-color: transparent;\n",
              "      border-right-color: var(--fill-color);\n",
              "      border-bottom-color: var(--fill-color);\n",
              "    }\n",
              "    90% {\n",
              "      border-color: transparent;\n",
              "      border-bottom-color: var(--fill-color);\n",
              "    }\n",
              "  }\n",
              "</style>\n",
              "\n",
              "  <script>\n",
              "    async function quickchart(key) {\n",
              "      const quickchartButtonEl =\n",
              "        document.querySelector('#' + key + ' button');\n",
              "      quickchartButtonEl.disabled = true;  // To prevent multiple clicks.\n",
              "      quickchartButtonEl.classList.add('colab-df-spinner');\n",
              "      try {\n",
              "        const charts = await google.colab.kernel.invokeFunction(\n",
              "            'suggestCharts', [key], {});\n",
              "      } catch (error) {\n",
              "        console.error('Error during call to suggestCharts:', error);\n",
              "      }\n",
              "      quickchartButtonEl.classList.remove('colab-df-spinner');\n",
              "      quickchartButtonEl.classList.add('colab-df-quickchart-complete');\n",
              "    }\n",
              "    (() => {\n",
              "      let quickchartButtonEl =\n",
              "        document.querySelector('#df-c5c8a156-b3fc-4c30-842e-3c3de5c441fc button');\n",
              "      quickchartButtonEl.style.display =\n",
              "        google.colab.kernel.accessAllowed ? 'block' : 'none';\n",
              "    })();\n",
              "  </script>\n",
              "</div>\n",
              "\n",
              "  <div id=\"id_3fde79be-4d20-419f-b8dc-520a02faa293\">\n",
              "    <style>\n",
              "      .colab-df-generate {\n",
              "        background-color: #E8F0FE;\n",
              "        border: none;\n",
              "        border-radius: 50%;\n",
              "        cursor: pointer;\n",
              "        display: none;\n",
              "        fill: #1967D2;\n",
              "        height: 32px;\n",
              "        padding: 0 0 0 0;\n",
              "        width: 32px;\n",
              "      }\n",
              "\n",
              "      .colab-df-generate:hover {\n",
              "        background-color: #E2EBFA;\n",
              "        box-shadow: 0px 1px 2px rgba(60, 64, 67, 0.3), 0px 1px 3px 1px rgba(60, 64, 67, 0.15);\n",
              "        fill: #174EA6;\n",
              "      }\n",
              "\n",
              "      [theme=dark] .colab-df-generate {\n",
              "        background-color: #3B4455;\n",
              "        fill: #D2E3FC;\n",
              "      }\n",
              "\n",
              "      [theme=dark] .colab-df-generate:hover {\n",
              "        background-color: #434B5C;\n",
              "        box-shadow: 0px 1px 3px 1px rgba(0, 0, 0, 0.15);\n",
              "        filter: drop-shadow(0px 1px 2px rgba(0, 0, 0, 0.3));\n",
              "        fill: #FFFFFF;\n",
              "      }\n",
              "    </style>\n",
              "    <button class=\"colab-df-generate\" onclick=\"generateWithVariable('lgbm_fi')\"\n",
              "            title=\"Generate code using this dataframe.\"\n",
              "            style=\"display:none;\">\n",
              "\n",
              "  <svg xmlns=\"http://www.w3.org/2000/svg\" height=\"24px\"viewBox=\"0 0 24 24\"\n",
              "       width=\"24px\">\n",
              "    <path d=\"M7,19H8.4L18.45,9,17,7.55,7,17.6ZM5,21V16.75L18.45,3.32a2,2,0,0,1,2.83,0l1.4,1.43a1.91,1.91,0,0,1,.58,1.4,1.91,1.91,0,0,1-.58,1.4L9.25,21ZM18.45,9,17,7.55Zm-12,3A5.31,5.31,0,0,0,4.9,8.1,5.31,5.31,0,0,0,1,6.5,5.31,5.31,0,0,0,4.9,4.9,5.31,5.31,0,0,0,6.5,1,5.31,5.31,0,0,0,8.1,4.9,5.31,5.31,0,0,0,12,6.5,5.46,5.46,0,0,0,6.5,12Z\"/>\n",
              "  </svg>\n",
              "    </button>\n",
              "    <script>\n",
              "      (() => {\n",
              "      const buttonEl =\n",
              "        document.querySelector('#id_3fde79be-4d20-419f-b8dc-520a02faa293 button.colab-df-generate');\n",
              "      buttonEl.style.display =\n",
              "        google.colab.kernel.accessAllowed ? 'block' : 'none';\n",
              "\n",
              "      buttonEl.onclick = () => {\n",
              "        google.colab.notebook.generateWithVariable('lgbm_fi');\n",
              "      }\n",
              "      })();\n",
              "    </script>\n",
              "  </div>\n",
              "\n",
              "    </div>\n",
              "  </div>\n"
            ],
            "application/vnd.google.colaboratory.intrinsic+json": {
              "type": "dataframe",
              "variable_name": "lgbm_fi",
              "summary": "{\n  \"name\": \"lgbm_fi\",\n  \"rows\": 10,\n  \"fields\": [\n    {\n      \"column\": \"Feature\",\n      \"properties\": {\n        \"dtype\": \"string\",\n        \"num_unique_values\": 10,\n        \"samples\": [\n          \"town_BISHAN\",\n          \"shortest_distance_to_closest_mrt (km)\",\n          \"total_dwelling_units\"\n        ],\n        \"semantic_type\": \"\",\n        \"description\": \"\"\n      }\n    },\n    {\n      \"column\": \"Importance\",\n      \"properties\": {\n        \"dtype\": \"int32\",\n        \"num_unique_values\": 9,\n        \"samples\": [\n          241,\n          811,\n          463\n        ],\n        \"semantic_type\": \"\",\n        \"description\": \"\"\n      }\n    }\n  ]\n}"
            }
          },
          "metadata": {}
        },
        {
          "output_type": "display_data",
          "data": {
            "text/plain": [
              "                Feature  Importance\n",
              "49  flat_type_EXECUTIVE    0.082093\n",
              "46     flat_type_3 ROOM    0.080903\n",
              "20          town_BISHAN    0.043640\n",
              "4         max_floor_lvl    0.033104\n",
              "38        town_SENGKANG    0.031149\n",
              "45     flat_type_2 ROOM    0.030712\n",
              "23   town_BUKIT PANJANG    0.028180\n",
              "22     town_BUKIT MERAH    0.027295\n",
              "69   flat_model_Terrace    0.025170\n",
              "48     flat_type_5 ROOM    0.024912"
            ],
            "text/html": [
              "\n",
              "  <div id=\"df-ef3ed869-3d05-42fc-818f-dac42b6b2647\" class=\"colab-df-container\">\n",
              "    <div>\n",
              "<style scoped>\n",
              "    .dataframe tbody tr th:only-of-type {\n",
              "        vertical-align: middle;\n",
              "    }\n",
              "\n",
              "    .dataframe tbody tr th {\n",
              "        vertical-align: top;\n",
              "    }\n",
              "\n",
              "    .dataframe thead th {\n",
              "        text-align: right;\n",
              "    }\n",
              "</style>\n",
              "<table border=\"1\" class=\"dataframe\">\n",
              "  <thead>\n",
              "    <tr style=\"text-align: right;\">\n",
              "      <th></th>\n",
              "      <th>Feature</th>\n",
              "      <th>Importance</th>\n",
              "    </tr>\n",
              "  </thead>\n",
              "  <tbody>\n",
              "    <tr>\n",
              "      <th>49</th>\n",
              "      <td>flat_type_EXECUTIVE</td>\n",
              "      <td>0.082093</td>\n",
              "    </tr>\n",
              "    <tr>\n",
              "      <th>46</th>\n",
              "      <td>flat_type_3 ROOM</td>\n",
              "      <td>0.080903</td>\n",
              "    </tr>\n",
              "    <tr>\n",
              "      <th>20</th>\n",
              "      <td>town_BISHAN</td>\n",
              "      <td>0.043640</td>\n",
              "    </tr>\n",
              "    <tr>\n",
              "      <th>4</th>\n",
              "      <td>max_floor_lvl</td>\n",
              "      <td>0.033104</td>\n",
              "    </tr>\n",
              "    <tr>\n",
              "      <th>38</th>\n",
              "      <td>town_SENGKANG</td>\n",
              "      <td>0.031149</td>\n",
              "    </tr>\n",
              "    <tr>\n",
              "      <th>45</th>\n",
              "      <td>flat_type_2 ROOM</td>\n",
              "      <td>0.030712</td>\n",
              "    </tr>\n",
              "    <tr>\n",
              "      <th>23</th>\n",
              "      <td>town_BUKIT PANJANG</td>\n",
              "      <td>0.028180</td>\n",
              "    </tr>\n",
              "    <tr>\n",
              "      <th>22</th>\n",
              "      <td>town_BUKIT MERAH</td>\n",
              "      <td>0.027295</td>\n",
              "    </tr>\n",
              "    <tr>\n",
              "      <th>69</th>\n",
              "      <td>flat_model_Terrace</td>\n",
              "      <td>0.025170</td>\n",
              "    </tr>\n",
              "    <tr>\n",
              "      <th>48</th>\n",
              "      <td>flat_type_5 ROOM</td>\n",
              "      <td>0.024912</td>\n",
              "    </tr>\n",
              "  </tbody>\n",
              "</table>\n",
              "</div>\n",
              "    <div class=\"colab-df-buttons\">\n",
              "\n",
              "  <div class=\"colab-df-container\">\n",
              "    <button class=\"colab-df-convert\" onclick=\"convertToInteractive('df-ef3ed869-3d05-42fc-818f-dac42b6b2647')\"\n",
              "            title=\"Convert this dataframe to an interactive table.\"\n",
              "            style=\"display:none;\">\n",
              "\n",
              "  <svg xmlns=\"http://www.w3.org/2000/svg\" height=\"24px\" viewBox=\"0 -960 960 960\">\n",
              "    <path d=\"M120-120v-720h720v720H120Zm60-500h600v-160H180v160Zm220 220h160v-160H400v160Zm0 220h160v-160H400v160ZM180-400h160v-160H180v160Zm440 0h160v-160H620v160ZM180-180h160v-160H180v160Zm440 0h160v-160H620v160Z\"/>\n",
              "  </svg>\n",
              "    </button>\n",
              "\n",
              "  <style>\n",
              "    .colab-df-container {\n",
              "      display:flex;\n",
              "      gap: 12px;\n",
              "    }\n",
              "\n",
              "    .colab-df-convert {\n",
              "      background-color: #E8F0FE;\n",
              "      border: none;\n",
              "      border-radius: 50%;\n",
              "      cursor: pointer;\n",
              "      display: none;\n",
              "      fill: #1967D2;\n",
              "      height: 32px;\n",
              "      padding: 0 0 0 0;\n",
              "      width: 32px;\n",
              "    }\n",
              "\n",
              "    .colab-df-convert:hover {\n",
              "      background-color: #E2EBFA;\n",
              "      box-shadow: 0px 1px 2px rgba(60, 64, 67, 0.3), 0px 1px 3px 1px rgba(60, 64, 67, 0.15);\n",
              "      fill: #174EA6;\n",
              "    }\n",
              "\n",
              "    .colab-df-buttons div {\n",
              "      margin-bottom: 4px;\n",
              "    }\n",
              "\n",
              "    [theme=dark] .colab-df-convert {\n",
              "      background-color: #3B4455;\n",
              "      fill: #D2E3FC;\n",
              "    }\n",
              "\n",
              "    [theme=dark] .colab-df-convert:hover {\n",
              "      background-color: #434B5C;\n",
              "      box-shadow: 0px 1px 3px 1px rgba(0, 0, 0, 0.15);\n",
              "      filter: drop-shadow(0px 1px 2px rgba(0, 0, 0, 0.3));\n",
              "      fill: #FFFFFF;\n",
              "    }\n",
              "  </style>\n",
              "\n",
              "    <script>\n",
              "      const buttonEl =\n",
              "        document.querySelector('#df-ef3ed869-3d05-42fc-818f-dac42b6b2647 button.colab-df-convert');\n",
              "      buttonEl.style.display =\n",
              "        google.colab.kernel.accessAllowed ? 'block' : 'none';\n",
              "\n",
              "      async function convertToInteractive(key) {\n",
              "        const element = document.querySelector('#df-ef3ed869-3d05-42fc-818f-dac42b6b2647');\n",
              "        const dataTable =\n",
              "          await google.colab.kernel.invokeFunction('convertToInteractive',\n",
              "                                                    [key], {});\n",
              "        if (!dataTable) return;\n",
              "\n",
              "        const docLinkHtml = 'Like what you see? Visit the ' +\n",
              "          '<a target=\"_blank\" href=https://colab.research.google.com/notebooks/data_table.ipynb>data table notebook</a>'\n",
              "          + ' to learn more about interactive tables.';\n",
              "        element.innerHTML = '';\n",
              "        dataTable['output_type'] = 'display_data';\n",
              "        await google.colab.output.renderOutput(dataTable, element);\n",
              "        const docLink = document.createElement('div');\n",
              "        docLink.innerHTML = docLinkHtml;\n",
              "        element.appendChild(docLink);\n",
              "      }\n",
              "    </script>\n",
              "  </div>\n",
              "\n",
              "\n",
              "<div id=\"df-d4655a7e-41cd-4a90-a349-c7c07d35285a\">\n",
              "  <button class=\"colab-df-quickchart\" onclick=\"quickchart('df-d4655a7e-41cd-4a90-a349-c7c07d35285a')\"\n",
              "            title=\"Suggest charts\"\n",
              "            style=\"display:none;\">\n",
              "\n",
              "<svg xmlns=\"http://www.w3.org/2000/svg\" height=\"24px\"viewBox=\"0 0 24 24\"\n",
              "     width=\"24px\">\n",
              "    <g>\n",
              "        <path d=\"M19 3H5c-1.1 0-2 .9-2 2v14c0 1.1.9 2 2 2h14c1.1 0 2-.9 2-2V5c0-1.1-.9-2-2-2zM9 17H7v-7h2v7zm4 0h-2V7h2v10zm4 0h-2v-4h2v4z\"/>\n",
              "    </g>\n",
              "</svg>\n",
              "  </button>\n",
              "\n",
              "<style>\n",
              "  .colab-df-quickchart {\n",
              "      --bg-color: #E8F0FE;\n",
              "      --fill-color: #1967D2;\n",
              "      --hover-bg-color: #E2EBFA;\n",
              "      --hover-fill-color: #174EA6;\n",
              "      --disabled-fill-color: #AAA;\n",
              "      --disabled-bg-color: #DDD;\n",
              "  }\n",
              "\n",
              "  [theme=dark] .colab-df-quickchart {\n",
              "      --bg-color: #3B4455;\n",
              "      --fill-color: #D2E3FC;\n",
              "      --hover-bg-color: #434B5C;\n",
              "      --hover-fill-color: #FFFFFF;\n",
              "      --disabled-bg-color: #3B4455;\n",
              "      --disabled-fill-color: #666;\n",
              "  }\n",
              "\n",
              "  .colab-df-quickchart {\n",
              "    background-color: var(--bg-color);\n",
              "    border: none;\n",
              "    border-radius: 50%;\n",
              "    cursor: pointer;\n",
              "    display: none;\n",
              "    fill: var(--fill-color);\n",
              "    height: 32px;\n",
              "    padding: 0;\n",
              "    width: 32px;\n",
              "  }\n",
              "\n",
              "  .colab-df-quickchart:hover {\n",
              "    background-color: var(--hover-bg-color);\n",
              "    box-shadow: 0 1px 2px rgba(60, 64, 67, 0.3), 0 1px 3px 1px rgba(60, 64, 67, 0.15);\n",
              "    fill: var(--button-hover-fill-color);\n",
              "  }\n",
              "\n",
              "  .colab-df-quickchart-complete:disabled,\n",
              "  .colab-df-quickchart-complete:disabled:hover {\n",
              "    background-color: var(--disabled-bg-color);\n",
              "    fill: var(--disabled-fill-color);\n",
              "    box-shadow: none;\n",
              "  }\n",
              "\n",
              "  .colab-df-spinner {\n",
              "    border: 2px solid var(--fill-color);\n",
              "    border-color: transparent;\n",
              "    border-bottom-color: var(--fill-color);\n",
              "    animation:\n",
              "      spin 1s steps(1) infinite;\n",
              "  }\n",
              "\n",
              "  @keyframes spin {\n",
              "    0% {\n",
              "      border-color: transparent;\n",
              "      border-bottom-color: var(--fill-color);\n",
              "      border-left-color: var(--fill-color);\n",
              "    }\n",
              "    20% {\n",
              "      border-color: transparent;\n",
              "      border-left-color: var(--fill-color);\n",
              "      border-top-color: var(--fill-color);\n",
              "    }\n",
              "    30% {\n",
              "      border-color: transparent;\n",
              "      border-left-color: var(--fill-color);\n",
              "      border-top-color: var(--fill-color);\n",
              "      border-right-color: var(--fill-color);\n",
              "    }\n",
              "    40% {\n",
              "      border-color: transparent;\n",
              "      border-right-color: var(--fill-color);\n",
              "      border-top-color: var(--fill-color);\n",
              "    }\n",
              "    60% {\n",
              "      border-color: transparent;\n",
              "      border-right-color: var(--fill-color);\n",
              "    }\n",
              "    80% {\n",
              "      border-color: transparent;\n",
              "      border-right-color: var(--fill-color);\n",
              "      border-bottom-color: var(--fill-color);\n",
              "    }\n",
              "    90% {\n",
              "      border-color: transparent;\n",
              "      border-bottom-color: var(--fill-color);\n",
              "    }\n",
              "  }\n",
              "</style>\n",
              "\n",
              "  <script>\n",
              "    async function quickchart(key) {\n",
              "      const quickchartButtonEl =\n",
              "        document.querySelector('#' + key + ' button');\n",
              "      quickchartButtonEl.disabled = true;  // To prevent multiple clicks.\n",
              "      quickchartButtonEl.classList.add('colab-df-spinner');\n",
              "      try {\n",
              "        const charts = await google.colab.kernel.invokeFunction(\n",
              "            'suggestCharts', [key], {});\n",
              "      } catch (error) {\n",
              "        console.error('Error during call to suggestCharts:', error);\n",
              "      }\n",
              "      quickchartButtonEl.classList.remove('colab-df-spinner');\n",
              "      quickchartButtonEl.classList.add('colab-df-quickchart-complete');\n",
              "    }\n",
              "    (() => {\n",
              "      let quickchartButtonEl =\n",
              "        document.querySelector('#df-d4655a7e-41cd-4a90-a349-c7c07d35285a button');\n",
              "      quickchartButtonEl.style.display =\n",
              "        google.colab.kernel.accessAllowed ? 'block' : 'none';\n",
              "    })();\n",
              "  </script>\n",
              "</div>\n",
              "\n",
              "  <div id=\"id_9546db92-13d4-46b2-ab11-b83c71895b2e\">\n",
              "    <style>\n",
              "      .colab-df-generate {\n",
              "        background-color: #E8F0FE;\n",
              "        border: none;\n",
              "        border-radius: 50%;\n",
              "        cursor: pointer;\n",
              "        display: none;\n",
              "        fill: #1967D2;\n",
              "        height: 32px;\n",
              "        padding: 0 0 0 0;\n",
              "        width: 32px;\n",
              "      }\n",
              "\n",
              "      .colab-df-generate:hover {\n",
              "        background-color: #E2EBFA;\n",
              "        box-shadow: 0px 1px 2px rgba(60, 64, 67, 0.3), 0px 1px 3px 1px rgba(60, 64, 67, 0.15);\n",
              "        fill: #174EA6;\n",
              "      }\n",
              "\n",
              "      [theme=dark] .colab-df-generate {\n",
              "        background-color: #3B4455;\n",
              "        fill: #D2E3FC;\n",
              "      }\n",
              "\n",
              "      [theme=dark] .colab-df-generate:hover {\n",
              "        background-color: #434B5C;\n",
              "        box-shadow: 0px 1px 3px 1px rgba(0, 0, 0, 0.15);\n",
              "        filter: drop-shadow(0px 1px 2px rgba(0, 0, 0, 0.3));\n",
              "        fill: #FFFFFF;\n",
              "      }\n",
              "    </style>\n",
              "    <button class=\"colab-df-generate\" onclick=\"generateWithVariable('xgbr_fi')\"\n",
              "            title=\"Generate code using this dataframe.\"\n",
              "            style=\"display:none;\">\n",
              "\n",
              "  <svg xmlns=\"http://www.w3.org/2000/svg\" height=\"24px\"viewBox=\"0 0 24 24\"\n",
              "       width=\"24px\">\n",
              "    <path d=\"M7,19H8.4L18.45,9,17,7.55,7,17.6ZM5,21V16.75L18.45,3.32a2,2,0,0,1,2.83,0l1.4,1.43a1.91,1.91,0,0,1,.58,1.4,1.91,1.91,0,0,1-.58,1.4L9.25,21ZM18.45,9,17,7.55Zm-12,3A5.31,5.31,0,0,0,4.9,8.1,5.31,5.31,0,0,0,1,6.5,5.31,5.31,0,0,0,4.9,4.9,5.31,5.31,0,0,0,6.5,1,5.31,5.31,0,0,0,8.1,4.9,5.31,5.31,0,0,0,12,6.5,5.46,5.46,0,0,0,6.5,12Z\"/>\n",
              "  </svg>\n",
              "    </button>\n",
              "    <script>\n",
              "      (() => {\n",
              "      const buttonEl =\n",
              "        document.querySelector('#id_9546db92-13d4-46b2-ab11-b83c71895b2e button.colab-df-generate');\n",
              "      buttonEl.style.display =\n",
              "        google.colab.kernel.accessAllowed ? 'block' : 'none';\n",
              "\n",
              "      buttonEl.onclick = () => {\n",
              "        google.colab.notebook.generateWithVariable('xgbr_fi');\n",
              "      }\n",
              "      })();\n",
              "    </script>\n",
              "  </div>\n",
              "\n",
              "    </div>\n",
              "  </div>\n"
            ],
            "application/vnd.google.colaboratory.intrinsic+json": {
              "type": "dataframe",
              "variable_name": "xgbr_fi",
              "summary": "{\n  \"name\": \"xgbr_fi\",\n  \"rows\": 10,\n  \"fields\": [\n    {\n      \"column\": \"Feature\",\n      \"properties\": {\n        \"dtype\": \"string\",\n        \"num_unique_values\": 10,\n        \"samples\": [\n          \"flat_model_Terrace\",\n          \"flat_type_3 ROOM\",\n          \"flat_type_2 ROOM\"\n        ],\n        \"semantic_type\": \"\",\n        \"description\": \"\"\n      }\n    },\n    {\n      \"column\": \"Importance\",\n      \"properties\": {\n        \"dtype\": \"float32\",\n        \"num_unique_values\": 10,\n        \"samples\": [\n          0.02516978234052658,\n          0.08090253919363022,\n          0.030712036415934563\n        ],\n        \"semantic_type\": \"\",\n        \"description\": \"\"\n      }\n    }\n  ]\n}"
            }
          },
          "metadata": {}
        }
      ]
    },
    {
      "cell_type": "markdown",
      "source": [
        "## Hybridise Regression"
      ],
      "metadata": {
        "id": "erxdWNQ04ms3"
      }
    },
    {
      "cell_type": "markdown",
      "source": [
        "Lets attempt to aggregate the regression predictions from the top 2 models (XGBR and LGBM) and analyse whether the ensemble of these 2 models results in a better performance."
      ],
      "metadata": {
        "id": "He6idcrj4ty4"
      }
    },
    {
      "cell_type": "code",
      "source": [
        "y_pred_hybrid = (np.array(y_pred_xgb) + np.array(y_pred_lgbm)) / 2"
      ],
      "metadata": {
        "id": "2TlqtQUV3GoX"
      },
      "execution_count": null,
      "outputs": []
    },
    {
      "cell_type": "code",
      "source": [
        "hybrid_results = evaluate_results(\"LGBM + XGBRS\", y_test, y_pred_hybrid)"
      ],
      "metadata": {
        "colab": {
          "base_uri": "https://localhost:8080/"
        },
        "id": "ItfIEXTK7skJ",
        "outputId": "6b3c1f68-0418-40a4-db12-6076f976335c"
      },
      "execution_count": null,
      "outputs": [
        {
          "output_type": "stream",
          "name": "stdout",
          "text": [
            "LGBM + XGBRS: Mean Absolute Error: 27144.774272233914\n",
            "LGBM + XGBRS: R-squared score: 0.9543239335450038\n",
            "LGBM + XGBRS: Root Mean Squared Error: 38000.837696084134\n",
            "LGBM + XGBRS: Mean Absolute Percentage Error: 4.55458475653832 %\n"
          ]
        }
      ]
    },
    {
      "cell_type": "markdown",
      "source": [
        "It is very interesting to note that the average of the predictions from LGBM and XGBR resulted in a slightly better MAE as compared to the individual models. The LGBM individual model had a MAE of 28049 and XGBR had a MAE of 27568."
      ],
      "metadata": {
        "id": "cJ7EPTsb9XSA"
      }
    },
    {
      "cell_type": "code",
      "source": [
        "pd.DataFrame(hybrid_results)"
      ],
      "metadata": {
        "colab": {
          "base_uri": "https://localhost:8080/",
          "height": 175
        },
        "id": "wK9IJfN28K-3",
        "outputId": "852b5fef-dd9f-4dd2-d167-002eb1327922"
      },
      "execution_count": null,
      "outputs": [
        {
          "output_type": "execute_result",
          "data": {
            "text/plain": [
              "                                LGBM + XGBRS\n",
              "Mean Absolute Error             27144.774272\n",
              "Mean Absolute Percentage Error      4.554585\n",
              "R-squared score                     0.954324\n",
              "Root Mean Squared Error         38000.837696"
            ],
            "text/html": [
              "\n",
              "  <div id=\"df-df9f2ba3-62d8-4271-9fc8-6e3c6c62fcdf\" class=\"colab-df-container\">\n",
              "    <div>\n",
              "<style scoped>\n",
              "    .dataframe tbody tr th:only-of-type {\n",
              "        vertical-align: middle;\n",
              "    }\n",
              "\n",
              "    .dataframe tbody tr th {\n",
              "        vertical-align: top;\n",
              "    }\n",
              "\n",
              "    .dataframe thead th {\n",
              "        text-align: right;\n",
              "    }\n",
              "</style>\n",
              "<table border=\"1\" class=\"dataframe\">\n",
              "  <thead>\n",
              "    <tr style=\"text-align: right;\">\n",
              "      <th></th>\n",
              "      <th>LGBM + XGBRS</th>\n",
              "    </tr>\n",
              "  </thead>\n",
              "  <tbody>\n",
              "    <tr>\n",
              "      <th>Mean Absolute Error</th>\n",
              "      <td>27144.774272</td>\n",
              "    </tr>\n",
              "    <tr>\n",
              "      <th>Mean Absolute Percentage Error</th>\n",
              "      <td>4.554585</td>\n",
              "    </tr>\n",
              "    <tr>\n",
              "      <th>R-squared score</th>\n",
              "      <td>0.954324</td>\n",
              "    </tr>\n",
              "    <tr>\n",
              "      <th>Root Mean Squared Error</th>\n",
              "      <td>38000.837696</td>\n",
              "    </tr>\n",
              "  </tbody>\n",
              "</table>\n",
              "</div>\n",
              "    <div class=\"colab-df-buttons\">\n",
              "\n",
              "  <div class=\"colab-df-container\">\n",
              "    <button class=\"colab-df-convert\" onclick=\"convertToInteractive('df-df9f2ba3-62d8-4271-9fc8-6e3c6c62fcdf')\"\n",
              "            title=\"Convert this dataframe to an interactive table.\"\n",
              "            style=\"display:none;\">\n",
              "\n",
              "  <svg xmlns=\"http://www.w3.org/2000/svg\" height=\"24px\" viewBox=\"0 -960 960 960\">\n",
              "    <path d=\"M120-120v-720h720v720H120Zm60-500h600v-160H180v160Zm220 220h160v-160H400v160Zm0 220h160v-160H400v160ZM180-400h160v-160H180v160Zm440 0h160v-160H620v160ZM180-180h160v-160H180v160Zm440 0h160v-160H620v160Z\"/>\n",
              "  </svg>\n",
              "    </button>\n",
              "\n",
              "  <style>\n",
              "    .colab-df-container {\n",
              "      display:flex;\n",
              "      gap: 12px;\n",
              "    }\n",
              "\n",
              "    .colab-df-convert {\n",
              "      background-color: #E8F0FE;\n",
              "      border: none;\n",
              "      border-radius: 50%;\n",
              "      cursor: pointer;\n",
              "      display: none;\n",
              "      fill: #1967D2;\n",
              "      height: 32px;\n",
              "      padding: 0 0 0 0;\n",
              "      width: 32px;\n",
              "    }\n",
              "\n",
              "    .colab-df-convert:hover {\n",
              "      background-color: #E2EBFA;\n",
              "      box-shadow: 0px 1px 2px rgba(60, 64, 67, 0.3), 0px 1px 3px 1px rgba(60, 64, 67, 0.15);\n",
              "      fill: #174EA6;\n",
              "    }\n",
              "\n",
              "    .colab-df-buttons div {\n",
              "      margin-bottom: 4px;\n",
              "    }\n",
              "\n",
              "    [theme=dark] .colab-df-convert {\n",
              "      background-color: #3B4455;\n",
              "      fill: #D2E3FC;\n",
              "    }\n",
              "\n",
              "    [theme=dark] .colab-df-convert:hover {\n",
              "      background-color: #434B5C;\n",
              "      box-shadow: 0px 1px 3px 1px rgba(0, 0, 0, 0.15);\n",
              "      filter: drop-shadow(0px 1px 2px rgba(0, 0, 0, 0.3));\n",
              "      fill: #FFFFFF;\n",
              "    }\n",
              "  </style>\n",
              "\n",
              "    <script>\n",
              "      const buttonEl =\n",
              "        document.querySelector('#df-df9f2ba3-62d8-4271-9fc8-6e3c6c62fcdf button.colab-df-convert');\n",
              "      buttonEl.style.display =\n",
              "        google.colab.kernel.accessAllowed ? 'block' : 'none';\n",
              "\n",
              "      async function convertToInteractive(key) {\n",
              "        const element = document.querySelector('#df-df9f2ba3-62d8-4271-9fc8-6e3c6c62fcdf');\n",
              "        const dataTable =\n",
              "          await google.colab.kernel.invokeFunction('convertToInteractive',\n",
              "                                                    [key], {});\n",
              "        if (!dataTable) return;\n",
              "\n",
              "        const docLinkHtml = 'Like what you see? Visit the ' +\n",
              "          '<a target=\"_blank\" href=https://colab.research.google.com/notebooks/data_table.ipynb>data table notebook</a>'\n",
              "          + ' to learn more about interactive tables.';\n",
              "        element.innerHTML = '';\n",
              "        dataTable['output_type'] = 'display_data';\n",
              "        await google.colab.output.renderOutput(dataTable, element);\n",
              "        const docLink = document.createElement('div');\n",
              "        docLink.innerHTML = docLinkHtml;\n",
              "        element.appendChild(docLink);\n",
              "      }\n",
              "    </script>\n",
              "  </div>\n",
              "\n",
              "\n",
              "<div id=\"df-85e2b95a-986c-49f0-9f44-2119e540e2bd\">\n",
              "  <button class=\"colab-df-quickchart\" onclick=\"quickchart('df-85e2b95a-986c-49f0-9f44-2119e540e2bd')\"\n",
              "            title=\"Suggest charts\"\n",
              "            style=\"display:none;\">\n",
              "\n",
              "<svg xmlns=\"http://www.w3.org/2000/svg\" height=\"24px\"viewBox=\"0 0 24 24\"\n",
              "     width=\"24px\">\n",
              "    <g>\n",
              "        <path d=\"M19 3H5c-1.1 0-2 .9-2 2v14c0 1.1.9 2 2 2h14c1.1 0 2-.9 2-2V5c0-1.1-.9-2-2-2zM9 17H7v-7h2v7zm4 0h-2V7h2v10zm4 0h-2v-4h2v4z\"/>\n",
              "    </g>\n",
              "</svg>\n",
              "  </button>\n",
              "\n",
              "<style>\n",
              "  .colab-df-quickchart {\n",
              "      --bg-color: #E8F0FE;\n",
              "      --fill-color: #1967D2;\n",
              "      --hover-bg-color: #E2EBFA;\n",
              "      --hover-fill-color: #174EA6;\n",
              "      --disabled-fill-color: #AAA;\n",
              "      --disabled-bg-color: #DDD;\n",
              "  }\n",
              "\n",
              "  [theme=dark] .colab-df-quickchart {\n",
              "      --bg-color: #3B4455;\n",
              "      --fill-color: #D2E3FC;\n",
              "      --hover-bg-color: #434B5C;\n",
              "      --hover-fill-color: #FFFFFF;\n",
              "      --disabled-bg-color: #3B4455;\n",
              "      --disabled-fill-color: #666;\n",
              "  }\n",
              "\n",
              "  .colab-df-quickchart {\n",
              "    background-color: var(--bg-color);\n",
              "    border: none;\n",
              "    border-radius: 50%;\n",
              "    cursor: pointer;\n",
              "    display: none;\n",
              "    fill: var(--fill-color);\n",
              "    height: 32px;\n",
              "    padding: 0;\n",
              "    width: 32px;\n",
              "  }\n",
              "\n",
              "  .colab-df-quickchart:hover {\n",
              "    background-color: var(--hover-bg-color);\n",
              "    box-shadow: 0 1px 2px rgba(60, 64, 67, 0.3), 0 1px 3px 1px rgba(60, 64, 67, 0.15);\n",
              "    fill: var(--button-hover-fill-color);\n",
              "  }\n",
              "\n",
              "  .colab-df-quickchart-complete:disabled,\n",
              "  .colab-df-quickchart-complete:disabled:hover {\n",
              "    background-color: var(--disabled-bg-color);\n",
              "    fill: var(--disabled-fill-color);\n",
              "    box-shadow: none;\n",
              "  }\n",
              "\n",
              "  .colab-df-spinner {\n",
              "    border: 2px solid var(--fill-color);\n",
              "    border-color: transparent;\n",
              "    border-bottom-color: var(--fill-color);\n",
              "    animation:\n",
              "      spin 1s steps(1) infinite;\n",
              "  }\n",
              "\n",
              "  @keyframes spin {\n",
              "    0% {\n",
              "      border-color: transparent;\n",
              "      border-bottom-color: var(--fill-color);\n",
              "      border-left-color: var(--fill-color);\n",
              "    }\n",
              "    20% {\n",
              "      border-color: transparent;\n",
              "      border-left-color: var(--fill-color);\n",
              "      border-top-color: var(--fill-color);\n",
              "    }\n",
              "    30% {\n",
              "      border-color: transparent;\n",
              "      border-left-color: var(--fill-color);\n",
              "      border-top-color: var(--fill-color);\n",
              "      border-right-color: var(--fill-color);\n",
              "    }\n",
              "    40% {\n",
              "      border-color: transparent;\n",
              "      border-right-color: var(--fill-color);\n",
              "      border-top-color: var(--fill-color);\n",
              "    }\n",
              "    60% {\n",
              "      border-color: transparent;\n",
              "      border-right-color: var(--fill-color);\n",
              "    }\n",
              "    80% {\n",
              "      border-color: transparent;\n",
              "      border-right-color: var(--fill-color);\n",
              "      border-bottom-color: var(--fill-color);\n",
              "    }\n",
              "    90% {\n",
              "      border-color: transparent;\n",
              "      border-bottom-color: var(--fill-color);\n",
              "    }\n",
              "  }\n",
              "</style>\n",
              "\n",
              "  <script>\n",
              "    async function quickchart(key) {\n",
              "      const quickchartButtonEl =\n",
              "        document.querySelector('#' + key + ' button');\n",
              "      quickchartButtonEl.disabled = true;  // To prevent multiple clicks.\n",
              "      quickchartButtonEl.classList.add('colab-df-spinner');\n",
              "      try {\n",
              "        const charts = await google.colab.kernel.invokeFunction(\n",
              "            'suggestCharts', [key], {});\n",
              "      } catch (error) {\n",
              "        console.error('Error during call to suggestCharts:', error);\n",
              "      }\n",
              "      quickchartButtonEl.classList.remove('colab-df-spinner');\n",
              "      quickchartButtonEl.classList.add('colab-df-quickchart-complete');\n",
              "    }\n",
              "    (() => {\n",
              "      let quickchartButtonEl =\n",
              "        document.querySelector('#df-85e2b95a-986c-49f0-9f44-2119e540e2bd button');\n",
              "      quickchartButtonEl.style.display =\n",
              "        google.colab.kernel.accessAllowed ? 'block' : 'none';\n",
              "    })();\n",
              "  </script>\n",
              "</div>\n",
              "\n",
              "    </div>\n",
              "  </div>\n"
            ],
            "application/vnd.google.colaboratory.intrinsic+json": {
              "type": "dataframe",
              "summary": "{\n  \"name\": \"pd\",\n  \"rows\": 4,\n  \"fields\": [\n    {\n      \"column\": \"LGBM + XGBRS\",\n      \"properties\": {\n        \"dtype\": \"number\",\n        \"std\": 19319.552441908916,\n        \"min\": 0.9543239335450038,\n        \"max\": 38000.837696084134,\n        \"num_unique_values\": 4,\n        \"samples\": [\n          4.55458475653832,\n          38000.837696084134,\n          27144.774272233914\n        ],\n        \"semantic_type\": \"\",\n        \"description\": \"\"\n      }\n    }\n  ]\n}"
            }
          },
          "metadata": {},
          "execution_count": 345
        }
      ]
    },
    {
      "cell_type": "markdown",
      "source": [
        "# Conclusions\n",
        "\n",
        "\n"
      ],
      "metadata": {
        "id": "LPyH4QydbxL8"
      }
    },
    {
      "cell_type": "markdown",
      "source": [
        "This project placed a lot of emphasis in creating a robust feature engineering strategy to generate meaningful features to improve our model performances. This is evident from the feature importance analysis which had displayed some features which were not originally present in the Transactions dataset. Importance features like shortest_distance_to_closest_mrt (km), is_elite_closest_pri_sch, year_completed were either generated from feature engineering or found from external datasets.  \n",
        "\n",
        "\n",
        "When initially exploring the use of baseline models, these models perform sufficiently well with a acceptable MAE of approximately 50000. We also noted that the performance of our Neural Network was almost similar to the performance of the baseline regression models (Linear Regression, Decision Tree Regressor). This was a shock to us as we had even attempted to reduce overfitting using Dropout Layers.\n",
        "\n",
        "\n",
        "Given that our preprocessed dataset comprised over 190 features, this high dimensionality likely introduced additional noise and complexity, exacerbating the non-ensemble models' tendencies to overfit. Recognising these challenges, we dedicated further efforts to investigate and implement more complex techniques such as Random Forest Regressor, LightGBM and XGBoost to make much more accurate predictions.\n",
        "\n",
        "We also explored the use of further ensembling the predictions of both of our top models and found that the Hybridised model had a better performance as compared to the individual models. This was a quick and simple way for us to make better predictions by ensembling the best models together.\n"
      ],
      "metadata": {
        "id": "FgOK28DdLERY"
      }
    }
  ],
  "metadata": {
    "colab": {
      "provenance": [],
      "collapsed_sections": [
        "4t3x74eRnYEc",
        "3CWuXLvBnYEc",
        "kcFQ7596oa9x",
        "5XZUMLicnYEa",
        "GJaqADMH9dxi"
      ]
    },
    "kernelspec": {
      "display_name": "Python 3",
      "language": "python",
      "name": "python3"
    },
    "language_info": {
      "codemirror_mode": {
        "name": "ipython",
        "version": 3
      },
      "file_extension": ".py",
      "mimetype": "text/x-python",
      "name": "python",
      "nbconvert_exporter": "python",
      "pygments_lexer": "ipython3",
      "version": "3.11.4"
    }
  },
  "nbformat": 4,
  "nbformat_minor": 0
}